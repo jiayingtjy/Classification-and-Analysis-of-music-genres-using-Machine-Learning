{
 "cells": [
  {
   "cell_type": "markdown",
   "id": "7688e134",
   "metadata": {},
   "source": [
    "<h2 style=\"background-color:salmon;border-radius:5px;text-align:center;padding:15px;color:white;\">Project Name: Classification and Analysis of music genres</h2>\n",
    "<h4>Done by: TEY JIA YING (2027074D)</h4>"
   ]
  },
  {
   "cell_type": "markdown",
   "id": "fed3d54c",
   "metadata": {},
   "source": [
    "<h2 style=\"background-color:lightpink;border-radius:5px;text-align:center;padding:7px;color:white;\">Overview of Project</h2>"
   ]
  },
  {
   "cell_type": "markdown",
   "id": "b76170eb",
   "metadata": {},
   "source": [
    "<h3>Overview:</h3>\n",
    "I have structured the project into 5 key sections. Below, I will share with you the steps I took together with insights for each section.\n",
    "\n",
    "1. [Data Understanding](#1)\n",
    "<br><br>\n",
    "2. [Data Preparation](#2)<br>\n",
    "    2.1 [Replacing Missing Values](#21)<br>\n",
    "    2.2 [Removing Duplicates](#22)<br>\n",
    "    2.3 [Converting duration from ms to min](#23)<br>\n",
    "    2.4 [Removing Outliers](#24)<br>\n",
    "<br>\n",
    "3. [Exploratary Data Analysis](#3)<br>\n",
    "    3.1 [Descriptive Statistical Analysis](#31)<br>\n",
    "    3.2 [Correlation Analysis](#32)<br>\n",
    "    3.3 [Class Analysis](#33)<br>\n",
    "    3.4 [Further Analysis of Music Charateristics and Class](#35)<br>\n",
    " <br>   \n",
    "4. [Modelling,Evaluation and Prediction](#7)<br>\n",
    "    4.1  [Preparing Data for Modelling](#8)<br>\n",
    "    4.2  [Modelling](#9)\n",
    "    - [Decision Tree Classifier](#10)<br>\n",
    "    - [Feature Selection](#100)<br>\n",
    "    - [K-Neighbors Classifier](#11)<br>\n",
    "    - [Random Forest Classifier](#12)<br>\n",
    "    - [XGBoost Classifier](#13)<br>\n",
    "    - [Gradient Boosting Classifier](#14)<br>\n",
    "    - [Multinomial Nayes Bayes](#15)<br>\n",
    "    - [Stochastic Gradient Descent(SGD) Classifier](#16)<br>\n",
    "    - [One-Vs-Rest Classifier](#17)<br>\n",
    "    - [Neural Network](#18)<br>\n",
    "<br>\n",
    "5. [Comparison of models](#5)\n",
    "<br><br>\n",
    "6. [Conclusion](#6)\n",
    "\n",
    "**<b>Note: Click on the links to go to the respective section</b>**"
   ]
  },
  {
   "cell_type": "markdown",
   "id": "8d2c1442",
   "metadata": {},
   "source": [
    "<a id='1'><h2 style=\"background-color:lightpink;border-radius:5px;text-align:center;padding:7px;color:white;\"><font color=\"white\">1. Data Understanding</h2>"
   ]
  },
  {
   "cell_type": "code",
   "execution_count": 1,
   "id": "3f93ca6a",
   "metadata": {},
   "outputs": [],
   "source": [
    "#import all modules\n",
    "import pandas as pd \n",
    "\n",
    "import seaborn as sns \n",
    "import matplotlib.pyplot as plt\n",
    "import numpy as np\n",
    "\n",
    "from sklearn.preprocessing import LabelEncoder\n",
    "from scipy import stats\n",
    "# Tensorflow and Keras are two packages for creating neural network models.\n",
    "import tensorflow as tf\n",
    "from tensorflow import keras\n",
    "from sklearn.model_selection import train_test_split\n",
    "\n",
    "# import NN layers and other componenets.\n",
    "from tensorflow.keras.models import Sequential\n",
    "from tensorflow.keras.layers import Activation, Dense, BatchNormalization, Dropout\n",
    "from tensorflow.keras import optimizers\n",
    "import matplotlib.pyplot as plt # for plotting data and creating different charts.\n",
    "import numpy as np # for math and arrays\n",
    "import pandas as pd # data from for the data.\n",
    "import seaborn as sns # for plotting.\n",
    "from sklearn import preprocessing\n",
    "from sklearn import linear_model\n",
    "from sklearn import datasets"
   ]
  },
  {
   "cell_type": "code",
   "execution_count": 2,
   "id": "a95c5091",
   "metadata": {},
   "outputs": [
    {
     "data": {
      "text/html": [
       "<div>\n",
       "<style scoped>\n",
       "    .dataframe tbody tr th:only-of-type {\n",
       "        vertical-align: middle;\n",
       "    }\n",
       "\n",
       "    .dataframe tbody tr th {\n",
       "        vertical-align: top;\n",
       "    }\n",
       "\n",
       "    .dataframe thead th {\n",
       "        text-align: right;\n",
       "    }\n",
       "</style>\n",
       "<table border=\"1\" class=\"dataframe\">\n",
       "  <thead>\n",
       "    <tr style=\"text-align: right;\">\n",
       "      <th></th>\n",
       "      <th>Artist Name</th>\n",
       "      <th>Track Name</th>\n",
       "      <th>Popularity</th>\n",
       "      <th>danceability</th>\n",
       "      <th>energy</th>\n",
       "      <th>key</th>\n",
       "      <th>loudness</th>\n",
       "      <th>mode</th>\n",
       "      <th>speechiness</th>\n",
       "      <th>acousticness</th>\n",
       "      <th>instrumentalness</th>\n",
       "      <th>liveness</th>\n",
       "      <th>valence</th>\n",
       "      <th>tempo</th>\n",
       "      <th>duration_in min/ms</th>\n",
       "      <th>time_signature</th>\n",
       "      <th>Class</th>\n",
       "    </tr>\n",
       "  </thead>\n",
       "  <tbody>\n",
       "    <tr>\n",
       "      <th>0</th>\n",
       "      <td>Bruno Mars</td>\n",
       "      <td>That's What I Like (feat. Gucci Mane)</td>\n",
       "      <td>60.0</td>\n",
       "      <td>0.854</td>\n",
       "      <td>0.564</td>\n",
       "      <td>1.0</td>\n",
       "      <td>-4.964</td>\n",
       "      <td>1</td>\n",
       "      <td>0.0485</td>\n",
       "      <td>0.017100</td>\n",
       "      <td>NaN</td>\n",
       "      <td>0.0849</td>\n",
       "      <td>0.8990</td>\n",
       "      <td>134.071</td>\n",
       "      <td>234596.0</td>\n",
       "      <td>4</td>\n",
       "      <td>5</td>\n",
       "    </tr>\n",
       "    <tr>\n",
       "      <th>1</th>\n",
       "      <td>Boston</td>\n",
       "      <td>Hitch a Ride</td>\n",
       "      <td>54.0</td>\n",
       "      <td>0.382</td>\n",
       "      <td>0.814</td>\n",
       "      <td>3.0</td>\n",
       "      <td>-7.230</td>\n",
       "      <td>1</td>\n",
       "      <td>0.0406</td>\n",
       "      <td>0.001100</td>\n",
       "      <td>0.004010</td>\n",
       "      <td>0.1010</td>\n",
       "      <td>0.5690</td>\n",
       "      <td>116.454</td>\n",
       "      <td>251733.0</td>\n",
       "      <td>4</td>\n",
       "      <td>10</td>\n",
       "    </tr>\n",
       "    <tr>\n",
       "      <th>2</th>\n",
       "      <td>The Raincoats</td>\n",
       "      <td>No Side to Fall In</td>\n",
       "      <td>35.0</td>\n",
       "      <td>0.434</td>\n",
       "      <td>0.614</td>\n",
       "      <td>6.0</td>\n",
       "      <td>-8.334</td>\n",
       "      <td>1</td>\n",
       "      <td>0.0525</td>\n",
       "      <td>0.486000</td>\n",
       "      <td>0.000196</td>\n",
       "      <td>0.3940</td>\n",
       "      <td>0.7870</td>\n",
       "      <td>147.681</td>\n",
       "      <td>109667.0</td>\n",
       "      <td>4</td>\n",
       "      <td>6</td>\n",
       "    </tr>\n",
       "    <tr>\n",
       "      <th>3</th>\n",
       "      <td>Deno</td>\n",
       "      <td>Lingo (feat. J.I &amp; Chunkz)</td>\n",
       "      <td>66.0</td>\n",
       "      <td>0.853</td>\n",
       "      <td>0.597</td>\n",
       "      <td>10.0</td>\n",
       "      <td>-6.528</td>\n",
       "      <td>0</td>\n",
       "      <td>0.0555</td>\n",
       "      <td>0.021200</td>\n",
       "      <td>NaN</td>\n",
       "      <td>0.1220</td>\n",
       "      <td>0.5690</td>\n",
       "      <td>107.033</td>\n",
       "      <td>173968.0</td>\n",
       "      <td>4</td>\n",
       "      <td>5</td>\n",
       "    </tr>\n",
       "    <tr>\n",
       "      <th>4</th>\n",
       "      <td>Red Hot Chili Peppers</td>\n",
       "      <td>Nobody Weird Like Me - Remastered</td>\n",
       "      <td>53.0</td>\n",
       "      <td>0.167</td>\n",
       "      <td>0.975</td>\n",
       "      <td>2.0</td>\n",
       "      <td>-4.279</td>\n",
       "      <td>1</td>\n",
       "      <td>0.2160</td>\n",
       "      <td>0.000169</td>\n",
       "      <td>0.016100</td>\n",
       "      <td>0.1720</td>\n",
       "      <td>0.0918</td>\n",
       "      <td>199.060</td>\n",
       "      <td>229960.0</td>\n",
       "      <td>4</td>\n",
       "      <td>10</td>\n",
       "    </tr>\n",
       "    <tr>\n",
       "      <th>...</th>\n",
       "      <td>...</td>\n",
       "      <td>...</td>\n",
       "      <td>...</td>\n",
       "      <td>...</td>\n",
       "      <td>...</td>\n",
       "      <td>...</td>\n",
       "      <td>...</td>\n",
       "      <td>...</td>\n",
       "      <td>...</td>\n",
       "      <td>...</td>\n",
       "      <td>...</td>\n",
       "      <td>...</td>\n",
       "      <td>...</td>\n",
       "      <td>...</td>\n",
       "      <td>...</td>\n",
       "      <td>...</td>\n",
       "      <td>...</td>\n",
       "    </tr>\n",
       "    <tr>\n",
       "      <th>17991</th>\n",
       "      <td>Green-House</td>\n",
       "      <td>Find Home</td>\n",
       "      <td>35.0</td>\n",
       "      <td>0.166</td>\n",
       "      <td>0.109</td>\n",
       "      <td>7.0</td>\n",
       "      <td>-17.100</td>\n",
       "      <td>0</td>\n",
       "      <td>0.0413</td>\n",
       "      <td>0.993000</td>\n",
       "      <td>0.824000</td>\n",
       "      <td>0.0984</td>\n",
       "      <td>0.1770</td>\n",
       "      <td>171.587</td>\n",
       "      <td>193450.0</td>\n",
       "      <td>3</td>\n",
       "      <td>6</td>\n",
       "    </tr>\n",
       "    <tr>\n",
       "      <th>17992</th>\n",
       "      <td>Micatone</td>\n",
       "      <td>All Gone</td>\n",
       "      <td>27.0</td>\n",
       "      <td>0.638</td>\n",
       "      <td>0.223</td>\n",
       "      <td>11.0</td>\n",
       "      <td>-10.174</td>\n",
       "      <td>0</td>\n",
       "      <td>0.0329</td>\n",
       "      <td>0.858000</td>\n",
       "      <td>0.000016</td>\n",
       "      <td>0.0705</td>\n",
       "      <td>0.3350</td>\n",
       "      <td>73.016</td>\n",
       "      <td>257067.0</td>\n",
       "      <td>4</td>\n",
       "      <td>2</td>\n",
       "    </tr>\n",
       "    <tr>\n",
       "      <th>17993</th>\n",
       "      <td>Smash Hit Combo</td>\n",
       "      <td>Peine perdue</td>\n",
       "      <td>34.0</td>\n",
       "      <td>0.558</td>\n",
       "      <td>0.981</td>\n",
       "      <td>4.0</td>\n",
       "      <td>-4.683</td>\n",
       "      <td>0</td>\n",
       "      <td>0.0712</td>\n",
       "      <td>0.000030</td>\n",
       "      <td>0.000136</td>\n",
       "      <td>0.6660</td>\n",
       "      <td>0.2620</td>\n",
       "      <td>105.000</td>\n",
       "      <td>216222.0</td>\n",
       "      <td>4</td>\n",
       "      <td>8</td>\n",
       "    </tr>\n",
       "    <tr>\n",
       "      <th>17994</th>\n",
       "      <td>Beherit</td>\n",
       "      <td>Salomon's Gate</td>\n",
       "      <td>29.0</td>\n",
       "      <td>0.215</td>\n",
       "      <td>0.805</td>\n",
       "      <td>6.0</td>\n",
       "      <td>-12.757</td>\n",
       "      <td>0</td>\n",
       "      <td>0.1340</td>\n",
       "      <td>0.001290</td>\n",
       "      <td>0.916000</td>\n",
       "      <td>0.2560</td>\n",
       "      <td>0.3550</td>\n",
       "      <td>131.363</td>\n",
       "      <td>219693.0</td>\n",
       "      <td>4</td>\n",
       "      <td>8</td>\n",
       "    </tr>\n",
       "    <tr>\n",
       "      <th>17995</th>\n",
       "      <td>The Raconteurs</td>\n",
       "      <td>Broken Boy Soldier</td>\n",
       "      <td>43.0</td>\n",
       "      <td>0.400</td>\n",
       "      <td>0.853</td>\n",
       "      <td>4.0</td>\n",
       "      <td>-5.320</td>\n",
       "      <td>0</td>\n",
       "      <td>0.0591</td>\n",
       "      <td>0.006040</td>\n",
       "      <td>0.212000</td>\n",
       "      <td>0.3340</td>\n",
       "      <td>0.3770</td>\n",
       "      <td>138.102</td>\n",
       "      <td>182227.0</td>\n",
       "      <td>4</td>\n",
       "      <td>10</td>\n",
       "    </tr>\n",
       "  </tbody>\n",
       "</table>\n",
       "<p>17996 rows × 17 columns</p>\n",
       "</div>"
      ],
      "text/plain": [
       "                 Artist Name                             Track Name  \\\n",
       "0                 Bruno Mars  That's What I Like (feat. Gucci Mane)   \n",
       "1                     Boston                           Hitch a Ride   \n",
       "2              The Raincoats                     No Side to Fall In   \n",
       "3                       Deno             Lingo (feat. J.I & Chunkz)   \n",
       "4      Red Hot Chili Peppers      Nobody Weird Like Me - Remastered   \n",
       "...                      ...                                    ...   \n",
       "17991            Green-House                              Find Home   \n",
       "17992               Micatone                               All Gone   \n",
       "17993        Smash Hit Combo                           Peine perdue   \n",
       "17994                Beherit                         Salomon's Gate   \n",
       "17995         The Raconteurs                     Broken Boy Soldier   \n",
       "\n",
       "       Popularity  danceability  energy   key  loudness  mode  speechiness  \\\n",
       "0            60.0         0.854   0.564   1.0    -4.964     1       0.0485   \n",
       "1            54.0         0.382   0.814   3.0    -7.230     1       0.0406   \n",
       "2            35.0         0.434   0.614   6.0    -8.334     1       0.0525   \n",
       "3            66.0         0.853   0.597  10.0    -6.528     0       0.0555   \n",
       "4            53.0         0.167   0.975   2.0    -4.279     1       0.2160   \n",
       "...           ...           ...     ...   ...       ...   ...          ...   \n",
       "17991        35.0         0.166   0.109   7.0   -17.100     0       0.0413   \n",
       "17992        27.0         0.638   0.223  11.0   -10.174     0       0.0329   \n",
       "17993        34.0         0.558   0.981   4.0    -4.683     0       0.0712   \n",
       "17994        29.0         0.215   0.805   6.0   -12.757     0       0.1340   \n",
       "17995        43.0         0.400   0.853   4.0    -5.320     0       0.0591   \n",
       "\n",
       "       acousticness  instrumentalness  liveness  valence    tempo  \\\n",
       "0          0.017100               NaN    0.0849   0.8990  134.071   \n",
       "1          0.001100          0.004010    0.1010   0.5690  116.454   \n",
       "2          0.486000          0.000196    0.3940   0.7870  147.681   \n",
       "3          0.021200               NaN    0.1220   0.5690  107.033   \n",
       "4          0.000169          0.016100    0.1720   0.0918  199.060   \n",
       "...             ...               ...       ...      ...      ...   \n",
       "17991      0.993000          0.824000    0.0984   0.1770  171.587   \n",
       "17992      0.858000          0.000016    0.0705   0.3350   73.016   \n",
       "17993      0.000030          0.000136    0.6660   0.2620  105.000   \n",
       "17994      0.001290          0.916000    0.2560   0.3550  131.363   \n",
       "17995      0.006040          0.212000    0.3340   0.3770  138.102   \n",
       "\n",
       "       duration_in min/ms  time_signature  Class  \n",
       "0                234596.0               4      5  \n",
       "1                251733.0               4     10  \n",
       "2                109667.0               4      6  \n",
       "3                173968.0               4      5  \n",
       "4                229960.0               4     10  \n",
       "...                   ...             ...    ...  \n",
       "17991            193450.0               3      6  \n",
       "17992            257067.0               4      2  \n",
       "17993            216222.0               4      8  \n",
       "17994            219693.0               4      8  \n",
       "17995            182227.0               4     10  \n",
       "\n",
       "[17996 rows x 17 columns]"
      ]
     },
     "execution_count": 2,
     "metadata": {},
     "output_type": "execute_result"
    }
   ],
   "source": [
    "df=pd.read_csv('Data2021.csv')\n",
    "df"
   ]
  },
  {
   "cell_type": "code",
   "execution_count": 3,
   "id": "be60ee38",
   "metadata": {},
   "outputs": [
    {
     "data": {
      "text/plain": [
       "Artist Name            object\n",
       "Track Name             object\n",
       "Popularity            float64\n",
       "danceability          float64\n",
       "energy                float64\n",
       "key                   float64\n",
       "loudness              float64\n",
       "mode                    int64\n",
       "speechiness           float64\n",
       "acousticness          float64\n",
       "instrumentalness      float64\n",
       "liveness              float64\n",
       "valence               float64\n",
       "tempo                 float64\n",
       "duration_in min/ms    float64\n",
       "time_signature          int64\n",
       "Class                   int64\n",
       "dtype: object"
      ]
     },
     "execution_count": 3,
     "metadata": {},
     "output_type": "execute_result"
    }
   ],
   "source": [
    "df.dtypes"
   ]
  },
  {
   "cell_type": "code",
   "execution_count": 4,
   "id": "a4a1deb9",
   "metadata": {},
   "outputs": [
    {
     "data": {
      "text/plain": [
       "(17996, 17)"
      ]
     },
     "execution_count": 4,
     "metadata": {},
     "output_type": "execute_result"
    }
   ],
   "source": [
    "df.shape"
   ]
  },
  {
   "cell_type": "markdown",
   "id": "496820a0",
   "metadata": {},
   "source": [
    "<h3>Explanation of Dataset:</h3>"
   ]
  },
  {
   "cell_type": "markdown",
   "id": "c8bffa96",
   "metadata": {},
   "source": [
    "This dataset consists of <b>13 music charcteristics</b> that is used to predict the target variable:\n",
    "\n",
    "<table>\n",
    "    <thead>\n",
    "        <td>Music Characteristics</td>\n",
    "        <td>Description</td>\n",
    "    </thead>\n",
    "    <tr>\n",
    "        <td>Danceability</td>\n",
    "        <td>Describes how suitable a track is for dancing based on a combination of musical elements including tempo, rhythm stability, beat strength, and overall regularity.</td>\n",
    "    </tr>\n",
    "    <tr>\n",
    "        <td>Valence</td>\n",
    "        <td>Describes the musical positiveness conveyed by a track. Tracks with high valence sound more positive (e.g. happy, cheerful, euphoric), while tracks with low valence sound more negative (e.g. sad, depressed, angry).</td>\n",
    "    </tr>\n",
    "    <tr>\n",
    "        <td>Energy</td>\n",
    "        <td>Represents a perceptual measure of intensity and activity. Typically, energetic tracks feel fast, loud, and noisy. For example, death metal has high energy, while a Bach prelude scores low on the scale.</td>\n",
    "    </tr>\n",
    "    <tr>\n",
    "        <td>Tempo</td>\n",
    "        <td>The overall estimated tempo of a track in beats per minute (BPM). In musical terminology, tempo is the speed or pace of a given piece, and derives directly from the average beat duration.</td>\n",
    "    </tr>\n",
    "    <tr>\n",
    "        <td>Loudness</td>\n",
    "        <td>The overall loudness of a track in decibels (dB). Loudness values are averaged across the entire track and are useful for comparing relative loudness of tracks.</td>\n",
    "    </tr>\n",
    "    <tr>\n",
    "        <td>Speechiness</td>\n",
    "        <td>This detects the presence of spoken words in a track. The more exclusively speech-like the recording (e.g. talk show, audio book, poetry), the closer to 1.0 the attribute value.</td>\n",
    "    </tr>\n",
    "    <tr>\n",
    "        <td>Instrumentalness</td>\n",
    "        <td>Predicts whether a track contains no vocals. “Ooh” and “aah” sounds are treated as instrumental in this context. Rap or spoken word tracks are clearly “vocal”.</td>\n",
    "    </tr>\n",
    "    <tr>\n",
    "        <td>Liveness</td>\n",
    "        <td>Detects the presence of an audience in the recording. Higher liveness values represent an increased probability that the track was performed live.</td>\n",
    "    </tr>\n",
    "    <tr>\n",
    "        <td>Acousticness</td>\n",
    "        <td>A confidence measure from 0.0 to 1.0 of whether the track is acoustic.</td>\n",
    "    </tr>\n",
    "    <tr>\n",
    "        <td>Key</td>\n",
    "        <td>The estimated overall key of the track. Integers map to pitches using standard Pitch Class notation . E.g. 0 = C, 1 = C♯/D♭, 2 = D, and so on.</td>\n",
    "    </tr>\n",
    "    <tr>\n",
    "        <td>Mode</td>\n",
    "        <td>Indicates the modality (major or minor) of a track, the type of scale from which its melodic content is derived. Major is represented by 1 and minor is 0.</td>\n",
    "    </tr>\n",
    "    <tr>\n",
    "        <td>Duration</td>\n",
    "        <td>The duration of the track in milliseconds.</td>\n",
    "    </tr>\n",
    "    <tr>\n",
    "        <td>Time Signature</td>\n",
    "        <td>An estimated overall time signature of a track. The time signature (meter) is a notational convention to specify how many beats are in each bar (or measure).</td>\n",
    "    </tr>\n",
    "</table>"
   ]
  },
  {
   "cell_type": "markdown",
   "id": "96d00021",
   "metadata": {},
   "source": [
    "As for the <b>target variable</b> we are going to predict:"
   ]
  },
  {
   "cell_type": "code",
   "execution_count": 5,
   "id": "ad18d446",
   "metadata": {},
   "outputs": [
    {
     "data": {
      "text/plain": [
       "array([ 5, 10,  6,  2,  4,  8,  9,  3,  7,  1,  0], dtype=int64)"
      ]
     },
     "execution_count": 5,
     "metadata": {},
     "output_type": "execute_result"
    }
   ],
   "source": [
    "df[\"Class\"].unique()"
   ]
  },
  {
   "cell_type": "markdown",
   "id": "23bcb540",
   "metadata": {},
   "source": [
    "There are in total 11 unique classes that represents different type of music such as Folk, Blue, HipHop, Metal Po"
   ]
  },
  {
   "cell_type": "markdown",
   "id": "a902dd0a",
   "metadata": {},
   "source": [
    "There are <b>2 other rows - Artist Name and Track Name</b> that is a unique identifier of each row."
   ]
  },
  {
   "cell_type": "markdown",
   "id": "b0185766",
   "metadata": {},
   "source": [
    "<a id='2'><h2 style=\"background-color:lightpink;border-radius:5px;text-align:center;padding:7px;color:white;\"><font color=\"white\">2. Data Preparation</h2>"
   ]
  },
  {
   "cell_type": "code",
   "execution_count": 6,
   "id": "7fe4a09e",
   "metadata": {
    "scrolled": true
   },
   "outputs": [
    {
     "name": "stdout",
     "output_type": "stream",
     "text": [
      "Rows, columns: (17996, 17)\n"
     ]
    }
   ],
   "source": [
    "print(\"Rows, columns: \" + str(df.shape))"
   ]
  },
  {
   "cell_type": "code",
   "execution_count": 7,
   "id": "42f1d46c",
   "metadata": {},
   "outputs": [
    {
     "data": {
      "text/plain": [
       "Artist Name              0\n",
       "Track Name               0\n",
       "Popularity             428\n",
       "danceability             0\n",
       "energy                   0\n",
       "key                   2014\n",
       "loudness                 0\n",
       "mode                     0\n",
       "speechiness              0\n",
       "acousticness             0\n",
       "instrumentalness      4377\n",
       "liveness                 0\n",
       "valence                  0\n",
       "tempo                    0\n",
       "duration_in min/ms       0\n",
       "time_signature           0\n",
       "Class                    0\n",
       "dtype: int64"
      ]
     },
     "execution_count": 7,
     "metadata": {},
     "output_type": "execute_result"
    }
   ],
   "source": [
    "df.isnull().sum()"
   ]
  },
  {
   "cell_type": "markdown",
   "id": "f4bb2818",
   "metadata": {},
   "source": [
    "### <a id=\"21\"> 2.1 Replacing Missing Values</a>"
   ]
  },
  {
   "cell_type": "markdown",
   "id": "dc7d0a31",
   "metadata": {},
   "source": [
    "I chose not to drop the null values and instead replace it with KNN imputation as total number of missing values for popularity,instrumentalness and key were ranging from 400 to 4300. If I were to drop all it will affect our dataset as we do not have much information on these 3 music characteristics to predict the class"
   ]
  },
  {
   "cell_type": "code",
   "execution_count": 8,
   "id": "ac01fcf1",
   "metadata": {},
   "outputs": [
    {
     "data": {
      "text/html": [
       "<div>\n",
       "<style scoped>\n",
       "    .dataframe tbody tr th:only-of-type {\n",
       "        vertical-align: middle;\n",
       "    }\n",
       "\n",
       "    .dataframe tbody tr th {\n",
       "        vertical-align: top;\n",
       "    }\n",
       "\n",
       "    .dataframe thead th {\n",
       "        text-align: right;\n",
       "    }\n",
       "</style>\n",
       "<table border=\"1\" class=\"dataframe\">\n",
       "  <thead>\n",
       "    <tr style=\"text-align: right;\">\n",
       "      <th></th>\n",
       "      <th>Artist Name</th>\n",
       "      <th>Track Name</th>\n",
       "      <th>danceability</th>\n",
       "      <th>energy</th>\n",
       "      <th>loudness</th>\n",
       "      <th>mode</th>\n",
       "      <th>speechiness</th>\n",
       "      <th>acousticness</th>\n",
       "      <th>liveness</th>\n",
       "      <th>valence</th>\n",
       "      <th>tempo</th>\n",
       "      <th>duration_in min/ms</th>\n",
       "      <th>time_signature</th>\n",
       "      <th>Class</th>\n",
       "      <th>0</th>\n",
       "      <th>1</th>\n",
       "      <th>2</th>\n",
       "    </tr>\n",
       "  </thead>\n",
       "  <tbody>\n",
       "    <tr>\n",
       "      <th>0</th>\n",
       "      <td>Bruno Mars</td>\n",
       "      <td>That's What I Like (feat. Gucci Mane)</td>\n",
       "      <td>0.854</td>\n",
       "      <td>0.564</td>\n",
       "      <td>-4.964</td>\n",
       "      <td>1</td>\n",
       "      <td>0.0485</td>\n",
       "      <td>0.017100</td>\n",
       "      <td>0.0849</td>\n",
       "      <td>0.8990</td>\n",
       "      <td>134.071</td>\n",
       "      <td>234596.0</td>\n",
       "      <td>4</td>\n",
       "      <td>5</td>\n",
       "      <td>60.0</td>\n",
       "      <td>0.251237</td>\n",
       "      <td>1.0</td>\n",
       "    </tr>\n",
       "    <tr>\n",
       "      <th>1</th>\n",
       "      <td>Boston</td>\n",
       "      <td>Hitch a Ride</td>\n",
       "      <td>0.382</td>\n",
       "      <td>0.814</td>\n",
       "      <td>-7.230</td>\n",
       "      <td>1</td>\n",
       "      <td>0.0406</td>\n",
       "      <td>0.001100</td>\n",
       "      <td>0.1010</td>\n",
       "      <td>0.5690</td>\n",
       "      <td>116.454</td>\n",
       "      <td>251733.0</td>\n",
       "      <td>4</td>\n",
       "      <td>10</td>\n",
       "      <td>54.0</td>\n",
       "      <td>0.004010</td>\n",
       "      <td>3.0</td>\n",
       "    </tr>\n",
       "    <tr>\n",
       "      <th>2</th>\n",
       "      <td>The Raincoats</td>\n",
       "      <td>No Side to Fall In</td>\n",
       "      <td>0.434</td>\n",
       "      <td>0.614</td>\n",
       "      <td>-8.334</td>\n",
       "      <td>1</td>\n",
       "      <td>0.0525</td>\n",
       "      <td>0.486000</td>\n",
       "      <td>0.3940</td>\n",
       "      <td>0.7870</td>\n",
       "      <td>147.681</td>\n",
       "      <td>109667.0</td>\n",
       "      <td>4</td>\n",
       "      <td>6</td>\n",
       "      <td>35.0</td>\n",
       "      <td>0.000196</td>\n",
       "      <td>6.0</td>\n",
       "    </tr>\n",
       "    <tr>\n",
       "      <th>3</th>\n",
       "      <td>Deno</td>\n",
       "      <td>Lingo (feat. J.I &amp; Chunkz)</td>\n",
       "      <td>0.853</td>\n",
       "      <td>0.597</td>\n",
       "      <td>-6.528</td>\n",
       "      <td>0</td>\n",
       "      <td>0.0555</td>\n",
       "      <td>0.021200</td>\n",
       "      <td>0.1220</td>\n",
       "      <td>0.5690</td>\n",
       "      <td>107.033</td>\n",
       "      <td>173968.0</td>\n",
       "      <td>4</td>\n",
       "      <td>5</td>\n",
       "      <td>66.0</td>\n",
       "      <td>0.057497</td>\n",
       "      <td>10.0</td>\n",
       "    </tr>\n",
       "    <tr>\n",
       "      <th>4</th>\n",
       "      <td>Red Hot Chili Peppers</td>\n",
       "      <td>Nobody Weird Like Me - Remastered</td>\n",
       "      <td>0.167</td>\n",
       "      <td>0.975</td>\n",
       "      <td>-4.279</td>\n",
       "      <td>1</td>\n",
       "      <td>0.2160</td>\n",
       "      <td>0.000169</td>\n",
       "      <td>0.1720</td>\n",
       "      <td>0.0918</td>\n",
       "      <td>199.060</td>\n",
       "      <td>229960.0</td>\n",
       "      <td>4</td>\n",
       "      <td>10</td>\n",
       "      <td>53.0</td>\n",
       "      <td>0.016100</td>\n",
       "      <td>2.0</td>\n",
       "    </tr>\n",
       "    <tr>\n",
       "      <th>...</th>\n",
       "      <td>...</td>\n",
       "      <td>...</td>\n",
       "      <td>...</td>\n",
       "      <td>...</td>\n",
       "      <td>...</td>\n",
       "      <td>...</td>\n",
       "      <td>...</td>\n",
       "      <td>...</td>\n",
       "      <td>...</td>\n",
       "      <td>...</td>\n",
       "      <td>...</td>\n",
       "      <td>...</td>\n",
       "      <td>...</td>\n",
       "      <td>...</td>\n",
       "      <td>...</td>\n",
       "      <td>...</td>\n",
       "      <td>...</td>\n",
       "    </tr>\n",
       "    <tr>\n",
       "      <th>17991</th>\n",
       "      <td>Green-House</td>\n",
       "      <td>Find Home</td>\n",
       "      <td>0.166</td>\n",
       "      <td>0.109</td>\n",
       "      <td>-17.100</td>\n",
       "      <td>0</td>\n",
       "      <td>0.0413</td>\n",
       "      <td>0.993000</td>\n",
       "      <td>0.0984</td>\n",
       "      <td>0.1770</td>\n",
       "      <td>171.587</td>\n",
       "      <td>193450.0</td>\n",
       "      <td>3</td>\n",
       "      <td>6</td>\n",
       "      <td>35.0</td>\n",
       "      <td>0.824000</td>\n",
       "      <td>7.0</td>\n",
       "    </tr>\n",
       "    <tr>\n",
       "      <th>17992</th>\n",
       "      <td>Micatone</td>\n",
       "      <td>All Gone</td>\n",
       "      <td>0.638</td>\n",
       "      <td>0.223</td>\n",
       "      <td>-10.174</td>\n",
       "      <td>0</td>\n",
       "      <td>0.0329</td>\n",
       "      <td>0.858000</td>\n",
       "      <td>0.0705</td>\n",
       "      <td>0.3350</td>\n",
       "      <td>73.016</td>\n",
       "      <td>257067.0</td>\n",
       "      <td>4</td>\n",
       "      <td>2</td>\n",
       "      <td>27.0</td>\n",
       "      <td>0.000016</td>\n",
       "      <td>11.0</td>\n",
       "    </tr>\n",
       "    <tr>\n",
       "      <th>17993</th>\n",
       "      <td>Smash Hit Combo</td>\n",
       "      <td>Peine perdue</td>\n",
       "      <td>0.558</td>\n",
       "      <td>0.981</td>\n",
       "      <td>-4.683</td>\n",
       "      <td>0</td>\n",
       "      <td>0.0712</td>\n",
       "      <td>0.000030</td>\n",
       "      <td>0.6660</td>\n",
       "      <td>0.2620</td>\n",
       "      <td>105.000</td>\n",
       "      <td>216222.0</td>\n",
       "      <td>4</td>\n",
       "      <td>8</td>\n",
       "      <td>34.0</td>\n",
       "      <td>0.000136</td>\n",
       "      <td>4.0</td>\n",
       "    </tr>\n",
       "    <tr>\n",
       "      <th>17994</th>\n",
       "      <td>Beherit</td>\n",
       "      <td>Salomon's Gate</td>\n",
       "      <td>0.215</td>\n",
       "      <td>0.805</td>\n",
       "      <td>-12.757</td>\n",
       "      <td>0</td>\n",
       "      <td>0.1340</td>\n",
       "      <td>0.001290</td>\n",
       "      <td>0.2560</td>\n",
       "      <td>0.3550</td>\n",
       "      <td>131.363</td>\n",
       "      <td>219693.0</td>\n",
       "      <td>4</td>\n",
       "      <td>8</td>\n",
       "      <td>29.0</td>\n",
       "      <td>0.916000</td>\n",
       "      <td>6.0</td>\n",
       "    </tr>\n",
       "    <tr>\n",
       "      <th>17995</th>\n",
       "      <td>The Raconteurs</td>\n",
       "      <td>Broken Boy Soldier</td>\n",
       "      <td>0.400</td>\n",
       "      <td>0.853</td>\n",
       "      <td>-5.320</td>\n",
       "      <td>0</td>\n",
       "      <td>0.0591</td>\n",
       "      <td>0.006040</td>\n",
       "      <td>0.3340</td>\n",
       "      <td>0.3770</td>\n",
       "      <td>138.102</td>\n",
       "      <td>182227.0</td>\n",
       "      <td>4</td>\n",
       "      <td>10</td>\n",
       "      <td>43.0</td>\n",
       "      <td>0.212000</td>\n",
       "      <td>4.0</td>\n",
       "    </tr>\n",
       "  </tbody>\n",
       "</table>\n",
       "<p>17996 rows × 17 columns</p>\n",
       "</div>"
      ],
      "text/plain": [
       "                 Artist Name                             Track Name  \\\n",
       "0                 Bruno Mars  That's What I Like (feat. Gucci Mane)   \n",
       "1                     Boston                           Hitch a Ride   \n",
       "2              The Raincoats                     No Side to Fall In   \n",
       "3                       Deno             Lingo (feat. J.I & Chunkz)   \n",
       "4      Red Hot Chili Peppers      Nobody Weird Like Me - Remastered   \n",
       "...                      ...                                    ...   \n",
       "17991            Green-House                              Find Home   \n",
       "17992               Micatone                               All Gone   \n",
       "17993        Smash Hit Combo                           Peine perdue   \n",
       "17994                Beherit                         Salomon's Gate   \n",
       "17995         The Raconteurs                     Broken Boy Soldier   \n",
       "\n",
       "       danceability  energy  loudness  mode  speechiness  acousticness  \\\n",
       "0             0.854   0.564    -4.964     1       0.0485      0.017100   \n",
       "1             0.382   0.814    -7.230     1       0.0406      0.001100   \n",
       "2             0.434   0.614    -8.334     1       0.0525      0.486000   \n",
       "3             0.853   0.597    -6.528     0       0.0555      0.021200   \n",
       "4             0.167   0.975    -4.279     1       0.2160      0.000169   \n",
       "...             ...     ...       ...   ...          ...           ...   \n",
       "17991         0.166   0.109   -17.100     0       0.0413      0.993000   \n",
       "17992         0.638   0.223   -10.174     0       0.0329      0.858000   \n",
       "17993         0.558   0.981    -4.683     0       0.0712      0.000030   \n",
       "17994         0.215   0.805   -12.757     0       0.1340      0.001290   \n",
       "17995         0.400   0.853    -5.320     0       0.0591      0.006040   \n",
       "\n",
       "       liveness  valence    tempo  duration_in min/ms  time_signature  Class  \\\n",
       "0        0.0849   0.8990  134.071            234596.0               4      5   \n",
       "1        0.1010   0.5690  116.454            251733.0               4     10   \n",
       "2        0.3940   0.7870  147.681            109667.0               4      6   \n",
       "3        0.1220   0.5690  107.033            173968.0               4      5   \n",
       "4        0.1720   0.0918  199.060            229960.0               4     10   \n",
       "...         ...      ...      ...                 ...             ...    ...   \n",
       "17991    0.0984   0.1770  171.587            193450.0               3      6   \n",
       "17992    0.0705   0.3350   73.016            257067.0               4      2   \n",
       "17993    0.6660   0.2620  105.000            216222.0               4      8   \n",
       "17994    0.2560   0.3550  131.363            219693.0               4      8   \n",
       "17995    0.3340   0.3770  138.102            182227.0               4     10   \n",
       "\n",
       "          0         1     2  \n",
       "0      60.0  0.251237   1.0  \n",
       "1      54.0  0.004010   3.0  \n",
       "2      35.0  0.000196   6.0  \n",
       "3      66.0  0.057497  10.0  \n",
       "4      53.0  0.016100   2.0  \n",
       "...     ...       ...   ...  \n",
       "17991  35.0  0.824000   7.0  \n",
       "17992  27.0  0.000016  11.0  \n",
       "17993  34.0  0.000136   4.0  \n",
       "17994  29.0  0.916000   6.0  \n",
       "17995  43.0  0.212000   4.0  \n",
       "\n",
       "[17996 rows x 17 columns]"
      ]
     },
     "execution_count": 8,
     "metadata": {},
     "output_type": "execute_result"
    }
   ],
   "source": [
    "# Import the INNImputer\n",
    "from sklearn.impute import KNNImputer\n",
    "\n",
    "# The dfKNN data frame will only have the 3 columns with missing values \n",
    "dfKNN = df[['Popularity',\"instrumentalness\",\"key\"]]\n",
    "\n",
    "# Create a kNNImputer object and set k=1\n",
    "imputer = KNNImputer(n_neighbors=5)\n",
    "\n",
    "# We use the fit_transform() method to perform the imputation\n",
    "# We also create another DataFrame from the results returned\n",
    "# by the fit_transform function\n",
    "dfKNN = pd.DataFrame(imputer.fit_transform(dfKNN))\n",
    "\n",
    "# We merge back with the rest of the columns (Year and Method)\n",
    "df = pd.concat([df[[\"Artist Name\",\"Track Name\",\"danceability\",\"energy\",\"loudness\",\"mode\",\n",
    "                    \"speechiness\",\"acousticness\",\"liveness\",\"valence\",\"tempo\",\"duration_in min/ms\",\n",
    "                    \"time_signature\",\"Class\"]], dfKNN], axis=1, join=\"inner\")\n",
    "df\n",
    "\n"
   ]
  },
  {
   "cell_type": "code",
   "execution_count": 9,
   "id": "c5375c2e",
   "metadata": {},
   "outputs": [],
   "source": [
    "df.rename(columns={0: \"Popularity\", 1: \"instrumentalness\",2:\"key\"},inplace=True)"
   ]
  },
  {
   "cell_type": "code",
   "execution_count": 10,
   "id": "0d65c523",
   "metadata": {},
   "outputs": [
    {
     "data": {
      "text/plain": [
       "Artist Name           0\n",
       "Track Name            0\n",
       "danceability          0\n",
       "energy                0\n",
       "loudness              0\n",
       "mode                  0\n",
       "speechiness           0\n",
       "acousticness          0\n",
       "liveness              0\n",
       "valence               0\n",
       "tempo                 0\n",
       "duration_in min/ms    0\n",
       "time_signature        0\n",
       "Class                 0\n",
       "Popularity            0\n",
       "instrumentalness      0\n",
       "key                   0\n",
       "dtype: int64"
      ]
     },
     "execution_count": 10,
     "metadata": {},
     "output_type": "execute_result"
    }
   ],
   "source": [
    "df.isnull().sum()"
   ]
  },
  {
   "cell_type": "markdown",
   "id": "fa83ff30",
   "metadata": {},
   "source": [
    "\n",
    "### <a id=\"22\">2.2 Removing duplicates</a>"
   ]
  },
  {
   "cell_type": "code",
   "execution_count": 11,
   "id": "f3e8f109",
   "metadata": {},
   "outputs": [
    {
     "data": {
      "text/plain": [
       "(17996, 17)"
      ]
     },
     "execution_count": 11,
     "metadata": {},
     "output_type": "execute_result"
    }
   ],
   "source": [
    "df.shape"
   ]
  },
  {
   "cell_type": "code",
   "execution_count": 12,
   "id": "d21d9b9d",
   "metadata": {},
   "outputs": [
    {
     "name": "stdout",
     "output_type": "stream",
     "text": [
      "Number of duplicates in whole dataset: 0\n"
     ]
    }
   ],
   "source": [
    "print(\"Number of duplicates in whole dataset:\",df.duplicated(keep='first').sum())"
   ]
  },
  {
   "cell_type": "markdown",
   "id": "0f19e51d",
   "metadata": {},
   "source": [
    "Looks like there are no duplicates. However, as I scanned through the whole dataset, I realised that there are rows that have duplicated values across all columns except for Class. This would mean that there are 2 exactly songs having the same music characteristic but they of 2 different classes.  Hence, let us drop data with similar values across all columns except for class"
   ]
  },
  {
   "cell_type": "code",
   "execution_count": 13,
   "id": "bd602d55",
   "metadata": {},
   "outputs": [
    {
     "name": "stdout",
     "output_type": "stream",
     "text": [
      "Number of duplicates across all columns(except for class): 1673\n"
     ]
    }
   ],
   "source": [
    "print(\"Number of duplicates across all columns(except for class):\",df[['Artist Name', 'Track Name', 'danceability', 'energy', 'loudness',\n",
    "       'mode', 'speechiness', 'acousticness', 'liveness', 'valence', 'tempo',\n",
    "       'duration_in min/ms', 'time_signature', 'Popularity',\n",
    "       'instrumentalness', 'key']].duplicated(keep='first').sum())"
   ]
  },
  {
   "cell_type": "code",
   "execution_count": 14,
   "id": "1748139e",
   "metadata": {},
   "outputs": [],
   "source": [
    "df_no_class=df[['Artist Name', 'Track Name', 'danceability', 'energy', 'loudness',\n",
    "       'mode', 'speechiness', 'acousticness', 'liveness', 'valence', 'tempo',\n",
    "       'duration_in min/ms', 'time_signature', 'Popularity',\n",
    "       'instrumentalness', 'key']].drop_duplicates(keep=False)"
   ]
  },
  {
   "cell_type": "code",
   "execution_count": 15,
   "id": "554594a2",
   "metadata": {},
   "outputs": [],
   "source": [
    " df=df[df.index.isin(df_no_class.index)]"
   ]
  },
  {
   "cell_type": "code",
   "execution_count": 16,
   "id": "3da71d93",
   "metadata": {},
   "outputs": [
    {
     "data": {
      "text/plain": [
       "(14838, 17)"
      ]
     },
     "execution_count": 16,
     "metadata": {},
     "output_type": "execute_result"
    }
   ],
   "source": [
    "df.shape"
   ]
  },
  {
   "cell_type": "markdown",
   "id": "dd77b586",
   "metadata": {},
   "source": [
    "Now, that we have dropped duplicates, we are left with 14838 rows."
   ]
  },
  {
   "cell_type": "markdown",
   "id": "0c00f3e3",
   "metadata": {},
   "source": [
    "### <a id=\"23\">2.3 Converting duration from ms to minutes</a>"
   ]
  },
  {
   "cell_type": "markdown",
   "id": "8e4faf8f",
   "metadata": {},
   "source": [
    "After scanning through the dataset, I realised that the longest duration is minutes is 30. Hence, I will be converting the values above 30 from miliseconds to minutes."
   ]
  },
  {
   "cell_type": "code",
   "execution_count": 17,
   "id": "3d7ff943",
   "metadata": {},
   "outputs": [
    {
     "name": "stderr",
     "output_type": "stream",
     "text": [
      "<ipython-input-17-09a8aa8de0ae>:7: SettingWithCopyWarning: \n",
      "A value is trying to be set on a copy of a slice from a DataFrame.\n",
      "Try using .loc[row_indexer,col_indexer] = value instead\n",
      "\n",
      "See the caveats in the documentation: https://pandas.pydata.org/pandas-docs/stable/user_guide/indexing.html#returning-a-view-versus-a-copy\n",
      "  df['duration_in_min']=df['duration_in min/ms'].apply(convert_to_min)\n"
     ]
    }
   ],
   "source": [
    "def convert_to_min(time):\n",
    "    if time>30: \n",
    "        return time/(1000*60)\n",
    "    else:\n",
    "        return time \n",
    "\n",
    "df['duration_in_min']=df['duration_in min/ms'].apply(convert_to_min)"
   ]
  },
  {
   "cell_type": "code",
   "execution_count": 18,
   "id": "a8614a59",
   "metadata": {},
   "outputs": [
    {
     "name": "stderr",
     "output_type": "stream",
     "text": [
      "C:\\Users\\JiaYi\\anaconda3\\lib\\site-packages\\pandas\\core\\frame.py:4308: SettingWithCopyWarning: \n",
      "A value is trying to be set on a copy of a slice from a DataFrame\n",
      "\n",
      "See the caveats in the documentation: https://pandas.pydata.org/pandas-docs/stable/user_guide/indexing.html#returning-a-view-versus-a-copy\n",
      "  return super().drop(\n"
     ]
    }
   ],
   "source": [
    "df.drop(['duration_in min/ms'],axis=1,inplace=True)"
   ]
  },
  {
   "cell_type": "markdown",
   "id": "5718df03",
   "metadata": {},
   "source": [
    "### <a id=\"24\"> 2.4 Removing outliers</a>"
   ]
  },
  {
   "cell_type": "code",
   "execution_count": 19,
   "id": "1e19074e",
   "metadata": {},
   "outputs": [
    {
     "name": "stdout",
     "output_type": "stream",
     "text": [
      "Number of Outliers: 1354\n"
     ]
    }
   ],
   "source": [
    "###Use a new dataframe for numerical columns\n",
    "df1=df[[\"danceability\",\"energy\",\"loudness\",\"mode\",\"speechiness\",\"acousticness\",\"liveness\",\"valence\",\"tempo\",\"duration_in_min\",\"time_signature\",\"instrumentalness\",\"key\",\"Popularity\",\"Class\"]]\n",
    "z_scores = stats.zscore(df1)\n",
    "abs_z_scores = np.abs(z_scores)\n",
    "filtered_entries = (abs_z_scores < 3).all(axis=1)\n",
    "print(\"Number of Outliers:\",df.shape[0]-np.count_nonzero(filtered_entries))"
   ]
  },
  {
   "cell_type": "code",
   "execution_count": 20,
   "id": "c5a14ee8",
   "metadata": {},
   "outputs": [
    {
     "data": {
      "text/html": [
       "<div>\n",
       "<style scoped>\n",
       "    .dataframe tbody tr th:only-of-type {\n",
       "        vertical-align: middle;\n",
       "    }\n",
       "\n",
       "    .dataframe tbody tr th {\n",
       "        vertical-align: top;\n",
       "    }\n",
       "\n",
       "    .dataframe thead th {\n",
       "        text-align: right;\n",
       "    }\n",
       "</style>\n",
       "<table border=\"1\" class=\"dataframe\">\n",
       "  <thead>\n",
       "    <tr style=\"text-align: right;\">\n",
       "      <th></th>\n",
       "      <th>Artist Name</th>\n",
       "      <th>Track Name</th>\n",
       "      <th>danceability</th>\n",
       "      <th>energy</th>\n",
       "      <th>loudness</th>\n",
       "      <th>mode</th>\n",
       "      <th>speechiness</th>\n",
       "      <th>acousticness</th>\n",
       "      <th>liveness</th>\n",
       "      <th>valence</th>\n",
       "      <th>tempo</th>\n",
       "      <th>time_signature</th>\n",
       "      <th>Class</th>\n",
       "      <th>Popularity</th>\n",
       "      <th>instrumentalness</th>\n",
       "      <th>key</th>\n",
       "      <th>duration_in_min</th>\n",
       "    </tr>\n",
       "  </thead>\n",
       "  <tbody>\n",
       "    <tr>\n",
       "      <th>0</th>\n",
       "      <td>Bruno Mars</td>\n",
       "      <td>That's What I Like (feat. Gucci Mane)</td>\n",
       "      <td>0.854</td>\n",
       "      <td>0.564</td>\n",
       "      <td>-4.964</td>\n",
       "      <td>1</td>\n",
       "      <td>0.0485</td>\n",
       "      <td>0.017100</td>\n",
       "      <td>0.0849</td>\n",
       "      <td>0.8990</td>\n",
       "      <td>134.071</td>\n",
       "      <td>4</td>\n",
       "      <td>5</td>\n",
       "      <td>60.0</td>\n",
       "      <td>0.251237</td>\n",
       "      <td>1.0</td>\n",
       "      <td>3.909933</td>\n",
       "    </tr>\n",
       "    <tr>\n",
       "      <th>1</th>\n",
       "      <td>Boston</td>\n",
       "      <td>Hitch a Ride</td>\n",
       "      <td>0.382</td>\n",
       "      <td>0.814</td>\n",
       "      <td>-7.230</td>\n",
       "      <td>1</td>\n",
       "      <td>0.0406</td>\n",
       "      <td>0.001100</td>\n",
       "      <td>0.1010</td>\n",
       "      <td>0.5690</td>\n",
       "      <td>116.454</td>\n",
       "      <td>4</td>\n",
       "      <td>10</td>\n",
       "      <td>54.0</td>\n",
       "      <td>0.004010</td>\n",
       "      <td>3.0</td>\n",
       "      <td>4.195550</td>\n",
       "    </tr>\n",
       "    <tr>\n",
       "      <th>2</th>\n",
       "      <td>The Raincoats</td>\n",
       "      <td>No Side to Fall In</td>\n",
       "      <td>0.434</td>\n",
       "      <td>0.614</td>\n",
       "      <td>-8.334</td>\n",
       "      <td>1</td>\n",
       "      <td>0.0525</td>\n",
       "      <td>0.486000</td>\n",
       "      <td>0.3940</td>\n",
       "      <td>0.7870</td>\n",
       "      <td>147.681</td>\n",
       "      <td>4</td>\n",
       "      <td>6</td>\n",
       "      <td>35.0</td>\n",
       "      <td>0.000196</td>\n",
       "      <td>6.0</td>\n",
       "      <td>1.827783</td>\n",
       "    </tr>\n",
       "    <tr>\n",
       "      <th>3</th>\n",
       "      <td>Deno</td>\n",
       "      <td>Lingo (feat. J.I &amp; Chunkz)</td>\n",
       "      <td>0.853</td>\n",
       "      <td>0.597</td>\n",
       "      <td>-6.528</td>\n",
       "      <td>0</td>\n",
       "      <td>0.0555</td>\n",
       "      <td>0.021200</td>\n",
       "      <td>0.1220</td>\n",
       "      <td>0.5690</td>\n",
       "      <td>107.033</td>\n",
       "      <td>4</td>\n",
       "      <td>5</td>\n",
       "      <td>66.0</td>\n",
       "      <td>0.057497</td>\n",
       "      <td>10.0</td>\n",
       "      <td>2.899467</td>\n",
       "    </tr>\n",
       "    <tr>\n",
       "      <th>4</th>\n",
       "      <td>Red Hot Chili Peppers</td>\n",
       "      <td>Nobody Weird Like Me - Remastered</td>\n",
       "      <td>0.167</td>\n",
       "      <td>0.975</td>\n",
       "      <td>-4.279</td>\n",
       "      <td>1</td>\n",
       "      <td>0.2160</td>\n",
       "      <td>0.000169</td>\n",
       "      <td>0.1720</td>\n",
       "      <td>0.0918</td>\n",
       "      <td>199.060</td>\n",
       "      <td>4</td>\n",
       "      <td>10</td>\n",
       "      <td>53.0</td>\n",
       "      <td>0.016100</td>\n",
       "      <td>2.0</td>\n",
       "      <td>3.832667</td>\n",
       "    </tr>\n",
       "    <tr>\n",
       "      <th>...</th>\n",
       "      <td>...</td>\n",
       "      <td>...</td>\n",
       "      <td>...</td>\n",
       "      <td>...</td>\n",
       "      <td>...</td>\n",
       "      <td>...</td>\n",
       "      <td>...</td>\n",
       "      <td>...</td>\n",
       "      <td>...</td>\n",
       "      <td>...</td>\n",
       "      <td>...</td>\n",
       "      <td>...</td>\n",
       "      <td>...</td>\n",
       "      <td>...</td>\n",
       "      <td>...</td>\n",
       "      <td>...</td>\n",
       "      <td>...</td>\n",
       "    </tr>\n",
       "    <tr>\n",
       "      <th>17991</th>\n",
       "      <td>Green-House</td>\n",
       "      <td>Find Home</td>\n",
       "      <td>0.166</td>\n",
       "      <td>0.109</td>\n",
       "      <td>-17.100</td>\n",
       "      <td>0</td>\n",
       "      <td>0.0413</td>\n",
       "      <td>0.993000</td>\n",
       "      <td>0.0984</td>\n",
       "      <td>0.1770</td>\n",
       "      <td>171.587</td>\n",
       "      <td>3</td>\n",
       "      <td>6</td>\n",
       "      <td>35.0</td>\n",
       "      <td>0.824000</td>\n",
       "      <td>7.0</td>\n",
       "      <td>3.224167</td>\n",
       "    </tr>\n",
       "    <tr>\n",
       "      <th>17992</th>\n",
       "      <td>Micatone</td>\n",
       "      <td>All Gone</td>\n",
       "      <td>0.638</td>\n",
       "      <td>0.223</td>\n",
       "      <td>-10.174</td>\n",
       "      <td>0</td>\n",
       "      <td>0.0329</td>\n",
       "      <td>0.858000</td>\n",
       "      <td>0.0705</td>\n",
       "      <td>0.3350</td>\n",
       "      <td>73.016</td>\n",
       "      <td>4</td>\n",
       "      <td>2</td>\n",
       "      <td>27.0</td>\n",
       "      <td>0.000016</td>\n",
       "      <td>11.0</td>\n",
       "      <td>4.284450</td>\n",
       "    </tr>\n",
       "    <tr>\n",
       "      <th>17993</th>\n",
       "      <td>Smash Hit Combo</td>\n",
       "      <td>Peine perdue</td>\n",
       "      <td>0.558</td>\n",
       "      <td>0.981</td>\n",
       "      <td>-4.683</td>\n",
       "      <td>0</td>\n",
       "      <td>0.0712</td>\n",
       "      <td>0.000030</td>\n",
       "      <td>0.6660</td>\n",
       "      <td>0.2620</td>\n",
       "      <td>105.000</td>\n",
       "      <td>4</td>\n",
       "      <td>8</td>\n",
       "      <td>34.0</td>\n",
       "      <td>0.000136</td>\n",
       "      <td>4.0</td>\n",
       "      <td>3.603700</td>\n",
       "    </tr>\n",
       "    <tr>\n",
       "      <th>17994</th>\n",
       "      <td>Beherit</td>\n",
       "      <td>Salomon's Gate</td>\n",
       "      <td>0.215</td>\n",
       "      <td>0.805</td>\n",
       "      <td>-12.757</td>\n",
       "      <td>0</td>\n",
       "      <td>0.1340</td>\n",
       "      <td>0.001290</td>\n",
       "      <td>0.2560</td>\n",
       "      <td>0.3550</td>\n",
       "      <td>131.363</td>\n",
       "      <td>4</td>\n",
       "      <td>8</td>\n",
       "      <td>29.0</td>\n",
       "      <td>0.916000</td>\n",
       "      <td>6.0</td>\n",
       "      <td>3.661550</td>\n",
       "    </tr>\n",
       "    <tr>\n",
       "      <th>17995</th>\n",
       "      <td>The Raconteurs</td>\n",
       "      <td>Broken Boy Soldier</td>\n",
       "      <td>0.400</td>\n",
       "      <td>0.853</td>\n",
       "      <td>-5.320</td>\n",
       "      <td>0</td>\n",
       "      <td>0.0591</td>\n",
       "      <td>0.006040</td>\n",
       "      <td>0.3340</td>\n",
       "      <td>0.3770</td>\n",
       "      <td>138.102</td>\n",
       "      <td>4</td>\n",
       "      <td>10</td>\n",
       "      <td>43.0</td>\n",
       "      <td>0.212000</td>\n",
       "      <td>4.0</td>\n",
       "      <td>3.037117</td>\n",
       "    </tr>\n",
       "  </tbody>\n",
       "</table>\n",
       "<p>13484 rows × 17 columns</p>\n",
       "</div>"
      ],
      "text/plain": [
       "                 Artist Name                             Track Name  \\\n",
       "0                 Bruno Mars  That's What I Like (feat. Gucci Mane)   \n",
       "1                     Boston                           Hitch a Ride   \n",
       "2              The Raincoats                     No Side to Fall In   \n",
       "3                       Deno             Lingo (feat. J.I & Chunkz)   \n",
       "4      Red Hot Chili Peppers      Nobody Weird Like Me - Remastered   \n",
       "...                      ...                                    ...   \n",
       "17991            Green-House                              Find Home   \n",
       "17992               Micatone                               All Gone   \n",
       "17993        Smash Hit Combo                           Peine perdue   \n",
       "17994                Beherit                         Salomon's Gate   \n",
       "17995         The Raconteurs                     Broken Boy Soldier   \n",
       "\n",
       "       danceability  energy  loudness  mode  speechiness  acousticness  \\\n",
       "0             0.854   0.564    -4.964     1       0.0485      0.017100   \n",
       "1             0.382   0.814    -7.230     1       0.0406      0.001100   \n",
       "2             0.434   0.614    -8.334     1       0.0525      0.486000   \n",
       "3             0.853   0.597    -6.528     0       0.0555      0.021200   \n",
       "4             0.167   0.975    -4.279     1       0.2160      0.000169   \n",
       "...             ...     ...       ...   ...          ...           ...   \n",
       "17991         0.166   0.109   -17.100     0       0.0413      0.993000   \n",
       "17992         0.638   0.223   -10.174     0       0.0329      0.858000   \n",
       "17993         0.558   0.981    -4.683     0       0.0712      0.000030   \n",
       "17994         0.215   0.805   -12.757     0       0.1340      0.001290   \n",
       "17995         0.400   0.853    -5.320     0       0.0591      0.006040   \n",
       "\n",
       "       liveness  valence    tempo  time_signature  Class  Popularity  \\\n",
       "0        0.0849   0.8990  134.071               4      5        60.0   \n",
       "1        0.1010   0.5690  116.454               4     10        54.0   \n",
       "2        0.3940   0.7870  147.681               4      6        35.0   \n",
       "3        0.1220   0.5690  107.033               4      5        66.0   \n",
       "4        0.1720   0.0918  199.060               4     10        53.0   \n",
       "...         ...      ...      ...             ...    ...         ...   \n",
       "17991    0.0984   0.1770  171.587               3      6        35.0   \n",
       "17992    0.0705   0.3350   73.016               4      2        27.0   \n",
       "17993    0.6660   0.2620  105.000               4      8        34.0   \n",
       "17994    0.2560   0.3550  131.363               4      8        29.0   \n",
       "17995    0.3340   0.3770  138.102               4     10        43.0   \n",
       "\n",
       "       instrumentalness   key  duration_in_min  \n",
       "0              0.251237   1.0         3.909933  \n",
       "1              0.004010   3.0         4.195550  \n",
       "2              0.000196   6.0         1.827783  \n",
       "3              0.057497  10.0         2.899467  \n",
       "4              0.016100   2.0         3.832667  \n",
       "...                 ...   ...              ...  \n",
       "17991          0.824000   7.0         3.224167  \n",
       "17992          0.000016  11.0         4.284450  \n",
       "17993          0.000136   4.0         3.603700  \n",
       "17994          0.916000   6.0         3.661550  \n",
       "17995          0.212000   4.0         3.037117  \n",
       "\n",
       "[13484 rows x 17 columns]"
      ]
     },
     "execution_count": 20,
     "metadata": {},
     "output_type": "execute_result"
    }
   ],
   "source": [
    "df= df[filtered_entries]\n",
    "df"
   ]
  },
  {
   "cell_type": "code",
   "execution_count": 21,
   "id": "710a485b",
   "metadata": {},
   "outputs": [
    {
     "data": {
      "text/html": [
       "<div>\n",
       "<style scoped>\n",
       "    .dataframe tbody tr th:only-of-type {\n",
       "        vertical-align: middle;\n",
       "    }\n",
       "\n",
       "    .dataframe tbody tr th {\n",
       "        vertical-align: top;\n",
       "    }\n",
       "\n",
       "    .dataframe thead th {\n",
       "        text-align: right;\n",
       "    }\n",
       "</style>\n",
       "<table border=\"1\" class=\"dataframe\">\n",
       "  <thead>\n",
       "    <tr style=\"text-align: right;\">\n",
       "      <th></th>\n",
       "      <th>Artist Name</th>\n",
       "      <th>Track Name</th>\n",
       "      <th>danceability</th>\n",
       "      <th>energy</th>\n",
       "      <th>loudness</th>\n",
       "      <th>mode</th>\n",
       "      <th>speechiness</th>\n",
       "      <th>acousticness</th>\n",
       "      <th>liveness</th>\n",
       "      <th>valence</th>\n",
       "      <th>tempo</th>\n",
       "      <th>time_signature</th>\n",
       "      <th>Class</th>\n",
       "      <th>Popularity</th>\n",
       "      <th>instrumentalness</th>\n",
       "      <th>key</th>\n",
       "      <th>duration_in_min</th>\n",
       "    </tr>\n",
       "  </thead>\n",
       "  <tbody>\n",
       "    <tr>\n",
       "      <th>0</th>\n",
       "      <td>Bruno Mars</td>\n",
       "      <td>That's What I Like (feat. Gucci Mane)</td>\n",
       "      <td>0.854</td>\n",
       "      <td>0.564</td>\n",
       "      <td>-4.964</td>\n",
       "      <td>1</td>\n",
       "      <td>0.0485</td>\n",
       "      <td>0.017100</td>\n",
       "      <td>0.0849</td>\n",
       "      <td>0.8990</td>\n",
       "      <td>134.071</td>\n",
       "      <td>4</td>\n",
       "      <td>5</td>\n",
       "      <td>60.0</td>\n",
       "      <td>0.251237</td>\n",
       "      <td>1.0</td>\n",
       "      <td>3.909933</td>\n",
       "    </tr>\n",
       "    <tr>\n",
       "      <th>1</th>\n",
       "      <td>Boston</td>\n",
       "      <td>Hitch a Ride</td>\n",
       "      <td>0.382</td>\n",
       "      <td>0.814</td>\n",
       "      <td>-7.230</td>\n",
       "      <td>1</td>\n",
       "      <td>0.0406</td>\n",
       "      <td>0.001100</td>\n",
       "      <td>0.1010</td>\n",
       "      <td>0.5690</td>\n",
       "      <td>116.454</td>\n",
       "      <td>4</td>\n",
       "      <td>10</td>\n",
       "      <td>54.0</td>\n",
       "      <td>0.004010</td>\n",
       "      <td>3.0</td>\n",
       "      <td>4.195550</td>\n",
       "    </tr>\n",
       "    <tr>\n",
       "      <th>2</th>\n",
       "      <td>The Raincoats</td>\n",
       "      <td>No Side to Fall In</td>\n",
       "      <td>0.434</td>\n",
       "      <td>0.614</td>\n",
       "      <td>-8.334</td>\n",
       "      <td>1</td>\n",
       "      <td>0.0525</td>\n",
       "      <td>0.486000</td>\n",
       "      <td>0.3940</td>\n",
       "      <td>0.7870</td>\n",
       "      <td>147.681</td>\n",
       "      <td>4</td>\n",
       "      <td>6</td>\n",
       "      <td>35.0</td>\n",
       "      <td>0.000196</td>\n",
       "      <td>6.0</td>\n",
       "      <td>1.827783</td>\n",
       "    </tr>\n",
       "    <tr>\n",
       "      <th>3</th>\n",
       "      <td>Deno</td>\n",
       "      <td>Lingo (feat. J.I &amp; Chunkz)</td>\n",
       "      <td>0.853</td>\n",
       "      <td>0.597</td>\n",
       "      <td>-6.528</td>\n",
       "      <td>0</td>\n",
       "      <td>0.0555</td>\n",
       "      <td>0.021200</td>\n",
       "      <td>0.1220</td>\n",
       "      <td>0.5690</td>\n",
       "      <td>107.033</td>\n",
       "      <td>4</td>\n",
       "      <td>5</td>\n",
       "      <td>66.0</td>\n",
       "      <td>0.057497</td>\n",
       "      <td>10.0</td>\n",
       "      <td>2.899467</td>\n",
       "    </tr>\n",
       "    <tr>\n",
       "      <th>4</th>\n",
       "      <td>Red Hot Chili Peppers</td>\n",
       "      <td>Nobody Weird Like Me - Remastered</td>\n",
       "      <td>0.167</td>\n",
       "      <td>0.975</td>\n",
       "      <td>-4.279</td>\n",
       "      <td>1</td>\n",
       "      <td>0.2160</td>\n",
       "      <td>0.000169</td>\n",
       "      <td>0.1720</td>\n",
       "      <td>0.0918</td>\n",
       "      <td>199.060</td>\n",
       "      <td>4</td>\n",
       "      <td>10</td>\n",
       "      <td>53.0</td>\n",
       "      <td>0.016100</td>\n",
       "      <td>2.0</td>\n",
       "      <td>3.832667</td>\n",
       "    </tr>\n",
       "    <tr>\n",
       "      <th>...</th>\n",
       "      <td>...</td>\n",
       "      <td>...</td>\n",
       "      <td>...</td>\n",
       "      <td>...</td>\n",
       "      <td>...</td>\n",
       "      <td>...</td>\n",
       "      <td>...</td>\n",
       "      <td>...</td>\n",
       "      <td>...</td>\n",
       "      <td>...</td>\n",
       "      <td>...</td>\n",
       "      <td>...</td>\n",
       "      <td>...</td>\n",
       "      <td>...</td>\n",
       "      <td>...</td>\n",
       "      <td>...</td>\n",
       "      <td>...</td>\n",
       "    </tr>\n",
       "    <tr>\n",
       "      <th>13479</th>\n",
       "      <td>Green-House</td>\n",
       "      <td>Find Home</td>\n",
       "      <td>0.166</td>\n",
       "      <td>0.109</td>\n",
       "      <td>-17.100</td>\n",
       "      <td>0</td>\n",
       "      <td>0.0413</td>\n",
       "      <td>0.993000</td>\n",
       "      <td>0.0984</td>\n",
       "      <td>0.1770</td>\n",
       "      <td>171.587</td>\n",
       "      <td>3</td>\n",
       "      <td>6</td>\n",
       "      <td>35.0</td>\n",
       "      <td>0.824000</td>\n",
       "      <td>7.0</td>\n",
       "      <td>3.224167</td>\n",
       "    </tr>\n",
       "    <tr>\n",
       "      <th>13480</th>\n",
       "      <td>Micatone</td>\n",
       "      <td>All Gone</td>\n",
       "      <td>0.638</td>\n",
       "      <td>0.223</td>\n",
       "      <td>-10.174</td>\n",
       "      <td>0</td>\n",
       "      <td>0.0329</td>\n",
       "      <td>0.858000</td>\n",
       "      <td>0.0705</td>\n",
       "      <td>0.3350</td>\n",
       "      <td>73.016</td>\n",
       "      <td>4</td>\n",
       "      <td>2</td>\n",
       "      <td>27.0</td>\n",
       "      <td>0.000016</td>\n",
       "      <td>11.0</td>\n",
       "      <td>4.284450</td>\n",
       "    </tr>\n",
       "    <tr>\n",
       "      <th>13481</th>\n",
       "      <td>Smash Hit Combo</td>\n",
       "      <td>Peine perdue</td>\n",
       "      <td>0.558</td>\n",
       "      <td>0.981</td>\n",
       "      <td>-4.683</td>\n",
       "      <td>0</td>\n",
       "      <td>0.0712</td>\n",
       "      <td>0.000030</td>\n",
       "      <td>0.6660</td>\n",
       "      <td>0.2620</td>\n",
       "      <td>105.000</td>\n",
       "      <td>4</td>\n",
       "      <td>8</td>\n",
       "      <td>34.0</td>\n",
       "      <td>0.000136</td>\n",
       "      <td>4.0</td>\n",
       "      <td>3.603700</td>\n",
       "    </tr>\n",
       "    <tr>\n",
       "      <th>13482</th>\n",
       "      <td>Beherit</td>\n",
       "      <td>Salomon's Gate</td>\n",
       "      <td>0.215</td>\n",
       "      <td>0.805</td>\n",
       "      <td>-12.757</td>\n",
       "      <td>0</td>\n",
       "      <td>0.1340</td>\n",
       "      <td>0.001290</td>\n",
       "      <td>0.2560</td>\n",
       "      <td>0.3550</td>\n",
       "      <td>131.363</td>\n",
       "      <td>4</td>\n",
       "      <td>8</td>\n",
       "      <td>29.0</td>\n",
       "      <td>0.916000</td>\n",
       "      <td>6.0</td>\n",
       "      <td>3.661550</td>\n",
       "    </tr>\n",
       "    <tr>\n",
       "      <th>13483</th>\n",
       "      <td>The Raconteurs</td>\n",
       "      <td>Broken Boy Soldier</td>\n",
       "      <td>0.400</td>\n",
       "      <td>0.853</td>\n",
       "      <td>-5.320</td>\n",
       "      <td>0</td>\n",
       "      <td>0.0591</td>\n",
       "      <td>0.006040</td>\n",
       "      <td>0.3340</td>\n",
       "      <td>0.3770</td>\n",
       "      <td>138.102</td>\n",
       "      <td>4</td>\n",
       "      <td>10</td>\n",
       "      <td>43.0</td>\n",
       "      <td>0.212000</td>\n",
       "      <td>4.0</td>\n",
       "      <td>3.037117</td>\n",
       "    </tr>\n",
       "  </tbody>\n",
       "</table>\n",
       "<p>13484 rows × 17 columns</p>\n",
       "</div>"
      ],
      "text/plain": [
       "                 Artist Name                             Track Name  \\\n",
       "0                 Bruno Mars  That's What I Like (feat. Gucci Mane)   \n",
       "1                     Boston                           Hitch a Ride   \n",
       "2              The Raincoats                     No Side to Fall In   \n",
       "3                       Deno             Lingo (feat. J.I & Chunkz)   \n",
       "4      Red Hot Chili Peppers      Nobody Weird Like Me - Remastered   \n",
       "...                      ...                                    ...   \n",
       "13479            Green-House                              Find Home   \n",
       "13480               Micatone                               All Gone   \n",
       "13481        Smash Hit Combo                           Peine perdue   \n",
       "13482                Beherit                         Salomon's Gate   \n",
       "13483         The Raconteurs                     Broken Boy Soldier   \n",
       "\n",
       "       danceability  energy  loudness  mode  speechiness  acousticness  \\\n",
       "0             0.854   0.564    -4.964     1       0.0485      0.017100   \n",
       "1             0.382   0.814    -7.230     1       0.0406      0.001100   \n",
       "2             0.434   0.614    -8.334     1       0.0525      0.486000   \n",
       "3             0.853   0.597    -6.528     0       0.0555      0.021200   \n",
       "4             0.167   0.975    -4.279     1       0.2160      0.000169   \n",
       "...             ...     ...       ...   ...          ...           ...   \n",
       "13479         0.166   0.109   -17.100     0       0.0413      0.993000   \n",
       "13480         0.638   0.223   -10.174     0       0.0329      0.858000   \n",
       "13481         0.558   0.981    -4.683     0       0.0712      0.000030   \n",
       "13482         0.215   0.805   -12.757     0       0.1340      0.001290   \n",
       "13483         0.400   0.853    -5.320     0       0.0591      0.006040   \n",
       "\n",
       "       liveness  valence    tempo  time_signature  Class  Popularity  \\\n",
       "0        0.0849   0.8990  134.071               4      5        60.0   \n",
       "1        0.1010   0.5690  116.454               4     10        54.0   \n",
       "2        0.3940   0.7870  147.681               4      6        35.0   \n",
       "3        0.1220   0.5690  107.033               4      5        66.0   \n",
       "4        0.1720   0.0918  199.060               4     10        53.0   \n",
       "...         ...      ...      ...             ...    ...         ...   \n",
       "13479    0.0984   0.1770  171.587               3      6        35.0   \n",
       "13480    0.0705   0.3350   73.016               4      2        27.0   \n",
       "13481    0.6660   0.2620  105.000               4      8        34.0   \n",
       "13482    0.2560   0.3550  131.363               4      8        29.0   \n",
       "13483    0.3340   0.3770  138.102               4     10        43.0   \n",
       "\n",
       "       instrumentalness   key  duration_in_min  \n",
       "0              0.251237   1.0         3.909933  \n",
       "1              0.004010   3.0         4.195550  \n",
       "2              0.000196   6.0         1.827783  \n",
       "3              0.057497  10.0         2.899467  \n",
       "4              0.016100   2.0         3.832667  \n",
       "...                 ...   ...              ...  \n",
       "13479          0.824000   7.0         3.224167  \n",
       "13480          0.000016  11.0         4.284450  \n",
       "13481          0.000136   4.0         3.603700  \n",
       "13482          0.916000   6.0         3.661550  \n",
       "13483          0.212000   4.0         3.037117  \n",
       "\n",
       "[13484 rows x 17 columns]"
      ]
     },
     "execution_count": 21,
     "metadata": {},
     "output_type": "execute_result"
    }
   ],
   "source": [
    "df.reset_index(inplace=True)\n",
    "df.drop(columns=['index'],inplace=True)\n",
    "df"
   ]
  },
  {
   "cell_type": "markdown",
   "id": "c35f1f53",
   "metadata": {},
   "source": [
    "Now that we have removed outliers, it will allow for a better model performance in the later stage"
   ]
  },
  {
   "cell_type": "markdown",
   "id": "06bb4896",
   "metadata": {},
   "source": [
    "<a id='3'><h2 style=\"background-color:lightpink;border-radius:5px;text-align:center;padding:7px;color:white;\"><font color=\"white\">3.Exploratory Data Analysis</h2>"
   ]
  },
  {
   "cell_type": "markdown",
   "id": "ee60a4df",
   "metadata": {},
   "source": [
    "<a id=\"31\"><h3>3.1 Descriptive Statistical Analysis</h3></a>\n",
    "After cleaning the data, we used the describe() function once again to look at the statistical summary of the numerical variables."
   ]
  },
  {
   "cell_type": "code",
   "execution_count": 22,
   "id": "b0f4e811",
   "metadata": {
    "scrolled": true
   },
   "outputs": [
    {
     "data": {
      "text/html": [
       "<div>\n",
       "<style scoped>\n",
       "    .dataframe tbody tr th:only-of-type {\n",
       "        vertical-align: middle;\n",
       "    }\n",
       "\n",
       "    .dataframe tbody tr th {\n",
       "        vertical-align: top;\n",
       "    }\n",
       "\n",
       "    .dataframe thead th {\n",
       "        text-align: right;\n",
       "    }\n",
       "</style>\n",
       "<table border=\"1\" class=\"dataframe\">\n",
       "  <thead>\n",
       "    <tr style=\"text-align: right;\">\n",
       "      <th></th>\n",
       "      <th>danceability</th>\n",
       "      <th>energy</th>\n",
       "      <th>loudness</th>\n",
       "      <th>mode</th>\n",
       "      <th>speechiness</th>\n",
       "      <th>acousticness</th>\n",
       "      <th>liveness</th>\n",
       "      <th>valence</th>\n",
       "      <th>tempo</th>\n",
       "      <th>time_signature</th>\n",
       "      <th>Class</th>\n",
       "      <th>Popularity</th>\n",
       "      <th>instrumentalness</th>\n",
       "      <th>key</th>\n",
       "      <th>duration_in_min</th>\n",
       "    </tr>\n",
       "  </thead>\n",
       "  <tbody>\n",
       "    <tr>\n",
       "      <th>count</th>\n",
       "      <td>13484.000000</td>\n",
       "      <td>13484.000000</td>\n",
       "      <td>13484.000000</td>\n",
       "      <td>13484.000000</td>\n",
       "      <td>13484.000000</td>\n",
       "      <td>13484.000000</td>\n",
       "      <td>13484.000000</td>\n",
       "      <td>13484.000000</td>\n",
       "      <td>13484.000000</td>\n",
       "      <td>13484.000000</td>\n",
       "      <td>13484.000000</td>\n",
       "      <td>13484.000000</td>\n",
       "      <td>13484.000000</td>\n",
       "      <td>13484.000000</td>\n",
       "      <td>13484.000000</td>\n",
       "    </tr>\n",
       "    <tr>\n",
       "      <th>mean</th>\n",
       "      <td>0.551126</td>\n",
       "      <td>0.652734</td>\n",
       "      <td>-7.830060</td>\n",
       "      <td>0.635494</td>\n",
       "      <td>0.071960</td>\n",
       "      <td>0.265530</td>\n",
       "      <td>0.178511</td>\n",
       "      <td>0.484164</td>\n",
       "      <td>122.106857</td>\n",
       "      <td>3.938891</td>\n",
       "      <td>6.857980</td>\n",
       "      <td>43.952996</td>\n",
       "      <td>0.167114</td>\n",
       "      <td>5.934295</td>\n",
       "      <td>3.855722</td>\n",
       "    </tr>\n",
       "    <tr>\n",
       "      <th>std</th>\n",
       "      <td>0.163310</td>\n",
       "      <td>0.233155</td>\n",
       "      <td>3.594211</td>\n",
       "      <td>0.481309</td>\n",
       "      <td>0.063338</td>\n",
       "      <td>0.314791</td>\n",
       "      <td>0.122955</td>\n",
       "      <td>0.240459</td>\n",
       "      <td>29.584804</td>\n",
       "      <td>0.283498</td>\n",
       "      <td>3.155246</td>\n",
       "      <td>17.341515</td>\n",
       "      <td>0.266135</td>\n",
       "      <td>3.074491</td>\n",
       "      <td>1.080495</td>\n",
       "    </tr>\n",
       "    <tr>\n",
       "      <th>min</th>\n",
       "      <td>0.059900</td>\n",
       "      <td>0.016300</td>\n",
       "      <td>-20.892000</td>\n",
       "      <td>0.000000</td>\n",
       "      <td>0.022500</td>\n",
       "      <td>0.000000</td>\n",
       "      <td>0.011900</td>\n",
       "      <td>0.018300</td>\n",
       "      <td>42.956000</td>\n",
       "      <td>3.000000</td>\n",
       "      <td>0.000000</td>\n",
       "      <td>1.000000</td>\n",
       "      <td>0.000001</td>\n",
       "      <td>1.000000</td>\n",
       "      <td>0.388667</td>\n",
       "    </tr>\n",
       "    <tr>\n",
       "      <th>25%</th>\n",
       "      <td>0.441000</td>\n",
       "      <td>0.488000</td>\n",
       "      <td>-9.677500</td>\n",
       "      <td>0.000000</td>\n",
       "      <td>0.034300</td>\n",
       "      <td>0.005940</td>\n",
       "      <td>0.096900</td>\n",
       "      <td>0.292000</td>\n",
       "      <td>98.812750</td>\n",
       "      <td>4.000000</td>\n",
       "      <td>5.000000</td>\n",
       "      <td>32.000000</td>\n",
       "      <td>0.000227</td>\n",
       "      <td>4.000000</td>\n",
       "      <td>3.136667</td>\n",
       "    </tr>\n",
       "    <tr>\n",
       "      <th>50%</th>\n",
       "      <td>0.552000</td>\n",
       "      <td>0.684500</td>\n",
       "      <td>-7.084000</td>\n",
       "      <td>1.000000</td>\n",
       "      <td>0.045900</td>\n",
       "      <td>0.105000</td>\n",
       "      <td>0.125000</td>\n",
       "      <td>0.475000</td>\n",
       "      <td>119.990500</td>\n",
       "      <td>4.000000</td>\n",
       "      <td>8.000000</td>\n",
       "      <td>43.000000</td>\n",
       "      <td>0.015972</td>\n",
       "      <td>6.000000</td>\n",
       "      <td>3.673175</td>\n",
       "    </tr>\n",
       "    <tr>\n",
       "      <th>75%</th>\n",
       "      <td>0.666000</td>\n",
       "      <td>0.851000</td>\n",
       "      <td>-5.205000</td>\n",
       "      <td>1.000000</td>\n",
       "      <td>0.079800</td>\n",
       "      <td>0.480000</td>\n",
       "      <td>0.235000</td>\n",
       "      <td>0.670000</td>\n",
       "      <td>141.014000</td>\n",
       "      <td>4.000000</td>\n",
       "      <td>10.000000</td>\n",
       "      <td>56.000000</td>\n",
       "      <td>0.215106</td>\n",
       "      <td>9.000000</td>\n",
       "      <td>4.364504</td>\n",
       "    </tr>\n",
       "    <tr>\n",
       "      <th>max</th>\n",
       "      <td>0.989000</td>\n",
       "      <td>1.000000</td>\n",
       "      <td>0.943000</td>\n",
       "      <td>1.000000</td>\n",
       "      <td>0.344000</td>\n",
       "      <td>0.996000</td>\n",
       "      <td>0.680000</td>\n",
       "      <td>0.986000</td>\n",
       "      <td>209.905000</td>\n",
       "      <td>5.000000</td>\n",
       "      <td>10.000000</td>\n",
       "      <td>95.000000</td>\n",
       "      <td>0.996000</td>\n",
       "      <td>11.000000</td>\n",
       "      <td>8.429550</td>\n",
       "    </tr>\n",
       "  </tbody>\n",
       "</table>\n",
       "</div>"
      ],
      "text/plain": [
       "       danceability        energy      loudness          mode   speechiness  \\\n",
       "count  13484.000000  13484.000000  13484.000000  13484.000000  13484.000000   \n",
       "mean       0.551126      0.652734     -7.830060      0.635494      0.071960   \n",
       "std        0.163310      0.233155      3.594211      0.481309      0.063338   \n",
       "min        0.059900      0.016300    -20.892000      0.000000      0.022500   \n",
       "25%        0.441000      0.488000     -9.677500      0.000000      0.034300   \n",
       "50%        0.552000      0.684500     -7.084000      1.000000      0.045900   \n",
       "75%        0.666000      0.851000     -5.205000      1.000000      0.079800   \n",
       "max        0.989000      1.000000      0.943000      1.000000      0.344000   \n",
       "\n",
       "       acousticness      liveness       valence         tempo  time_signature  \\\n",
       "count  13484.000000  13484.000000  13484.000000  13484.000000    13484.000000   \n",
       "mean       0.265530      0.178511      0.484164    122.106857        3.938891   \n",
       "std        0.314791      0.122955      0.240459     29.584804        0.283498   \n",
       "min        0.000000      0.011900      0.018300     42.956000        3.000000   \n",
       "25%        0.005940      0.096900      0.292000     98.812750        4.000000   \n",
       "50%        0.105000      0.125000      0.475000    119.990500        4.000000   \n",
       "75%        0.480000      0.235000      0.670000    141.014000        4.000000   \n",
       "max        0.996000      0.680000      0.986000    209.905000        5.000000   \n",
       "\n",
       "              Class    Popularity  instrumentalness           key  \\\n",
       "count  13484.000000  13484.000000      13484.000000  13484.000000   \n",
       "mean       6.857980     43.952996          0.167114      5.934295   \n",
       "std        3.155246     17.341515          0.266135      3.074491   \n",
       "min        0.000000      1.000000          0.000001      1.000000   \n",
       "25%        5.000000     32.000000          0.000227      4.000000   \n",
       "50%        8.000000     43.000000          0.015972      6.000000   \n",
       "75%       10.000000     56.000000          0.215106      9.000000   \n",
       "max       10.000000     95.000000          0.996000     11.000000   \n",
       "\n",
       "       duration_in_min  \n",
       "count     13484.000000  \n",
       "mean          3.855722  \n",
       "std           1.080495  \n",
       "min           0.388667  \n",
       "25%           3.136667  \n",
       "50%           3.673175  \n",
       "75%           4.364504  \n",
       "max           8.429550  "
      ]
     },
     "execution_count": 22,
     "metadata": {},
     "output_type": "execute_result"
    }
   ],
   "source": [
    "describe_df=df.describe()\n",
    "describe_df"
   ]
  },
  {
   "cell_type": "markdown",
   "id": "a6c1417e",
   "metadata": {},
   "source": [
    "From this dataframe, we may not be able to visualize at one glance the distrbution of all chracteristics. Hence, I have decided to plot the distribution of each characteristics below"
   ]
  },
  {
   "cell_type": "markdown",
   "id": "b71c66e0",
   "metadata": {},
   "source": [
    "### Distribution of each music characteristics"
   ]
  },
  {
   "cell_type": "code",
   "execution_count": 23,
   "id": "65a259c4",
   "metadata": {
    "scrolled": true
   },
   "outputs": [
    {
     "name": "stderr",
     "output_type": "stream",
     "text": [
      "C:\\Users\\JiaYi\\anaconda3\\lib\\site-packages\\seaborn\\distributions.py:2557: FutureWarning: `distplot` is a deprecated function and will be removed in a future version. Please adapt your code to use either `displot` (a figure-level function with similar flexibility) or `histplot` (an axes-level function for histograms).\n",
      "  warnings.warn(msg, FutureWarning)\n"
     ]
    },
    {
     "data": {
      "image/png": "[encoded data removed]",
      "text/plain": [
       "<Figure size 1440x1080 with 15 Axes>"
      ]
     },
     "metadata": {
      "needs_background": "light"
     },
     "output_type": "display_data"
    }
   ],
   "source": [
    "\n",
    "labels =[\"danceability\",\"energy\",\"loudness\",\"mode\",\"speechiness\",\"acousticness\",\"liveness\",\"valence\",\"tempo\",\"duration_in_min\",\"time_signature\",\"instrumentalness\",\"key\",\"Popularity\",\"Class\"]\n",
    "row, col = 5, 3\n",
    "\n",
    "fig, ax = plt.subplots(5, 3, figsize=(20,15))\n",
    "for i in range(5):\n",
    "    for j in range(3):\n",
    "        c_type = labels[i*col+j]\n",
    "        c_ax = ax[i][j]\n",
    "        dplot=sns.distplot(df[c_type],kde=False,color='red',norm_hist=False,bins=50,ax=c_ax)\n",
    "        c_ax.set_title(label=c_type,fontdict = {'fontsize': 14})\n",
    "        \n",
    "        \n",
    "       "
   ]
  },
  {
   "cell_type": "markdown",
   "id": "6fdd8364",
   "metadata": {},
   "source": [
    "<h4> Insights </h4>\n",
    "\n",
    "<h4>Music Characteristics that have an symmetical distribution</h4>\n",
    "1. Danceability<br>\n",
    "2. Valence<br>\n",
    "\n",
    "<h4>Music Characteristics that have an left-skewed distribution</h4> \n",
    "1. Energy<br>\n",
    "2. Loudness<br>\n",
    "\n",
    "<h4>Music Characteristics that have an right-skewed distribution</h4> \n",
    "1. Speechiness<br>\n",
    "2. Liveness<br>\n",
    "3. Acousticness<br>\n",
    "4. Instrumentalness<br>\n",
    "5. Duration in min<br>\n",
    "\n",
    "<h4>Music Characteristics that have an multimodal distribution</h4> \n",
    "1. Key<br>\n",
    "2. Tempo<br>\n",
    "\n",
    "<h4>Music Characteristics that have only 1 or 2 bars in their distribution</h4> \n",
    "1. Mode<br>\n",
    "2. Time Signature<br>\n"
   ]
  },
  {
   "cell_type": "markdown",
   "id": "b2ad2dfe",
   "metadata": {},
   "source": [
    "<a id=\"32\"><h3>3.2 Correlation Analysis</h3></a>\n",
    "Next, we conducted a Correlation Analysis to better understand the relationship between the 13 key factors affecting the class of the music."
   ]
  },
  {
   "cell_type": "code",
   "execution_count": 391,
   "id": "f8dfde89",
   "metadata": {},
   "outputs": [
    {
     "data": {
      "image/png": "[encoded data removed]",
      "text/plain": [
       "<Figure size 720x360 with 1 Axes>"
      ]
     },
     "metadata": {
      "needs_background": "light"
     },
     "output_type": "display_data"
    }
   ],
   "source": [
    "corr_mat = df.corr()\n",
    "plt.figure(figsize = (10,5))\n",
    "corr_mat['Class'].sort_values(ascending = False).plot(kind = 'bar');\n",
    "plt.title('Music Correlation Bar Chart(Factors Vs Class)')\n",
    "plt.xlabel('Music Characteristics')\n",
    "plt.ylabel('Correlation Factor')\n",
    "plt.show()"
   ]
  },
  {
   "cell_type": "code",
   "execution_count": 392,
   "id": "d84a45e9",
   "metadata": {
    "scrolled": false
   },
   "outputs": [
    {
     "data": {
      "image/png": "[encoded data removed]",
      "text/plain": [
       "<Figure size 1008x864 with 2 Axes>"
      ]
     },
     "metadata": {
      "needs_background": "light"
     },
     "output_type": "display_data"
    }
   ],
   "source": [
    "#data_df_corr = data_df.corr()\n",
    "#data_df_corr.style.background_gradient(cmap = 'coolwarm').set_precision(2)\n",
    "import numpy as np\n",
    "rs = np.random.RandomState(33)\n",
    "\n",
    "# Generate a mask for the upper triangle\n",
    "mask = np.triu(np.ones_like(df.corr(), dtype=bool))\n",
    "\n",
    "plt.figure(figsize=(14,12)) \n",
    "plt.title('Music Correlation Matrix', fontsize = 16)\n",
    "p=sns.heatmap(df.corr(), linewidth = 0.5, annot=True, cmap='coolwarm',mask=mask) \n",
    "\n"
   ]
  },
  {
   "cell_type": "markdown",
   "id": "71ced7c6",
   "metadata": {},
   "source": [
    "<h4>Insights:</h4>\n",
    "<b>Correlation between music characteristics and class</b><br>\n",
    "Overall correlation between the 13 variables and the Class is not very strong.\n",
    "However, I have identified four variables which had significant correlation with the Class<br>\n",
    "1. Acousticness Vs Class(-0.3) <br>\n",
    "2. Energy Vs Class(0.28)<br>\n",
    "3. Loudness Vs Class(0.24)<br>\n",
    "\n",
    "<b>Correlation among music characteristics </b><br>\n",
    "High Correlation exist among these music characteristics\n",
    "1. Loudness Vs Energy(0.76)\n",
    "2. Acousticness Vs Energy (-0.74)\n",
    "3. Acousticness Vs Loudness(-0.59)\n"
   ]
  },
  {
   "cell_type": "markdown",
   "id": "13baf5ac",
   "metadata": {},
   "source": [
    "<a id=\"33\"><h3>3.3 Class Analysis</h3></a>\n",
    "Next, I will be analysing the class of the music to get a better understanding of it."
   ]
  },
  {
   "cell_type": "markdown",
   "id": "ccc15ec5",
   "metadata": {},
   "source": [
    "### Distribution and Porportion of class "
   ]
  },
  {
   "cell_type": "code",
   "execution_count": 393,
   "id": "321f8d9b",
   "metadata": {},
   "outputs": [
    {
     "data": {
      "text/plain": [
       "10    3800\n",
       "9     2125\n",
       "6     1654\n",
       "8     1524\n",
       "2     1065\n",
       "5     1062\n",
       "0      592\n",
       "1      543\n",
       "4      380\n",
       "7      378\n",
       "3      361\n",
       "Name: Class, dtype: int64"
      ]
     },
     "execution_count": 393,
     "metadata": {},
     "output_type": "execute_result"
    }
   ],
   "source": [
    "class_count= df.Class.value_counts()\n",
    "class_count"
   ]
  },
  {
   "cell_type": "code",
   "execution_count": 394,
   "id": "9ff4ce0d",
   "metadata": {},
   "outputs": [
    {
     "data": {
      "image/png": "[encoded data removed]",
      "text/plain": [
       "<Figure size 720x576 with 1 Axes>"
      ]
     },
     "metadata": {},
     "output_type": "display_data"
    }
   ],
   "source": [
    "plt.figure(figsize=(10,8)) \n",
    "plt.title(\"Song class Division\",fontsize=16)\n",
    "plt.pie(class_count, labels = class_count.index, autopct='%1.1f%%');"
   ]
  },
  {
   "cell_type": "code",
   "execution_count": 395,
   "id": "da3a8bcd",
   "metadata": {},
   "outputs": [
    {
     "name": "stderr",
     "output_type": "stream",
     "text": [
      "C:\\Users\\JiaYi\\anaconda3\\lib\\site-packages\\seaborn\\distributions.py:2557: FutureWarning: `distplot` is a deprecated function and will be removed in a future version. Please adapt your code to use either `displot` (a figure-level function with similar flexibility) or `histplot` (an axes-level function for histograms).\n",
      "  warnings.warn(msg, FutureWarning)\n"
     ]
    },
    {
     "data": {
      "text/plain": [
       "Text(0, 0.5, 'Count')"
      ]
     },
     "execution_count": 395,
     "metadata": {},
     "output_type": "execute_result"
    },
    {
     "data": {
      "image/png": "[encoded data removed]",
      "text/plain": [
       "<Figure size 1152x720 with 1 Axes>"
      ]
     },
     "metadata": {
      "needs_background": "light"
     },
     "output_type": "display_data"
    }
   ],
   "source": [
    "figure = plt.figure(figsize=(16,10))\n",
    "\n",
    "# Distribution of Volatile acidity\n",
    "ax1 = figure.add_subplot(2, 2, 1)\n",
    "sns.distplot(df['Class'],\n",
    "             norm_hist=False,\n",
    "             bins=50,\n",
    "             color='red',\n",
    "             ax=ax1).set_title('Distribution of Class')\n",
    "ax1.set_ylabel(\"Count\")"
   ]
  },
  {
   "cell_type": "markdown",
   "id": "9c4a9a9b",
   "metadata": {},
   "source": [
    "<h6>Insights:</h6>\n",
    "As we can see from the above pie chart, Class 10 stands the highest percentage of 28.2% followed by class 9 then 6. The classes with the lower data examples are classes 4,3,7,0. They have around 2% to 4% of data examples which is around 360 to 540. \n",
    "\n",
    "There is uneven distribution between 11 classes where Class 10 hits the highest percentage of 28.2%. There are many minority classes such as class 7,3,4,0 where their population is less than 5%. Hence, during modelling stage, I will be balancing the data.\n"
   ]
  },
  {
   "cell_type": "markdown",
   "id": "df37df7d",
   "metadata": {},
   "source": [
    "<a id=\"35\"><h3>3.4 Further Analysis of Music Charateristics and Class</h3></a>"
   ]
  },
  {
   "cell_type": "markdown",
   "id": "853cdb5a",
   "metadata": {},
   "source": [
    "<h3>3.4.1 Median music characteristic across all classes</h3>"
   ]
  },
  {
   "cell_type": "code",
   "execution_count": 396,
   "id": "38273c39",
   "metadata": {},
   "outputs": [],
   "source": [
    "def plot_genre_horizontal_bar(col, title=None):\n",
    "    data = df.groupby('Class')[col].median().sort_values()\n",
    "\n",
    "    cmap = plt.cm.coolwarm_r\n",
    "    norm = plt.Normalize(vmin=data.min(), vmax=data.max())\n",
    "    colors = [cmap(norm(value)) for value in data]\n",
    "\n",
    "    data.plot.barh(color=colors)\n",
    "    plt.xlabel(col)\n",
    "    plt.title(title, fontdict={'size': 13})\n",
    "    plt.show()"
   ]
  },
  {
   "cell_type": "code",
   "execution_count": 422,
   "id": "d8b6f898",
   "metadata": {
    "scrolled": true
   },
   "outputs": [
    {
     "data": {
      "image/png": "[encoded data removed]",
      "text/plain": [
       "<Figure size 432x288 with 1 Axes>"
      ]
     },
     "metadata": {
      "needs_background": "light"
     },
     "output_type": "display_data"
    },
    {
     "data": {
      "image/png": "[encoded data removed]",
      "text/plain": [
       "<Figure size 432x288 with 1 Axes>"
      ]
     },
     "metadata": {
      "needs_background": "light"
     },
     "output_type": "display_data"
    },
    {
     "data": {
      "image/png": "[encoded data removed]",
      "text/plain": [
       "<Figure size 432x288 with 1 Axes>"
      ]
     },
     "metadata": {
      "needs_background": "light"
     },
     "output_type": "display_data"
    },
    {
     "data": {
      "image/png": "[encoded data removed]",
      "text/plain": [
       "<Figure size 432x288 with 1 Axes>"
      ]
     },
     "metadata": {
      "needs_background": "light"
     },
     "output_type": "display_data"
    },
    {
     "data": {
      "image/png": "[encoded data removed]",
      "text/plain": [
       "<Figure size 432x288 with 1 Axes>"
      ]
     },
     "metadata": {
      "needs_background": "light"
     },
     "output_type": "display_data"
    },
    {
     "data": {
      "image/png": "[encoded data removed]",
      "text/plain": [
       "<Figure size 432x288 with 1 Axes>"
      ]
     },
     "metadata": {
      "needs_background": "light"
     },
     "output_type": "display_data"
    },
    {
     "data": {
      "image/png": "[encoded data removed]",
      "text/plain": [
       "<Figure size 432x288 with 1 Axes>"
      ]
     },
     "metadata": {
      "needs_background": "light"
     },
     "output_type": "display_data"
    },
    {
     "data": {
      "image/png": "[encoded data removed]",
      "text/plain": [
       "<Figure size 432x288 with 1 Axes>"
      ]
     },
     "metadata": {
      "needs_background": "light"
     },
     "output_type": "display_data"
    },
    {
     "data": {
      "image/png": "[encoded data removed]",
      "text/plain": [
       "<Figure size 432x288 with 1 Axes>"
      ]
     },
     "metadata": {
      "needs_background": "light"
     },
     "output_type": "display_data"
    },
    {
     "data": {
      "image/png": "[encoded data removed]",
      "text/plain": [
       "<Figure size 432x288 with 1 Axes>"
      ]
     },
     "metadata": {
      "needs_background": "light"
     },
     "output_type": "display_data"
    }
   ],
   "source": [
    "labels =[\"danceability\",\"energy\",\"loudness\",\"speechiness\",\"acousticness\",\"liveness\",\"valence\",\"tempo\",\"duration_in_min\",\"instrumentalness\"]\n",
    "for i in range(len(labels)):\n",
    "    plot_genre_horizontal_bar(labels[i],title=\"Median \"+labels[i]+\" in each class\")\n"
   ]
  },
  {
   "cell_type": "markdown",
   "id": "a1794441",
   "metadata": {},
   "source": [
    "<h4>Insights on music characteristics across different music genres/classes:</h4>\n",
    "\n",
    "Class with highest danceability:<b>Class 5</b>\n",
    "\n",
    "Class with highest energy:<b>Class 8</b>\n",
    "    \n",
    "Class with highest volume(loudness):<b>Class 8</b>\n",
    "\n",
    "Class with highest speechiness:<b>Class 5</b>\n",
    "\n",
    "Class with highest acousticness:<b>Class 7</b>\n",
    "\n",
    "Class with highest liveness:<b>Class 8</b>\n",
    "\n",
    "Class with highest valence:<b>Class 3</b>\n",
    "\n",
    "Class with highest tempo:<b>Class 8</b>\n",
    "\n",
    "Class with highest duration:<b>Class 3</b>\n",
    "\n",
    "Class with highest instrumentalness:<b>Class 7</b>\n",
    "\n",
    "<h4>Further Interesting Insights:</h4>\n",
    "1. Songs of class 8 have the highest value for most music characteristics.<br>\n",
    "2. For instrumentalness in each class, all classes except for class 7 have near to 0.0 instrumentalness. <br>"
   ]
  },
  {
   "cell_type": "markdown",
   "id": "5a62c35b",
   "metadata": {},
   "source": [
    "<h3>3.4.2 Deeper Dive into Analysis between music characteristic and class</h3>"
   ]
  },
  {
   "cell_type": "markdown",
   "id": "92bb5906",
   "metadata": {},
   "source": [
    "In this section, we will only focus on the 3 most significant variables(Acousticness,Energy and Loudness ) as mentioned in the correlation\n",
    "matrix above. I will dive deeper to analyse the relationship between each of the 3 factors and the Class to produce some insights from it. "
   ]
  },
  {
   "cell_type": "markdown",
   "id": "8358afae",
   "metadata": {},
   "source": [
    "### 3.4.2.1 Acousticness Vs Class"
   ]
  },
  {
   "cell_type": "code",
   "execution_count": 426,
   "id": "1c4c8a5e",
   "metadata": {},
   "outputs": [
    {
     "name": "stderr",
     "output_type": "stream",
     "text": [
      "C:\\Users\\JiaYi\\anaconda3\\lib\\site-packages\\seaborn\\distributions.py:2557: FutureWarning: `distplot` is a deprecated function and will be removed in a future version. Please adapt your code to use either `displot` (a figure-level function with similar flexibility) or `histplot` (an axes-level function for histograms).\n",
      "  warnings.warn(msg, FutureWarning)\n"
     ]
    },
    {
     "data": {
      "text/plain": [
       "Text(0.5, 0.98, 'Correlation of acousticness and Class')"
      ]
     },
     "execution_count": 426,
     "metadata": {},
     "output_type": "execute_result"
    },
    {
     "data": {
      "image/png": "[encoded data removed]",
      "text/plain": [
       "<Figure size 1152x720 with 3 Axes>"
      ]
     },
     "metadata": {
      "needs_background": "light"
     },
     "output_type": "display_data"
    },
    {
     "data": {
      "image/png": "[encoded data removed]",
      "text/plain": [
       "<Figure size 432x432 with 3 Axes>"
      ]
     },
     "metadata": {
      "needs_background": "light"
     },
     "output_type": "display_data"
    }
   ],
   "source": [
    "figure = plt.figure(figsize=(16,10)) \n",
    "# Distribution of acousticness \n",
    "ax1 = figure.add_subplot(2, 2, 1) \n",
    "sns.distplot(df['acousticness'], kde=False, norm_hist=False, bins=50, color='red', ax=ax1).set_title('Distribution of acousticness') \n",
    "ax1.set_ylabel(\"Count\") \n",
    "# Distribution of Class \n",
    "ax2 = figure.add_subplot(2, 2, 2) \n",
    "sns.distplot(df['Class'], bins=50, ax=ax2).set_title('Distribution of Class') \n",
    "ax2.set_ylabel(\"Count\") \n",
    "# Boxplot \n",
    "ax3 = figure.add_subplot(2, 2, 3) \n",
    "sns.boxplot(data = df, x = 'Class', y = 'acousticness',ax=ax3).set_title(\"Boxplot of acousticness and Class\")\n",
    "plt.suptitle(\"acousticness vs Class\", fontsize=15) \n",
    "# Correlation of acousticness and Class \n",
    "sns.jointplot(x = \"acousticness\", y = \"Class\", kind = \"reg\", data = df, dropna = True,color='sandybrown') \n",
    "plt.suptitle(\"Correlation of acousticness and Class\") \n",
    "\n",
    "\n"
   ]
  },
  {
   "cell_type": "markdown",
   "id": "93679b0a",
   "metadata": {},
   "source": [
    "<h3 style=\"padding:5px;color:white;background-color:#C4E0E5;text-align: center;margin-left:auto;margin-right:auto;border-radius:10px;\">Insights</h3><br>\n",
    "a) <u><b>Distribution Chart of acousticness:</b></u><br>\n",
    "The distribution chart of acousticness is right-skewed which means that the quantity of acousticness is quite less in this dataset.\n",
    "The quantity of acousticness ranges between 0.0 to 1.0 g/dm^3 where the distribution mainly clusters around 0.0 to 0.2. \n",
    "\n",
    "b) <u><b>Distribution Chart of class:</b></u><br>\n",
    "We can see that the chart is left-skewed where most of the class is class 10.\n",
    "\n",
    "c) <u><b>Boxplot for acousticness:</b></u><br>\n",
    "From the boxplot, we can see that  Classes  0,3,7 has a higher value of accousticness where the median value of acousticness is above 0.6. Whereas for classes 1，2，4，5，6，8，9 and 10, song in this class have a lower value of accoustiness where median value is bove 0.4.\n",
    "\n",
    "d) <u><b>Joint Plot for acousticness and class:</b></u><br>\n",
    "We have combined the two distribution charts together to see their relationship. We learned that there is an negative relationship between acousticness and class as the orange line shows a negative linear graph. This evidences the results from the boxplot where the increase in acousticness results in an decrease in class number.\n",
    "The graph is quite steeped up which shows that the relationship between acousticness and class is quite strong."
   ]
  },
  {
   "cell_type": "markdown",
   "id": "bf195aa2",
   "metadata": {},
   "source": [
    "### 3.4.2.2 Energy Vs Class"
   ]
  },
  {
   "cell_type": "code",
   "execution_count": 417,
   "id": "d5cc8a10",
   "metadata": {},
   "outputs": [
    {
     "name": "stderr",
     "output_type": "stream",
     "text": [
      "C:\\Users\\JiaYi\\anaconda3\\lib\\site-packages\\seaborn\\distributions.py:2557: FutureWarning: `distplot` is a deprecated function and will be removed in a future version. Please adapt your code to use either `displot` (a figure-level function with similar flexibility) or `histplot` (an axes-level function for histograms).\n",
      "  warnings.warn(msg, FutureWarning)\n"
     ]
    },
    {
     "data": {
      "text/plain": [
       "Text(0.5, 0.98, 'Correlation of energy and Class')"
      ]
     },
     "execution_count": 417,
     "metadata": {},
     "output_type": "execute_result"
    },
    {
     "data": {
      "image/png": "[encoded data removed]",
      "text/plain": [
       "<Figure size 1152x720 with 3 Axes>"
      ]
     },
     "metadata": {
      "needs_background": "light"
     },
     "output_type": "display_data"
    },
    {
     "data": {
      "image/png": "[encoded data removed]",
      "text/plain": [
       "<Figure size 432x432 with 3 Axes>"
      ]
     },
     "metadata": {
      "needs_background": "light"
     },
     "output_type": "display_data"
    }
   ],
   "source": [
    "figure = plt.figure(figsize=(16,10)) \n",
    "# Distribution of energy \n",
    "ax1 = figure.add_subplot(2, 2, 1) \n",
    "sns.distplot(df['energy'], kde=False, norm_hist=False, bins=50, color='red', ax=ax1).set_title('Distribution of energy') \n",
    "ax1.set_ylabel(\"Count\") \n",
    "# Distribution of Class \n",
    "ax2 = figure.add_subplot(2, 2, 2) \n",
    "sns.distplot(df['Class'], bins=50, ax=ax2).set_title('Distribution of Class') \n",
    "ax2.set_ylabel(\"Count\") \n",
    "# Boxplot \n",
    "ax3 = figure.add_subplot(2, 2, 3) \n",
    "sns.boxplot(data = df, x = 'Class', y = 'energy',ax=ax3).set_title(\"Boxplot of energy and Class\")\n",
    "plt.suptitle(\"Energy vs Class\", fontsize=15) \n",
    "# Correlation of energy and Class \n",
    "sns.jointplot(x = \"energy\", y = \"Class\", kind = \"reg\", data = df, dropna = True,color='sandybrown') \n",
    "plt.suptitle(\"Correlation of energy and Class\") \n",
    "\n",
    "\n"
   ]
  },
  {
   "cell_type": "markdown",
   "id": "b8d3d785",
   "metadata": {},
   "source": [
    "<h3 style=\"padding:5px;color:white;background-color:#C4E0E5;text-align: center;margin-left:auto;margin-right:auto;border-radius:10px;\">Insights</h3><br>\n",
    "a) <u><b>Distribution Chart of Energy:</b></u><br>\n",
    "The distribution chart of energy is very left-skewed which means that the quantity of energy is quite alot in this dataset.\n",
    "The quantity of energy ranges between 0.0 to 1.0 where the distribution is higher when value of energy increases\n",
    "\n",
    "b) <u><b>Distribution Chart of class:</b></u><br>\n",
    "We can see that the chart is left-skewed where most of the class is class 10.\n",
    "\n",
    "c) <u><b>Boxplot for energy:</b></u><br>\n",
    "From the boxplot, we can see that for most classes, their energy level is quite high for most classes the median value of energy is 0.5 and above. For Class 7, the energy level is very low as compared to other Classes with the median value of energy at 0.1~.\n",
    "\n",
    "d) <u><b>Joint Plot for energy and class:</b></u><br>\n",
    "We have combined the two distribution charts together to see their relationship. We learned that there is an positive relationship between energy and class as the orange line shows a positive linear graph. This evidences the results from the boxplot where the increase in energy results in an increase in class number.\n",
    "The graph is quite steeped up which shows that the relationship between energy and class is quite strong."
   ]
  },
  {
   "cell_type": "markdown",
   "id": "a4e6751d",
   "metadata": {},
   "source": [
    "### 3.4.2.3 Loudness Vs Class"
   ]
  },
  {
   "cell_type": "code",
   "execution_count": 418,
   "id": "375a89c4",
   "metadata": {},
   "outputs": [
    {
     "name": "stderr",
     "output_type": "stream",
     "text": [
      "C:\\Users\\JiaYi\\anaconda3\\lib\\site-packages\\seaborn\\distributions.py:2557: FutureWarning: `distplot` is a deprecated function and will be removed in a future version. Please adapt your code to use either `displot` (a figure-level function with similar flexibility) or `histplot` (an axes-level function for histograms).\n",
      "  warnings.warn(msg, FutureWarning)\n"
     ]
    },
    {
     "data": {
      "text/plain": [
       "Text(0.5, 0.98, 'Correlation of loudness and Class')"
      ]
     },
     "execution_count": 418,
     "metadata": {},
     "output_type": "execute_result"
    },
    {
     "data": {
      "image/png": "[encoded data removed]",
      "text/plain": [
       "<Figure size 1152x720 with 3 Axes>"
      ]
     },
     "metadata": {
      "needs_background": "light"
     },
     "output_type": "display_data"
    },
    {
     "data": {
      "image/png": "[encoded data removed]",
      "text/plain": [
       "<Figure size 432x432 with 3 Axes>"
      ]
     },
     "metadata": {
      "needs_background": "light"
     },
     "output_type": "display_data"
    }
   ],
   "source": [
    "figure = plt.figure(figsize=(16,10)) \n",
    "# Distribution of loudness \n",
    "ax1 = figure.add_subplot(2, 2, 1) \n",
    "sns.distplot(df['loudness'], kde=False, norm_hist=False, bins=50, color='red', ax=ax1).set_title('Distribution of loudness') \n",
    "ax1.set_ylabel(\"Count\") \n",
    "# Distribution of Class \n",
    "ax2 = figure.add_subplot(2, 2, 2) \n",
    "sns.distplot(df['Class'], bins=50, ax=ax2).set_title('Distribution of Class') \n",
    "ax2.set_ylabel(\"Count\") \n",
    "# Boxplot \n",
    "ax3 = figure.add_subplot(2, 2, 3) \n",
    "sns.boxplot(data = df, x = 'Class', y = 'loudness',ax=ax3).set_title(\"Boxplot of loudness and Class\")\n",
    "plt.suptitle(\"Loudness vs Class\", fontsize=15) \n",
    "# Correlation of loudness and Class \n",
    "sns.jointplot(x = \"loudness\", y = \"Class\", kind = \"reg\", data = df, dropna = True,color='sandybrown') \n",
    "plt.suptitle(\"Correlation of loudness and Class\") \n",
    "\n",
    "\n"
   ]
  },
  {
   "cell_type": "markdown",
   "id": "6cf3bb30",
   "metadata": {},
   "source": [
    "<h3 style=\"padding:5px;color:white;background-color:#C4E0E5;text-align: center;margin-left:auto;margin-right:auto;border-radius:10px;\">Insights</h3><br>\n",
    "a) <u><b>Distribution Chart of loudness:</b></u><br>\n",
    "The distribution chart of loudness is very left-skewed which means that the quantity of loudness is quite alot in this dataset.\n",
    "The quantity of loudness is higher when value is higher (around -10 to -5）。\n",
    "\n",
    "b) <u><b>Distribution Chart of class:</b></u><br>\n",
    "We can see that the chart is left-skewed where most of the class is class 10.\n",
    "\n",
    "c) <u><b>Boxplot for loudness:</b></u><br>\n",
    "From the boxplot, we can see that for most classes, their loudness level is quite high for most classes the median value of loudness is -10 and above. For Class 7, the loudness level is very low as compared to other Classes with the median value of loudness at -17~.\n",
    "\n",
    "d) <u><b>Joint Plot for loudness and class:</b></u><br>\n",
    "We have combined the two distribution charts together to see their relationship. We learned that there is an positive relationship between loudness and class as the orange line shows a positive linear graph. This evidences the results from the boxplot where the increase in loudness results in an increase in class number.\n",
    "The graph is quite steeped up which shows that the relationship between loudness and class is quite strong.\n",
    "\n",
    "\n"
   ]
  },
  {
   "cell_type": "markdown",
   "id": "c282b0b7",
   "metadata": {},
   "source": [
    "<a id='7'><h2 style=\"background-color:lightpink;border-radius:5px;text-align:center;padding:7px;color:white;\"><font color=\"white\">4. Modelling, Evaluation and Prediction</h2>"
   ]
  },
  {
   "cell_type": "markdown",
   "id": "af91836c",
   "metadata": {},
   "source": [
    "### <a id=\"8\">4.1 Preparing Data for modelling</a>"
   ]
  },
  {
   "cell_type": "markdown",
   "id": "b8b0757e",
   "metadata": {},
   "source": [
    "Let us first drop columns that are not definitely not involved in the prediction of class. "
   ]
  },
  {
   "cell_type": "code",
   "execution_count": 22,
   "id": "b27dba1c",
   "metadata": {},
   "outputs": [],
   "source": [
    "df_modelling=df.drop(['Artist Name',\"Track Name\",\"Popularity\"],axis=1)"
   ]
  },
  {
   "cell_type": "code",
   "execution_count": 23,
   "id": "8af4766f",
   "metadata": {},
   "outputs": [
    {
     "data": {
      "text/html": [
       "<div>\n",
       "<style scoped>\n",
       "    .dataframe tbody tr th:only-of-type {\n",
       "        vertical-align: middle;\n",
       "    }\n",
       "\n",
       "    .dataframe tbody tr th {\n",
       "        vertical-align: top;\n",
       "    }\n",
       "\n",
       "    .dataframe thead th {\n",
       "        text-align: right;\n",
       "    }\n",
       "</style>\n",
       "<table border=\"1\" class=\"dataframe\">\n",
       "  <thead>\n",
       "    <tr style=\"text-align: right;\">\n",
       "      <th></th>\n",
       "      <th>danceability</th>\n",
       "      <th>energy</th>\n",
       "      <th>loudness</th>\n",
       "      <th>mode</th>\n",
       "      <th>speechiness</th>\n",
       "      <th>acousticness</th>\n",
       "      <th>liveness</th>\n",
       "      <th>valence</th>\n",
       "      <th>tempo</th>\n",
       "      <th>time_signature</th>\n",
       "      <th>Class</th>\n",
       "      <th>instrumentalness</th>\n",
       "      <th>key</th>\n",
       "      <th>duration_in_min</th>\n",
       "    </tr>\n",
       "  </thead>\n",
       "  <tbody>\n",
       "    <tr>\n",
       "      <th>0</th>\n",
       "      <td>0.854</td>\n",
       "      <td>0.564</td>\n",
       "      <td>-4.964</td>\n",
       "      <td>1</td>\n",
       "      <td>0.0485</td>\n",
       "      <td>0.017100</td>\n",
       "      <td>0.0849</td>\n",
       "      <td>0.8990</td>\n",
       "      <td>134.071</td>\n",
       "      <td>4</td>\n",
       "      <td>5</td>\n",
       "      <td>0.251237</td>\n",
       "      <td>1.0</td>\n",
       "      <td>3.909933</td>\n",
       "    </tr>\n",
       "    <tr>\n",
       "      <th>1</th>\n",
       "      <td>0.382</td>\n",
       "      <td>0.814</td>\n",
       "      <td>-7.230</td>\n",
       "      <td>1</td>\n",
       "      <td>0.0406</td>\n",
       "      <td>0.001100</td>\n",
       "      <td>0.1010</td>\n",
       "      <td>0.5690</td>\n",
       "      <td>116.454</td>\n",
       "      <td>4</td>\n",
       "      <td>10</td>\n",
       "      <td>0.004010</td>\n",
       "      <td>3.0</td>\n",
       "      <td>4.195550</td>\n",
       "    </tr>\n",
       "    <tr>\n",
       "      <th>2</th>\n",
       "      <td>0.434</td>\n",
       "      <td>0.614</td>\n",
       "      <td>-8.334</td>\n",
       "      <td>1</td>\n",
       "      <td>0.0525</td>\n",
       "      <td>0.486000</td>\n",
       "      <td>0.3940</td>\n",
       "      <td>0.7870</td>\n",
       "      <td>147.681</td>\n",
       "      <td>4</td>\n",
       "      <td>6</td>\n",
       "      <td>0.000196</td>\n",
       "      <td>6.0</td>\n",
       "      <td>1.827783</td>\n",
       "    </tr>\n",
       "    <tr>\n",
       "      <th>3</th>\n",
       "      <td>0.853</td>\n",
       "      <td>0.597</td>\n",
       "      <td>-6.528</td>\n",
       "      <td>0</td>\n",
       "      <td>0.0555</td>\n",
       "      <td>0.021200</td>\n",
       "      <td>0.1220</td>\n",
       "      <td>0.5690</td>\n",
       "      <td>107.033</td>\n",
       "      <td>4</td>\n",
       "      <td>5</td>\n",
       "      <td>0.057497</td>\n",
       "      <td>10.0</td>\n",
       "      <td>2.899467</td>\n",
       "    </tr>\n",
       "    <tr>\n",
       "      <th>4</th>\n",
       "      <td>0.167</td>\n",
       "      <td>0.975</td>\n",
       "      <td>-4.279</td>\n",
       "      <td>1</td>\n",
       "      <td>0.2160</td>\n",
       "      <td>0.000169</td>\n",
       "      <td>0.1720</td>\n",
       "      <td>0.0918</td>\n",
       "      <td>199.060</td>\n",
       "      <td>4</td>\n",
       "      <td>10</td>\n",
       "      <td>0.016100</td>\n",
       "      <td>2.0</td>\n",
       "      <td>3.832667</td>\n",
       "    </tr>\n",
       "    <tr>\n",
       "      <th>...</th>\n",
       "      <td>...</td>\n",
       "      <td>...</td>\n",
       "      <td>...</td>\n",
       "      <td>...</td>\n",
       "      <td>...</td>\n",
       "      <td>...</td>\n",
       "      <td>...</td>\n",
       "      <td>...</td>\n",
       "      <td>...</td>\n",
       "      <td>...</td>\n",
       "      <td>...</td>\n",
       "      <td>...</td>\n",
       "      <td>...</td>\n",
       "      <td>...</td>\n",
       "    </tr>\n",
       "    <tr>\n",
       "      <th>13479</th>\n",
       "      <td>0.166</td>\n",
       "      <td>0.109</td>\n",
       "      <td>-17.100</td>\n",
       "      <td>0</td>\n",
       "      <td>0.0413</td>\n",
       "      <td>0.993000</td>\n",
       "      <td>0.0984</td>\n",
       "      <td>0.1770</td>\n",
       "      <td>171.587</td>\n",
       "      <td>3</td>\n",
       "      <td>6</td>\n",
       "      <td>0.824000</td>\n",
       "      <td>7.0</td>\n",
       "      <td>3.224167</td>\n",
       "    </tr>\n",
       "    <tr>\n",
       "      <th>13480</th>\n",
       "      <td>0.638</td>\n",
       "      <td>0.223</td>\n",
       "      <td>-10.174</td>\n",
       "      <td>0</td>\n",
       "      <td>0.0329</td>\n",
       "      <td>0.858000</td>\n",
       "      <td>0.0705</td>\n",
       "      <td>0.3350</td>\n",
       "      <td>73.016</td>\n",
       "      <td>4</td>\n",
       "      <td>2</td>\n",
       "      <td>0.000016</td>\n",
       "      <td>11.0</td>\n",
       "      <td>4.284450</td>\n",
       "    </tr>\n",
       "    <tr>\n",
       "      <th>13481</th>\n",
       "      <td>0.558</td>\n",
       "      <td>0.981</td>\n",
       "      <td>-4.683</td>\n",
       "      <td>0</td>\n",
       "      <td>0.0712</td>\n",
       "      <td>0.000030</td>\n",
       "      <td>0.6660</td>\n",
       "      <td>0.2620</td>\n",
       "      <td>105.000</td>\n",
       "      <td>4</td>\n",
       "      <td>8</td>\n",
       "      <td>0.000136</td>\n",
       "      <td>4.0</td>\n",
       "      <td>3.603700</td>\n",
       "    </tr>\n",
       "    <tr>\n",
       "      <th>13482</th>\n",
       "      <td>0.215</td>\n",
       "      <td>0.805</td>\n",
       "      <td>-12.757</td>\n",
       "      <td>0</td>\n",
       "      <td>0.1340</td>\n",
       "      <td>0.001290</td>\n",
       "      <td>0.2560</td>\n",
       "      <td>0.3550</td>\n",
       "      <td>131.363</td>\n",
       "      <td>4</td>\n",
       "      <td>8</td>\n",
       "      <td>0.916000</td>\n",
       "      <td>6.0</td>\n",
       "      <td>3.661550</td>\n",
       "    </tr>\n",
       "    <tr>\n",
       "      <th>13483</th>\n",
       "      <td>0.400</td>\n",
       "      <td>0.853</td>\n",
       "      <td>-5.320</td>\n",
       "      <td>0</td>\n",
       "      <td>0.0591</td>\n",
       "      <td>0.006040</td>\n",
       "      <td>0.3340</td>\n",
       "      <td>0.3770</td>\n",
       "      <td>138.102</td>\n",
       "      <td>4</td>\n",
       "      <td>10</td>\n",
       "      <td>0.212000</td>\n",
       "      <td>4.0</td>\n",
       "      <td>3.037117</td>\n",
       "    </tr>\n",
       "  </tbody>\n",
       "</table>\n",
       "<p>13484 rows × 14 columns</p>\n",
       "</div>"
      ],
      "text/plain": [
       "       danceability  energy  loudness  mode  speechiness  acousticness  \\\n",
       "0             0.854   0.564    -4.964     1       0.0485      0.017100   \n",
       "1             0.382   0.814    -7.230     1       0.0406      0.001100   \n",
       "2             0.434   0.614    -8.334     1       0.0525      0.486000   \n",
       "3             0.853   0.597    -6.528     0       0.0555      0.021200   \n",
       "4             0.167   0.975    -4.279     1       0.2160      0.000169   \n",
       "...             ...     ...       ...   ...          ...           ...   \n",
       "13479         0.166   0.109   -17.100     0       0.0413      0.993000   \n",
       "13480         0.638   0.223   -10.174     0       0.0329      0.858000   \n",
       "13481         0.558   0.981    -4.683     0       0.0712      0.000030   \n",
       "13482         0.215   0.805   -12.757     0       0.1340      0.001290   \n",
       "13483         0.400   0.853    -5.320     0       0.0591      0.006040   \n",
       "\n",
       "       liveness  valence    tempo  time_signature  Class  instrumentalness  \\\n",
       "0        0.0849   0.8990  134.071               4      5          0.251237   \n",
       "1        0.1010   0.5690  116.454               4     10          0.004010   \n",
       "2        0.3940   0.7870  147.681               4      6          0.000196   \n",
       "3        0.1220   0.5690  107.033               4      5          0.057497   \n",
       "4        0.1720   0.0918  199.060               4     10          0.016100   \n",
       "...         ...      ...      ...             ...    ...               ...   \n",
       "13479    0.0984   0.1770  171.587               3      6          0.824000   \n",
       "13480    0.0705   0.3350   73.016               4      2          0.000016   \n",
       "13481    0.6660   0.2620  105.000               4      8          0.000136   \n",
       "13482    0.2560   0.3550  131.363               4      8          0.916000   \n",
       "13483    0.3340   0.3770  138.102               4     10          0.212000   \n",
       "\n",
       "        key  duration_in_min  \n",
       "0       1.0         3.909933  \n",
       "1       3.0         4.195550  \n",
       "2       6.0         1.827783  \n",
       "3      10.0         2.899467  \n",
       "4       2.0         3.832667  \n",
       "...     ...              ...  \n",
       "13479   7.0         3.224167  \n",
       "13480  11.0         4.284450  \n",
       "13481   4.0         3.603700  \n",
       "13482   6.0         3.661550  \n",
       "13483   4.0         3.037117  \n",
       "\n",
       "[13484 rows x 14 columns]"
      ]
     },
     "execution_count": 23,
     "metadata": {},
     "output_type": "execute_result"
    }
   ],
   "source": [
    "df_modelling"
   ]
  },
  {
   "cell_type": "markdown",
   "id": "e99cf454",
   "metadata": {},
   "source": [
    "### Split Input Features and Label"
   ]
  },
  {
   "cell_type": "code",
   "execution_count": 24,
   "id": "00ccc01e",
   "metadata": {},
   "outputs": [],
   "source": [
    "X=df_modelling[[\"danceability\",\"energy\",\"mode\",\"loudness\",\"acousticness\",\"speechiness\",\"liveness\",\"valence\",\"tempo\",\"duration_in_min\",\"time_signature\",\"instrumentalness\",\"key\"]]\n",
    "y=df_modelling[[\"Class\"]]"
   ]
  },
  {
   "cell_type": "code",
   "execution_count": 25,
   "id": "09aa6129",
   "metadata": {},
   "outputs": [
    {
     "name": "stdout",
     "output_type": "stream",
     "text": [
      "(13484, 13)\n",
      "(13484, 1)\n"
     ]
    }
   ],
   "source": [
    "print(X.shape)\n",
    "print(y.shape)"
   ]
  },
  {
   "cell_type": "markdown",
   "id": "957f2d0b",
   "metadata": {},
   "source": [
    "### Data Balancing"
   ]
  },
  {
   "cell_type": "code",
   "execution_count": 26,
   "id": "21153092",
   "metadata": {},
   "outputs": [
    {
     "data": {
      "text/plain": [
       "10    3800\n",
       "9     2125\n",
       "6     1654\n",
       "8     1524\n",
       "2     1065\n",
       "5     1062\n",
       "0      592\n",
       "1      543\n",
       "4      380\n",
       "7      378\n",
       "3      361\n",
       "Name: Class, dtype: int64"
      ]
     },
     "execution_count": 26,
     "metadata": {},
     "output_type": "execute_result"
    }
   ],
   "source": [
    "\n",
    "#Enter your codes here\n",
    "y.Class.value_counts()"
   ]
  },
  {
   "cell_type": "code",
   "execution_count": 27,
   "id": "9a24f8a4",
   "metadata": {},
   "outputs": [],
   "source": [
    "from imblearn.over_sampling import SMOTE\n",
    "smote=SMOTE()\n",
    "X,y=smote.fit_resample(X,y)"
   ]
  },
  {
   "cell_type": "code",
   "execution_count": 28,
   "id": "1ea4302a",
   "metadata": {},
   "outputs": [
    {
     "data": {
      "text/plain": [
       "0     3800\n",
       "1     3800\n",
       "2     3800\n",
       "3     3800\n",
       "4     3800\n",
       "5     3800\n",
       "6     3800\n",
       "7     3800\n",
       "8     3800\n",
       "9     3800\n",
       "10    3800\n",
       "Name: Class, dtype: int64"
      ]
     },
     "execution_count": 28,
     "metadata": {},
     "output_type": "execute_result"
    }
   ],
   "source": [
    "#Enter your codes here\n",
    "y.Class.value_counts()"
   ]
  },
  {
   "cell_type": "markdown",
   "id": "60c56db5",
   "metadata": {},
   "source": [
    "### Feature Scaling"
   ]
  },
  {
   "cell_type": "markdown",
   "id": "c524cb98",
   "metadata": {},
   "source": [
    "Noticed that I only feature scaled non-categorical variable. For encoded categorical variable such as \"mode\",\"time_signature\" and \"key\", I did not scaled it beacuase it is already encoded. (Eg Key=B# is 9)"
   ]
  },
  {
   "cell_type": "code",
   "execution_count": 29,
   "id": "5daea5d6",
   "metadata": {},
   "outputs": [],
   "source": [
    "scaler = preprocessing.MinMaxScaler()\n",
    "X[['danceability', 'energy', 'loudness', 'acousticness',\n",
    "       'speechiness', 'liveness', 'valence', 'tempo', 'duration_in_min', 'instrumentalness']]=scaler.fit_transform(X[['danceability', 'energy', 'loudness', 'acousticness',\n",
    "       'speechiness', 'liveness', 'valence', 'tempo', 'duration_in_min', 'instrumentalness']])                                                                                                                      "
   ]
  },
  {
   "cell_type": "markdown",
   "id": "87e6df38",
   "metadata": {},
   "source": [
    "### Feature Selection"
   ]
  },
  {
   "cell_type": "markdown",
   "id": "4a3ba944",
   "metadata": {},
   "source": [
    "**Refer to section under Decision Tree Model**\n",
    "\n",
    "Note that for feature selection, I will be carrying it out in my first model(Decision Tree) as I will be able to compare the results before and after selecting the features needed to increase model performances. I would need to develop a model first to carry out this process "
   ]
  },
  {
   "cell_type": "markdown",
   "id": "93c1bddd",
   "metadata": {},
   "source": [
    "### Train test and split"
   ]
  },
  {
   "cell_type": "code",
   "execution_count": 30,
   "id": "9aa62c9d",
   "metadata": {},
   "outputs": [],
   "source": [
    "#Enter your codes to split the data into X_train, y_train, X_test and y_test\n",
    "from sklearn.model_selection import train_test_split\n",
    "X_train, X_test, y_train, y_test = train_test_split(X, y, test_size=0.2, random_state=42,stratify=y)"
   ]
  },
  {
   "cell_type": "markdown",
   "id": "6512a72d",
   "metadata": {},
   "source": [
    "### <a id='9'>4.2 Modelling</a>"
   ]
  },
  {
   "cell_type": "markdown",
   "id": "1ef36e1a",
   "metadata": {},
   "source": [
    "From our analysis above, we now have a better understanding on the relationship between each music's characteristics and classes.\n",
    "\n",
    "As our objective is to  better understand what factors affect the class(type of music), we will need to use classification model.<br>\n",
    "There are many types of classification model:<br>\n",
    "1. [Decision Tree Classifier](#10)\n",
    "2. [K-Neighbors Classifier](#11)\n",
    "3. [Random Forest Classifier](#12)\n",
    "4. [Gradient Boosting Classifier](#13)\n",
    "5. [XGBoost Classifier](#14)\n",
    "6. [Multinomial Nayes Bayes](#15)\n",
    "7. [Stochastic Gradient Descent(SGD) Classifier](#16)\n",
    "8. [One-Vs-Rest Classifier](#17)\n",
    "9. [Neural Network](#18)\n",
    "10. <i>Logistic Regression (only for binary class classification)</i>\n",
    "11. <i>Support vector Machine (only for binary class classification)</i>\n",
    "\n",
    "    \n",
    "However, I will be ommiting <b>Logistic Regression and SVM</b> as both can only are more suitable for binary classification but in this case we have 11 classes.\n"
   ]
  },
  {
   "cell_type": "markdown",
   "id": "706d041e",
   "metadata": {},
   "source": [
    "<b>How will I be going through this process?</b>\n",
    "1. Try out each model\n",
    "2. Fine tune parameters to give the BEST results for each model\n",
    "3. Compare the best results of each model(produce a table)\n",
    "4. Derive the model that gives the BEST results out of all models\n",
    "\n",
    "<b>Metrics:</b><br>\n",
    "<b>Why I use cross validation?</b><br>\n",
    "I will be using cross validation rather than classfication report of precision, recall, f1-score and accuracy, as it allows a better representation assesment of the model performance as it test each and every portion of the dataset for each model. This is because our dataset.  Also, given that the dataset is small, it is better to get a good representative of each portion of our dataset to get a good and reliable test result.\n",
    "\n",
    "<b>What area of metric will I be focusing on?</b><br>\n",
    "However, I will be <b>focusing more on precision</b> in this project. This is becuase we are not targeting on health related classification or prediction where false negatives are important. In this case, more false negatives is not as costly. Hence, we be focusing on false positive, preciseness of ouor classification."
   ]
  },
  {
   "cell_type": "markdown",
   "id": "f8517ffc",
   "metadata": {},
   "source": [
    "<a id='10'><h3 style=\"padding:5px;color:white;background-color:#C4E0E5;text-align: center;margin-left:auto;margin-right:auto;border-radius:10px;\"><font color=\"darkblue\">Model 1: Decision tree</h3>"
   ]
  },
  {
   "cell_type": "markdown",
   "id": "2dd68906",
   "metadata": {},
   "source": [
    "## A: Building Model -  Decision Tree"
   ]
  },
  {
   "cell_type": "code",
   "execution_count": 31,
   "id": "8419bd63",
   "metadata": {},
   "outputs": [
    {
     "data": {
      "text/plain": [
       "DecisionTreeClassifier(random_state=42)"
      ]
     },
     "execution_count": 31,
     "metadata": {},
     "output_type": "execute_result"
    }
   ],
   "source": [
    "#Enter your codes here to train a DecisionTreeClassifier\n",
    "\n",
    "from sklearn.tree import DecisionTreeClassifier\n",
    "tr = DecisionTreeClassifier(random_state=42)\n",
    "tr.fit(X_train, y_train)"
   ]
  },
  {
   "cell_type": "code",
   "execution_count": 32,
   "id": "dc96f84b",
   "metadata": {},
   "outputs": [
    {
     "data": {
      "text/plain": [
       "34"
      ]
     },
     "execution_count": 32,
     "metadata": {},
     "output_type": "execute_result"
    }
   ],
   "source": [
    "#Enter your codes to print out the depth of the treeI will be generating the classification report for each model which has precision, recall, f1-score to help me evaluate the model's performance. However, I will be focusing more on precision in this project. This is becuase we are not targeting on health related classification or prediction where false negatives are important. In this case, more false negatives is not as costly. Hence, we be focusing on false positive, preciseness of ouor classification.\n",
    "\n",
    "tr.get_depth()"
   ]
  },
  {
   "cell_type": "markdown",
   "id": "330566e7",
   "metadata": {},
   "source": [
    "## B: Model Evaluation"
   ]
  },
  {
   "cell_type": "markdown",
   "id": "b41c4d88",
   "metadata": {},
   "source": [
    "We can see that results for <b>classification report performance is lower than from our cross validation performance</b>. Thus, in the next few models, <b>I will be using cross validation </b>as it allows me to test and train every portion of the dataset. Also, given that the dataset is small, it is better to get a good representative of each portion of our dataset to get a good and reliable test result."
   ]
  },
  {
   "cell_type": "markdown",
   "id": "116a1dea",
   "metadata": {},
   "source": [
    "### Classification"
   ]
  },
  {
   "cell_type": "code",
   "execution_count": 33,
   "id": "ddaea3c7",
   "metadata": {
    "scrolled": false
   },
   "outputs": [
    {
     "name": "stdout",
     "output_type": "stream",
     "text": [
      "[9 6 6 ... 3 7 1]\n",
      "              precision    recall  f1-score   support\n",
      "\n",
      "           0       0.64      0.68      0.66       760\n",
      "           1       0.56      0.57      0.57       760\n",
      "           2       0.55      0.52      0.53       760\n",
      "           3       0.83      0.82      0.82       760\n",
      "           4       0.75      0.78      0.77       760\n",
      "           5       0.73      0.76      0.74       760\n",
      "           6       0.42      0.39      0.40       760\n",
      "           7       0.90      0.92      0.91       760\n",
      "           8       0.73      0.73      0.73       760\n",
      "           9       0.44      0.44      0.44       760\n",
      "          10       0.31      0.31      0.31       760\n",
      "\n",
      "    accuracy                           0.63      8360\n",
      "   macro avg       0.62      0.63      0.63      8360\n",
      "weighted avg       0.62      0.63      0.63      8360\n",
      "\n"
     ]
    }
   ],
   "source": [
    "from sklearn.metrics import classification_report\n",
    "y_pred = tr.predict(X_test)\n",
    "print(y_pred)\n",
    "print(classification_report(y_test,y_pred))"
   ]
  },
  {
   "cell_type": "markdown",
   "id": "35b2c73b",
   "metadata": {},
   "source": [
    "### Cross Validation"
   ]
  },
  {
   "cell_type": "code",
   "execution_count": 34,
   "id": "48c30676",
   "metadata": {},
   "outputs": [
    {
     "name": "stdout",
     "output_type": "stream",
     "text": [
      "Average Accuracy: 0.6447868388605228\n",
      "Average Precision: 0.640549121484521\n",
      "Average Recall: 0.6447854091317843\n",
      "Average F1: 0.641730492680019\n"
     ]
    }
   ],
   "source": [
    "#Enter your codes to use cross_validation here\n",
    "from sklearn.model_selection import cross_validate\n",
    "\n",
    "result = cross_validate(tr, X, np.ravel(y), cv=14, scoring=['accuracy', 'f1_macro', 'precision_macro', 'recall_macro'])\n",
    "print(\"Average Accuracy:\", np.mean(result['test_accuracy']))\n",
    "print(\"Average Precision:\", np.mean(result['test_precision_macro']))\n",
    "print(\"Average Recall:\", np.mean(result['test_recall_macro']))\n",
    "print(\"Average F1:\", np.mean(result['test_f1_macro']))\n"
   ]
  },
  {
   "cell_type": "markdown",
   "id": "dd991c14",
   "metadata": {},
   "source": [
    "<a id='100'><h3 style=\"padding:5px;color:white;background-color:lightsalmon;text-align: center;margin-left:auto;margin-right:auto;border-radius:10px;\"><font color=\"white\">Feature Selection</h3>"
   ]
  },
  {
   "cell_type": "markdown",
   "id": "7d88cef0",
   "metadata": {},
   "source": [
    "I will be using mlxtend.feature_selection to do <b>forward featuure selection</b> to find the best subset of features that gives highest precision."
   ]
  },
  {
   "cell_type": "code",
   "execution_count": 260,
   "id": "e8780d70",
   "metadata": {
    "scrolled": true
   },
   "outputs": [
    {
     "name": "stderr",
     "output_type": "stream",
     "text": [
      "C:\\Users\\JiaYi\\anaconda3\\lib\\site-packages\\sklearn\\metrics\\_classification.py:1245: UndefinedMetricWarning: Precision is ill-defined and being set to 0.0 in labels with no predicted samples. Use `zero_division` parameter to control this behavior.\n",
      "  _warn_prf(average, modifier, msg_start, len(result))\n",
      "C:\\Users\\JiaYi\\anaconda3\\lib\\site-packages\\sklearn\\metrics\\_classification.py:1245: UndefinedMetricWarning: Precision is ill-defined and being set to 0.0 in labels with no predicted samples. Use `zero_division` parameter to control this behavior.\n",
      "  _warn_prf(average, modifier, msg_start, len(result))\n",
      "C:\\Users\\JiaYi\\anaconda3\\lib\\site-packages\\sklearn\\metrics\\_classification.py:1245: UndefinedMetricWarning: Precision is ill-defined and being set to 0.0 in labels with no predicted samples. Use `zero_division` parameter to control this behavior.\n",
      "  _warn_prf(average, modifier, msg_start, len(result))\n",
      "C:\\Users\\JiaYi\\anaconda3\\lib\\site-packages\\sklearn\\metrics\\_classification.py:1245: UndefinedMetricWarning: Precision is ill-defined and being set to 0.0 in labels with no predicted samples. Use `zero_division` parameter to control this behavior.\n",
      "  _warn_prf(average, modifier, msg_start, len(result))\n",
      "C:\\Users\\JiaYi\\anaconda3\\lib\\site-packages\\sklearn\\metrics\\_classification.py:1245: UndefinedMetricWarning: Precision is ill-defined and being set to 0.0 in labels with no predicted samples. Use `zero_division` parameter to control this behavior.\n",
      "  _warn_prf(average, modifier, msg_start, len(result))\n",
      "C:\\Users\\JiaYi\\anaconda3\\lib\\site-packages\\sklearn\\metrics\\_classification.py:1245: UndefinedMetricWarning: Precision is ill-defined and being set to 0.0 in labels with no predicted samples. Use `zero_division` parameter to control this behavior.\n",
      "  _warn_prf(average, modifier, msg_start, len(result))\n",
      "C:\\Users\\JiaYi\\anaconda3\\lib\\site-packages\\sklearn\\metrics\\_classification.py:1245: UndefinedMetricWarning: Precision is ill-defined and being set to 0.0 in labels with no predicted samples. Use `zero_division` parameter to control this behavior.\n",
      "  _warn_prf(average, modifier, msg_start, len(result))\n",
      "C:\\Users\\JiaYi\\anaconda3\\lib\\site-packages\\sklearn\\metrics\\_classification.py:1245: UndefinedMetricWarning: Precision is ill-defined and being set to 0.0 in labels with no predicted samples. Use `zero_division` parameter to control this behavior.\n",
      "  _warn_prf(average, modifier, msg_start, len(result))\n",
      "C:\\Users\\JiaYi\\anaconda3\\lib\\site-packages\\sklearn\\metrics\\_classification.py:1245: UndefinedMetricWarning: Precision is ill-defined and being set to 0.0 in labels with no predicted samples. Use `zero_division` parameter to control this behavior.\n",
      "  _warn_prf(average, modifier, msg_start, len(result))\n",
      "C:\\Users\\JiaYi\\anaconda3\\lib\\site-packages\\sklearn\\metrics\\_classification.py:1245: UndefinedMetricWarning: Precision is ill-defined and being set to 0.0 in labels with no predicted samples. Use `zero_division` parameter to control this behavior.\n",
      "  _warn_prf(average, modifier, msg_start, len(result))\n",
      "C:\\Users\\JiaYi\\anaconda3\\lib\\site-packages\\sklearn\\metrics\\_classification.py:1245: UndefinedMetricWarning: Precision is ill-defined and being set to 0.0 in labels with no predicted samples. Use `zero_division` parameter to control this behavior.\n",
      "  _warn_prf(average, modifier, msg_start, len(result))\n",
      "C:\\Users\\JiaYi\\anaconda3\\lib\\site-packages\\sklearn\\metrics\\_classification.py:1245: UndefinedMetricWarning: Precision is ill-defined and being set to 0.0 in labels with no predicted samples. Use `zero_division` parameter to control this behavior.\n",
      "  _warn_prf(average, modifier, msg_start, len(result))\n",
      "C:\\Users\\JiaYi\\anaconda3\\lib\\site-packages\\sklearn\\metrics\\_classification.py:1245: UndefinedMetricWarning: Precision is ill-defined and being set to 0.0 in labels with no predicted samples. Use `zero_division` parameter to control this behavior.\n",
      "  _warn_prf(average, modifier, msg_start, len(result))\n",
      "C:\\Users\\JiaYi\\anaconda3\\lib\\site-packages\\sklearn\\metrics\\_classification.py:1245: UndefinedMetricWarning: Precision is ill-defined and being set to 0.0 in labels with no predicted samples. Use `zero_division` parameter to control this behavior.\n",
      "  _warn_prf(average, modifier, msg_start, len(result))\n",
      "C:\\Users\\JiaYi\\anaconda3\\lib\\site-packages\\sklearn\\metrics\\_classification.py:1245: UndefinedMetricWarning: Precision is ill-defined and being set to 0.0 in labels with no predicted samples. Use `zero_division` parameter to control this behavior.\n",
      "  _warn_prf(average, modifier, msg_start, len(result))\n",
      "C:\\Users\\JiaYi\\anaconda3\\lib\\site-packages\\sklearn\\metrics\\_classification.py:1245: UndefinedMetricWarning: Precision is ill-defined and being set to 0.0 in labels with no predicted samples. Use `zero_division` parameter to control this behavior.\n",
      "  _warn_prf(average, modifier, msg_start, len(result))\n",
      "C:\\Users\\JiaYi\\anaconda3\\lib\\site-packages\\sklearn\\metrics\\_classification.py:1245: UndefinedMetricWarning: Precision is ill-defined and being set to 0.0 in labels with no predicted samples. Use `zero_division` parameter to control this behavior.\n",
      "  _warn_prf(average, modifier, msg_start, len(result))\n",
      "C:\\Users\\JiaYi\\anaconda3\\lib\\site-packages\\sklearn\\metrics\\_classification.py:1245: UndefinedMetricWarning: Precision is ill-defined and being set to 0.0 in labels with no predicted samples. Use `zero_division` parameter to control this behavior.\n",
      "  _warn_prf(average, modifier, msg_start, len(result))\n",
      "C:\\Users\\JiaYi\\anaconda3\\lib\\site-packages\\sklearn\\metrics\\_classification.py:1245: UndefinedMetricWarning: Precision is ill-defined and being set to 0.0 in labels with no predicted samples. Use `zero_division` parameter to control this behavior.\n",
      "  _warn_prf(average, modifier, msg_start, len(result))\n",
      "C:\\Users\\JiaYi\\anaconda3\\lib\\site-packages\\sklearn\\metrics\\_classification.py:1245: UndefinedMetricWarning: Precision is ill-defined and being set to 0.0 in labels with no predicted samples. Use `zero_division` parameter to control this behavior.\n",
      "  _warn_prf(average, modifier, msg_start, len(result))\n"
     ]
    },
    {
     "data": {
      "text/plain": [
       "{1: {'feature_idx': (1,),\n",
       "  'cv_scores': array([0.21350597, 0.2416838 , 0.22786318, 0.23265048, 0.24716546,\n",
       "         0.24592788, 0.26500939, 0.25876495, 0.25044251, 0.26094909]),\n",
       "  'avg_score': 0.2443962708445419,\n",
       "  'feature_names': ('energy',)},\n",
       " 2: {'feature_idx': (1, 8),\n",
       "  'cv_scores': array([0.35639901, 0.33409008, 0.33579637, 0.33935256, 0.35831938,\n",
       "         0.34739992, 0.33877922, 0.34555062, 0.34992518, 0.34929878]),\n",
       "  'avg_score': 0.34549111213820444,\n",
       "  'feature_names': ('energy', 'tempo')},\n",
       " 3: {'feature_idx': (1, 8, 12),\n",
       "  'cv_scores': array([0.43915131, 0.44531198, 0.45520738, 0.47340775, 0.46520821,\n",
       "         0.47468086, 0.47169543, 0.46573106, 0.47843419, 0.48986071]),\n",
       "  'avg_score': 0.46586888810354143,\n",
       "  'feature_names': ('energy', 'tempo', 'key')},\n",
       " 4: {'feature_idx': (1, 3, 8, 12),\n",
       "  'cv_scores': array([0.51939245, 0.51118539, 0.5158219 , 0.51937717, 0.52980186,\n",
       "         0.53289051, 0.53897941, 0.53685228, 0.55243178, 0.54740715]),\n",
       "  'avg_score': 0.530413989685006,\n",
       "  'feature_names': ('energy', 'loudness', 'tempo', 'key')},\n",
       " 5: {'feature_idx': (0, 1, 3, 8, 12),\n",
       "  'cv_scores': array([0.55966383, 0.54549534, 0.54112977, 0.56613674, 0.58306997,\n",
       "         0.5766361 , 0.57797146, 0.5761864 , 0.5961333 , 0.58716457]),\n",
       "  'avg_score': 0.5709587477061392,\n",
       "  'feature_names': ('danceability', 'energy', 'loudness', 'tempo', 'key')},\n",
       " 6: {'feature_idx': (0, 1, 3, 5, 8, 12),\n",
       "  'cv_scores': array([0.57786061, 0.56978809, 0.56135708, 0.58060079, 0.58389691,\n",
       "         0.59339467, 0.60075203, 0.59973715, 0.60919016, 0.59893111]),\n",
       "  'avg_score': 0.5875508585104094,\n",
       "  'feature_names': ('danceability',\n",
       "   'energy',\n",
       "   'loudness',\n",
       "   'speechiness',\n",
       "   'tempo',\n",
       "   'key')},\n",
       " 7: {'feature_idx': (0, 1, 3, 5, 8, 9, 12),\n",
       "  'cv_scores': array([0.59831976, 0.58988287, 0.585654  , 0.60869619, 0.59798934,\n",
       "         0.59324506, 0.60633809, 0.60712874, 0.61170828, 0.61309464]),\n",
       "  'avg_score': 0.6012056957651637,\n",
       "  'feature_names': ('danceability',\n",
       "   'energy',\n",
       "   'loudness',\n",
       "   'speechiness',\n",
       "   'tempo',\n",
       "   'duration_in_min',\n",
       "   'key')},\n",
       " 8: {'feature_idx': (0, 1, 3, 4, 5, 8, 9, 12),\n",
       "  'cv_scores': array([0.59512377, 0.6044309 , 0.59625483, 0.60169327, 0.60002835,\n",
       "         0.61597486, 0.6223141 , 0.615246  , 0.61665465, 0.63198554]),\n",
       "  'avg_score': 0.6099706257061465,\n",
       "  'feature_names': ('danceability',\n",
       "   'energy',\n",
       "   'loudness',\n",
       "   'acousticness',\n",
       "   'speechiness',\n",
       "   'tempo',\n",
       "   'duration_in_min',\n",
       "   'key')},\n",
       " 9: {'feature_idx': (0, 1, 3, 4, 5, 7, 8, 9, 12),\n",
       "  'cv_scores': array([0.60975908, 0.6062045 , 0.59161267, 0.61830645, 0.62934054,\n",
       "         0.63165594, 0.62910373, 0.6282445 , 0.62623306, 0.65160675]),\n",
       "  'avg_score': 0.6222067207509479,\n",
       "  'feature_names': ('danceability',\n",
       "   'energy',\n",
       "   'loudness',\n",
       "   'acousticness',\n",
       "   'speechiness',\n",
       "   'valence',\n",
       "   'tempo',\n",
       "   'duration_in_min',\n",
       "   'key')},\n",
       " 10: {'feature_idx': (0, 1, 3, 4, 5, 7, 8, 9, 11, 12),\n",
       "  'cv_scores': array([0.60810893, 0.60782551, 0.61091339, 0.61457514, 0.63835222,\n",
       "         0.63928998, 0.62793504, 0.63696474, 0.64246476, 0.65073374]),\n",
       "  'avg_score': 0.6277163433081687,\n",
       "  'feature_names': ('danceability',\n",
       "   'energy',\n",
       "   'loudness',\n",
       "   'acousticness',\n",
       "   'speechiness',\n",
       "   'valence',\n",
       "   'tempo',\n",
       "   'duration_in_min',\n",
       "   'instrumentalness',\n",
       "   'key')},\n",
       " 11: {'feature_idx': (0, 1, 3, 4, 5, 6, 7, 8, 9, 11, 12),\n",
       "  'cv_scores': array([0.61860028, 0.62214775, 0.6087508 , 0.62338293, 0.64147109,\n",
       "         0.63523342, 0.63500247, 0.63191086, 0.64986031, 0.65325907]),\n",
       "  'avg_score': 0.631961898546043,\n",
       "  'feature_names': ('danceability',\n",
       "   'energy',\n",
       "   'loudness',\n",
       "   'acousticness',\n",
       "   'speechiness',\n",
       "   'liveness',\n",
       "   'valence',\n",
       "   'tempo',\n",
       "   'duration_in_min',\n",
       "   'instrumentalness',\n",
       "   'key')},\n",
       " 12: {'feature_idx': (0, 1, 2, 3, 4, 5, 6, 7, 8, 9, 11, 12),\n",
       "  'cv_scores': array([0.60750589, 0.60128516, 0.61191168, 0.63031825, 0.63883637,\n",
       "         0.64906892, 0.64467488, 0.63550017, 0.66396102, 0.65680919]),\n",
       "  'avg_score': 0.633987153755126,\n",
       "  'feature_names': ('danceability',\n",
       "   'energy',\n",
       "   'mode',\n",
       "   'loudness',\n",
       "   'acousticness',\n",
       "   'speechiness',\n",
       "   'liveness',\n",
       "   'valence',\n",
       "   'tempo',\n",
       "   'duration_in_min',\n",
       "   'instrumentalness',\n",
       "   'key')},\n",
       " 13: {'feature_idx': (0, 1, 2, 3, 4, 5, 6, 7, 8, 9, 10, 11, 12),\n",
       "  'cv_scores': array([0.60793708, 0.60550309, 0.61544585, 0.63556984, 0.64032896,\n",
       "         0.64158872, 0.64799074, 0.63849689, 0.66753903, 0.65578172]),\n",
       "  'avg_score': 0.6356181914524793,\n",
       "  'feature_names': ('danceability',\n",
       "   'energy',\n",
       "   'mode',\n",
       "   'loudness',\n",
       "   'acousticness',\n",
       "   'speechiness',\n",
       "   'liveness',\n",
       "   'valence',\n",
       "   'tempo',\n",
       "   'duration_in_min',\n",
       "   'time_signature',\n",
       "   'instrumentalness',\n",
       "   'key')}}"
      ]
     },
     "execution_count": 260,
     "metadata": {},
     "output_type": "execute_result"
    }
   ],
   "source": [
    "from mlxtend.feature_selection import SequentialFeatureSelector as SFS\n",
    "sfsl=SFS(tr,k_features=13,forward=True,scoring=\"precision_macro\",cv=10)\n",
    "sfsl.fit(X,y)\n",
    "sfsl.subsets_"
   ]
  },
  {
   "cell_type": "markdown",
   "id": "6fce6d0a",
   "metadata": {},
   "source": [
    "<h6>Insights:</h6>\n",
    "Looking at the results, <b>subset 12</b> which contains 'danceability',\n",
    "   'energy',\n",
    "   'loudness',\n",
    "   'acousticness',\n",
    "   'speechiness',\n",
    "   'valence',\n",
    "   'tempo',\n",
    "   'duration_in_min',\n",
    "   'time_signature',\n",
    "   'instrumentalness',\n",
    "   'key'<b>gives highest precision of 0.6339</b>. Hence we will be using this subset of features to built a new decision tree model and do cross validation to find out the performance of the model."
   ]
  },
  {
   "cell_type": "code",
   "execution_count": 35,
   "id": "df8de7bb",
   "metadata": {},
   "outputs": [
    {
     "data": {
      "text/plain": [
       "DecisionTreeClassifier(random_state=42)"
      ]
     },
     "execution_count": 35,
     "metadata": {},
     "output_type": "execute_result"
    }
   ],
   "source": [
    "X=df_modelling[['danceability',\n",
    "   'energy',\n",
    "   'loudness',\n",
    "   'acousticness',\n",
    "   'speechiness',\n",
    "   'valence',\n",
    "   'tempo',\n",
    "   'duration_in_min',\n",
    "   'time_signature',\n",
    "   'instrumentalness',\n",
    "   'key']]\n",
    "y=df_modelling[[\"Class\"]]\n",
    "\n",
    "from imblearn.over_sampling import SMOTE\n",
    "smote=SMOTE()\n",
    "X,y=smote.fit_resample(X,y)\n",
    "\n",
    "scaler = preprocessing.MinMaxScaler()\n",
    "X[['danceability', 'energy', 'loudness', 'acousticness',\n",
    "       'speechiness', 'valence', 'tempo', 'duration_in_min', 'instrumentalness']]=scaler.fit_transform(X[['danceability', 'energy', 'loudness', 'acousticness',\n",
    "       'speechiness', 'valence', 'tempo', 'duration_in_min', 'instrumentalness']])                                                                                                                      \n",
    "#Enter your codes to split the data into X_train, y_train, X_test and y_test\n",
    "from sklearn.model_selection import train_test_split\n",
    "X_train, X_test, y_train, y_test = train_test_split(X, y, test_size=0.2, random_state=42,stratify=y)\n",
    "\n",
    "tr = DecisionTreeClassifier(random_state=42)\n",
    "tr.fit(X_train, y_train)"
   ]
  },
  {
   "cell_type": "code",
   "execution_count": 262,
   "id": "49461038",
   "metadata": {},
   "outputs": [
    {
     "name": "stdout",
     "output_type": "stream",
     "text": [
      "Average Accuracy: 0.639762482555988\n",
      "Average Precision: 0.6361851740258518\n",
      "Average Recall: 0.6397611166237712\n",
      "Average F1: 0.6370620010225501\n"
     ]
    }
   ],
   "source": [
    "\n",
    "result = cross_validate(tr,X, np.ravel(y), cv=14, scoring=['accuracy', 'f1_macro', 'precision_macro', 'recall_macro'])\n",
    "print(\"Average Accuracy:\", np.mean(result['test_accuracy']))\n",
    "print(\"Average Precision:\", np.mean(result['test_precision_macro']))\n",
    "print(\"Average Recall:\", np.mean(result['test_recall_macro']))\n",
    "print(\"Average F1:\", np.mean(result['test_f1_macro']))"
   ]
  },
  {
   "cell_type": "markdown",
   "id": "b870b80f",
   "metadata": {},
   "source": [
    "<h6>Insights:</h6>\n",
    "Looks like the results have improved slightly after using subset 12 of features. It increase from 0.645 to 0.636 for the precision metric.<br>\n",
    "<h4> Hence, we will be using this subset of features consisting of 'danceability',\n",
    "   'energy',\n",
    "   'loudness',\n",
    "   'acousticness',\n",
    "   'speechiness',\n",
    "   'valence',\n",
    "   'tempo',\n",
    "   'duration_in_min',\n",
    "   'time_signature',\n",
    "   'instrumentalness',\n",
    "   'key' for the rest of our models. </h4>"
   ]
  },
  {
   "cell_type": "markdown",
   "id": "49ee39db",
   "metadata": {},
   "source": [
    "\n",
    "\n",
    "## C: Tuning Parameters"
   ]
  },
  {
   "cell_type": "markdown",
   "id": "e9d2f6c8",
   "metadata": {},
   "source": [
    "<b>How will I be tuning the parameters?</b><br>\n",
    "** Hyer-parameter tuning: Use Grid SearchCV to find the best combination of parameters that gives highest precision"
   ]
  },
  {
   "cell_type": "markdown",
   "id": "5db663a9",
   "metadata": {},
   "source": [
    "### Hyper-parameter tuning "
   ]
  },
  {
   "cell_type": "markdown",
   "id": "fe29045e",
   "metadata": {},
   "source": [
    "Now, we will be trying the Grid SearchCV method."
   ]
  },
  {
   "cell_type": "code",
   "execution_count": 57,
   "id": "17ff1eb7",
   "metadata": {},
   "outputs": [],
   "source": [
    "tr = DecisionTreeClassifier(random_state=42)"
   ]
  },
  {
   "cell_type": "code",
   "execution_count": 53,
   "id": "a4233cb7",
   "metadata": {},
   "outputs": [],
   "source": [
    "from sklearn.model_selection import GridSearchCV"
   ]
  },
  {
   "cell_type": "code",
   "execution_count": 59,
   "id": "84994c5d",
   "metadata": {},
   "outputs": [],
   "source": [
    "params = {\n",
    "    'max_depth':list(range(1,50)),\n",
    "     \"min_samples_split\":list(range(1,10)),\n",
    "    \"min_samples_leaf\":list(range(1,10)),\n",
    "    'criterion': [\"gini\", \"entropy\"]\n",
    "}"
   ]
  },
  {
   "cell_type": "code",
   "execution_count": 60,
   "id": "842e062e",
   "metadata": {},
   "outputs": [],
   "source": [
    "# Instantiate the grid search model\n",
    "grid_search = GridSearchCV(estimator=tr, \n",
    "                           param_grid=params, \n",
    "                           cv=4, n_jobs=-1, verbose=1, scoring = \"precision_macro\")\n"
   ]
  },
  {
   "cell_type": "code",
   "execution_count": 61,
   "id": "d8919479",
   "metadata": {},
   "outputs": [
    {
     "name": "stdout",
     "output_type": "stream",
     "text": [
      "Fitting 4 folds for each of 7938 candidates, totalling 31752 fits\n"
     ]
    },
    {
     "name": "stderr",
     "output_type": "stream",
     "text": [
      "C:\\Users\\JiaYi\\anaconda3\\lib\\site-packages\\sklearn\\model_selection\\_search.py:918: UserWarning: One or more of the test scores are non-finite: [       nan 0.06636748 0.06636748 ... 0.5313526  0.5313526  0.5313526 ]\n",
      "  warnings.warn(\n"
     ]
    },
    {
     "name": "stdout",
     "output_type": "stream",
     "text": [
      "Wall time: 25min 43s\n"
     ]
    }
   ],
   "source": [
    "%%time\n",
    "\n",
    "with tf.device('/GPU:0'):\n",
    "    grid_search.fit(X_train, y_train)"
   ]
  },
  {
   "cell_type": "code",
   "execution_count": 62,
   "id": "85a07368",
   "metadata": {},
   "outputs": [
    {
     "data": {
      "text/html": [
       "<div>\n",
       "<style scoped>\n",
       "    .dataframe tbody tr th:only-of-type {\n",
       "        vertical-align: middle;\n",
       "    }\n",
       "\n",
       "    .dataframe tbody tr th {\n",
       "        vertical-align: top;\n",
       "    }\n",
       "\n",
       "    .dataframe thead th {\n",
       "        text-align: right;\n",
       "    }\n",
       "</style>\n",
       "<table border=\"1\" class=\"dataframe\">\n",
       "  <thead>\n",
       "    <tr style=\"text-align: right;\">\n",
       "      <th></th>\n",
       "      <th>mean_fit_time</th>\n",
       "      <th>std_fit_time</th>\n",
       "      <th>mean_score_time</th>\n",
       "      <th>std_score_time</th>\n",
       "      <th>param_criterion</th>\n",
       "      <th>param_max_depth</th>\n",
       "      <th>param_min_samples_leaf</th>\n",
       "      <th>param_min_samples_split</th>\n",
       "      <th>params</th>\n",
       "      <th>split0_test_score</th>\n",
       "      <th>split1_test_score</th>\n",
       "      <th>split2_test_score</th>\n",
       "      <th>split3_test_score</th>\n",
       "      <th>mean_test_score</th>\n",
       "      <th>std_test_score</th>\n",
       "      <th>rank_test_score</th>\n",
       "    </tr>\n",
       "  </thead>\n",
       "  <tbody>\n",
       "    <tr>\n",
       "      <th>0</th>\n",
       "      <td>0.035261</td>\n",
       "      <td>0.002165</td>\n",
       "      <td>0.000000</td>\n",
       "      <td>0.000000</td>\n",
       "      <td>gini</td>\n",
       "      <td>1</td>\n",
       "      <td>1</td>\n",
       "      <td>1</td>\n",
       "      <td>{'criterion': 'gini', 'max_depth': 1, 'min_sam...</td>\n",
       "      <td>NaN</td>\n",
       "      <td>NaN</td>\n",
       "      <td>NaN</td>\n",
       "      <td>NaN</td>\n",
       "      <td>NaN</td>\n",
       "      <td>NaN</td>\n",
       "      <td>7938</td>\n",
       "    </tr>\n",
       "    <tr>\n",
       "      <th>1</th>\n",
       "      <td>0.070515</td>\n",
       "      <td>0.002872</td>\n",
       "      <td>0.013753</td>\n",
       "      <td>0.001299</td>\n",
       "      <td>gini</td>\n",
       "      <td>1</td>\n",
       "      <td>1</td>\n",
       "      <td>2</td>\n",
       "      <td>{'criterion': 'gini', 'max_depth': 1, 'min_sam...</td>\n",
       "      <td>0.061481</td>\n",
       "      <td>0.066313</td>\n",
       "      <td>0.069185</td>\n",
       "      <td>0.068491</td>\n",
       "      <td>0.066367</td>\n",
       "      <td>0.003014</td>\n",
       "      <td>6913</td>\n",
       "    </tr>\n",
       "    <tr>\n",
       "      <th>2</th>\n",
       "      <td>0.069015</td>\n",
       "      <td>0.001732</td>\n",
       "      <td>0.014004</td>\n",
       "      <td>0.001871</td>\n",
       "      <td>gini</td>\n",
       "      <td>1</td>\n",
       "      <td>1</td>\n",
       "      <td>3</td>\n",
       "      <td>{'criterion': 'gini', 'max_depth': 1, 'min_sam...</td>\n",
       "      <td>0.061481</td>\n",
       "      <td>0.066313</td>\n",
       "      <td>0.069185</td>\n",
       "      <td>0.068491</td>\n",
       "      <td>0.066367</td>\n",
       "      <td>0.003014</td>\n",
       "      <td>6913</td>\n",
       "    </tr>\n",
       "    <tr>\n",
       "      <th>3</th>\n",
       "      <td>0.050762</td>\n",
       "      <td>0.001299</td>\n",
       "      <td>0.028757</td>\n",
       "      <td>0.005403</td>\n",
       "      <td>gini</td>\n",
       "      <td>1</td>\n",
       "      <td>1</td>\n",
       "      <td>4</td>\n",
       "      <td>{'criterion': 'gini', 'max_depth': 1, 'min_sam...</td>\n",
       "      <td>0.061481</td>\n",
       "      <td>0.066313</td>\n",
       "      <td>0.069185</td>\n",
       "      <td>0.068491</td>\n",
       "      <td>0.066367</td>\n",
       "      <td>0.003014</td>\n",
       "      <td>6913</td>\n",
       "    </tr>\n",
       "    <tr>\n",
       "      <th>4</th>\n",
       "      <td>0.062513</td>\n",
       "      <td>0.005410</td>\n",
       "      <td>0.013505</td>\n",
       "      <td>0.001119</td>\n",
       "      <td>gini</td>\n",
       "      <td>1</td>\n",
       "      <td>1</td>\n",
       "      <td>5</td>\n",
       "      <td>{'criterion': 'gini', 'max_depth': 1, 'min_sam...</td>\n",
       "      <td>0.061481</td>\n",
       "      <td>0.066313</td>\n",
       "      <td>0.069185</td>\n",
       "      <td>0.068491</td>\n",
       "      <td>0.066367</td>\n",
       "      <td>0.003014</td>\n",
       "      <td>6913</td>\n",
       "    </tr>\n",
       "  </tbody>\n",
       "</table>\n",
       "</div>"
      ],
      "text/plain": [
       "   mean_fit_time  std_fit_time  mean_score_time  std_score_time  \\\n",
       "0       0.035261      0.002165         0.000000        0.000000   \n",
       "1       0.070515      0.002872         0.013753        0.001299   \n",
       "2       0.069015      0.001732         0.014004        0.001871   \n",
       "3       0.050762      0.001299         0.028757        0.005403   \n",
       "4       0.062513      0.005410         0.013505        0.001119   \n",
       "\n",
       "  param_criterion param_max_depth param_min_samples_leaf  \\\n",
       "0            gini               1                      1   \n",
       "1            gini               1                      1   \n",
       "2            gini               1                      1   \n",
       "3            gini               1                      1   \n",
       "4            gini               1                      1   \n",
       "\n",
       "  param_min_samples_split                                             params  \\\n",
       "0                       1  {'criterion': 'gini', 'max_depth': 1, 'min_sam...   \n",
       "1                       2  {'criterion': 'gini', 'max_depth': 1, 'min_sam...   \n",
       "2                       3  {'criterion': 'gini', 'max_depth': 1, 'min_sam...   \n",
       "3                       4  {'criterion': 'gini', 'max_depth': 1, 'min_sam...   \n",
       "4                       5  {'criterion': 'gini', 'max_depth': 1, 'min_sam...   \n",
       "\n",
       "   split0_test_score  split1_test_score  split2_test_score  split3_test_score  \\\n",
       "0                NaN                NaN                NaN                NaN   \n",
       "1           0.061481           0.066313           0.069185           0.068491   \n",
       "2           0.061481           0.066313           0.069185           0.068491   \n",
       "3           0.061481           0.066313           0.069185           0.068491   \n",
       "4           0.061481           0.066313           0.069185           0.068491   \n",
       "\n",
       "   mean_test_score  std_test_score  rank_test_score  \n",
       "0              NaN             NaN             7938  \n",
       "1         0.066367        0.003014             6913  \n",
       "2         0.066367        0.003014             6913  \n",
       "3         0.066367        0.003014             6913  \n",
       "4         0.066367        0.003014             6913  "
      ]
     },
     "execution_count": 62,
     "metadata": {},
     "output_type": "execute_result"
    }
   ],
   "source": [
    "score_df = pd.DataFrame(grid_search.cv_results_)\n",
    "score_df.head()"
   ]
  },
  {
   "cell_type": "code",
   "execution_count": 63,
   "id": "f61bd8ee",
   "metadata": {},
   "outputs": [
    {
     "data": {
      "text/html": [
       "<div>\n",
       "<style scoped>\n",
       "    .dataframe tbody tr th:only-of-type {\n",
       "        vertical-align: middle;\n",
       "    }\n",
       "\n",
       "    .dataframe tbody tr th {\n",
       "        vertical-align: top;\n",
       "    }\n",
       "\n",
       "    .dataframe thead th {\n",
       "        text-align: right;\n",
       "    }\n",
       "</style>\n",
       "<table border=\"1\" class=\"dataframe\">\n",
       "  <thead>\n",
       "    <tr style=\"text-align: right;\">\n",
       "      <th></th>\n",
       "      <th>mean_fit_time</th>\n",
       "      <th>std_fit_time</th>\n",
       "      <th>mean_score_time</th>\n",
       "      <th>std_score_time</th>\n",
       "      <th>param_criterion</th>\n",
       "      <th>param_max_depth</th>\n",
       "      <th>param_min_samples_leaf</th>\n",
       "      <th>param_min_samples_split</th>\n",
       "      <th>params</th>\n",
       "      <th>split0_test_score</th>\n",
       "      <th>split1_test_score</th>\n",
       "      <th>split2_test_score</th>\n",
       "      <th>split3_test_score</th>\n",
       "      <th>mean_test_score</th>\n",
       "      <th>std_test_score</th>\n",
       "      <th>rank_test_score</th>\n",
       "    </tr>\n",
       "  </thead>\n",
       "  <tbody>\n",
       "    <tr>\n",
       "      <th>5671</th>\n",
       "      <td>1.452075</td>\n",
       "      <td>0.021758</td>\n",
       "      <td>0.009252</td>\n",
       "      <td>0.000829</td>\n",
       "      <td>entropy</td>\n",
       "      <td>22</td>\n",
       "      <td>1</td>\n",
       "      <td>2</td>\n",
       "      <td>{'criterion': 'entropy', 'max_depth': 22, 'min...</td>\n",
       "      <td>0.589786</td>\n",
       "      <td>0.597872</td>\n",
       "      <td>0.592996</td>\n",
       "      <td>0.596382</td>\n",
       "      <td>0.594259</td>\n",
       "      <td>0.003129</td>\n",
       "      <td>1</td>\n",
       "    </tr>\n",
       "    <tr>\n",
       "      <th>5833</th>\n",
       "      <td>1.519718</td>\n",
       "      <td>0.059970</td>\n",
       "      <td>0.009252</td>\n",
       "      <td>0.001090</td>\n",
       "      <td>entropy</td>\n",
       "      <td>24</td>\n",
       "      <td>1</td>\n",
       "      <td>2</td>\n",
       "      <td>{'criterion': 'entropy', 'max_depth': 24, 'min...</td>\n",
       "      <td>0.584088</td>\n",
       "      <td>0.597898</td>\n",
       "      <td>0.596668</td>\n",
       "      <td>0.596710</td>\n",
       "      <td>0.593841</td>\n",
       "      <td>0.005652</td>\n",
       "      <td>2</td>\n",
       "    </tr>\n",
       "    <tr>\n",
       "      <th>5590</th>\n",
       "      <td>1.457577</td>\n",
       "      <td>0.015695</td>\n",
       "      <td>0.008002</td>\n",
       "      <td>0.000001</td>\n",
       "      <td>entropy</td>\n",
       "      <td>21</td>\n",
       "      <td>1</td>\n",
       "      <td>2</td>\n",
       "      <td>{'criterion': 'entropy', 'max_depth': 21, 'min...</td>\n",
       "      <td>0.584271</td>\n",
       "      <td>0.597949</td>\n",
       "      <td>0.596848</td>\n",
       "      <td>0.594828</td>\n",
       "      <td>0.593474</td>\n",
       "      <td>0.005430</td>\n",
       "      <td>3</td>\n",
       "    </tr>\n",
       "    <tr>\n",
       "      <th>5509</th>\n",
       "      <td>1.561849</td>\n",
       "      <td>0.091202</td>\n",
       "      <td>0.010002</td>\n",
       "      <td>0.001872</td>\n",
       "      <td>entropy</td>\n",
       "      <td>20</td>\n",
       "      <td>1</td>\n",
       "      <td>2</td>\n",
       "      <td>{'criterion': 'entropy', 'max_depth': 20, 'min...</td>\n",
       "      <td>0.584497</td>\n",
       "      <td>0.593150</td>\n",
       "      <td>0.597338</td>\n",
       "      <td>0.597088</td>\n",
       "      <td>0.593018</td>\n",
       "      <td>0.005193</td>\n",
       "      <td>4</td>\n",
       "    </tr>\n",
       "    <tr>\n",
       "      <th>6076</th>\n",
       "      <td>1.532844</td>\n",
       "      <td>0.061208</td>\n",
       "      <td>0.010003</td>\n",
       "      <td>0.002917</td>\n",
       "      <td>entropy</td>\n",
       "      <td>27</td>\n",
       "      <td>1</td>\n",
       "      <td>2</td>\n",
       "      <td>{'criterion': 'entropy', 'max_depth': 27, 'min...</td>\n",
       "      <td>0.584747</td>\n",
       "      <td>0.594409</td>\n",
       "      <td>0.596764</td>\n",
       "      <td>0.595211</td>\n",
       "      <td>0.592783</td>\n",
       "      <td>0.004716</td>\n",
       "      <td>5</td>\n",
       "    </tr>\n",
       "  </tbody>\n",
       "</table>\n",
       "</div>"
      ],
      "text/plain": [
       "      mean_fit_time  std_fit_time  mean_score_time  std_score_time  \\\n",
       "5671       1.452075      0.021758         0.009252        0.000829   \n",
       "5833       1.519718      0.059970         0.009252        0.001090   \n",
       "5590       1.457577      0.015695         0.008002        0.000001   \n",
       "5509       1.561849      0.091202         0.010002        0.001872   \n",
       "6076       1.532844      0.061208         0.010003        0.002917   \n",
       "\n",
       "     param_criterion param_max_depth param_min_samples_leaf  \\\n",
       "5671         entropy              22                      1   \n",
       "5833         entropy              24                      1   \n",
       "5590         entropy              21                      1   \n",
       "5509         entropy              20                      1   \n",
       "6076         entropy              27                      1   \n",
       "\n",
       "     param_min_samples_split  \\\n",
       "5671                       2   \n",
       "5833                       2   \n",
       "5590                       2   \n",
       "5509                       2   \n",
       "6076                       2   \n",
       "\n",
       "                                                 params  split0_test_score  \\\n",
       "5671  {'criterion': 'entropy', 'max_depth': 22, 'min...           0.589786   \n",
       "5833  {'criterion': 'entropy', 'max_depth': 24, 'min...           0.584088   \n",
       "5590  {'criterion': 'entropy', 'max_depth': 21, 'min...           0.584271   \n",
       "5509  {'criterion': 'entropy', 'max_depth': 20, 'min...           0.584497   \n",
       "6076  {'criterion': 'entropy', 'max_depth': 27, 'min...           0.584747   \n",
       "\n",
       "      split1_test_score  split2_test_score  split3_test_score  \\\n",
       "5671           0.597872           0.592996           0.596382   \n",
       "5833           0.597898           0.596668           0.596710   \n",
       "5590           0.597949           0.596848           0.594828   \n",
       "5509           0.593150           0.597338           0.597088   \n",
       "6076           0.594409           0.596764           0.595211   \n",
       "\n",
       "      mean_test_score  std_test_score  rank_test_score  \n",
       "5671         0.594259        0.003129                1  \n",
       "5833         0.593841        0.005652                2  \n",
       "5590         0.593474        0.005430                3  \n",
       "5509         0.593018        0.005193                4  \n",
       "6076         0.592783        0.004716                5  "
      ]
     },
     "execution_count": 63,
     "metadata": {},
     "output_type": "execute_result"
    }
   ],
   "source": [
    "score_df.nlargest(5,\"mean_test_score\")"
   ]
  },
  {
   "cell_type": "code",
   "execution_count": 64,
   "id": "400a356c",
   "metadata": {},
   "outputs": [
    {
     "data": {
      "text/plain": [
       "DecisionTreeClassifier(criterion='entropy', max_depth=22, random_state=42)"
      ]
     },
     "execution_count": 64,
     "metadata": {},
     "output_type": "execute_result"
    }
   ],
   "source": [
    "tr_best=grid_search.best_estimator_\n",
    "tr_best"
   ]
  },
  {
   "cell_type": "code",
   "execution_count": 263,
   "id": "dd7bc45e",
   "metadata": {},
   "outputs": [],
   "source": [
    "tr_best=DecisionTreeClassifier(criterion='entropy', max_depth=22, random_state=42)"
   ]
  },
  {
   "cell_type": "code",
   "execution_count": 264,
   "id": "d38c1145",
   "metadata": {},
   "outputs": [
    {
     "name": "stdout",
     "output_type": "stream",
     "text": [
      "Average Accuracy: 0.6449539343449618\n",
      "Average Precision: 0.6400327611905886\n",
      "Average Recall: 0.6449605378884193\n",
      "Average F1: 0.6416296859707229\n"
     ]
    }
   ],
   "source": [
    "\n",
    "result = cross_validate(tr_best, X, np.ravel(y), cv=14, scoring=['accuracy', 'f1_macro', 'precision_macro', 'recall_macro'])\n",
    "print(\"Average Accuracy:\", np.mean(result['test_accuracy']))\n",
    "print(\"Average Precision:\", np.mean(result['test_precision_macro']))\n",
    "print(\"Average Recall:\", np.mean(result['test_recall_macro']))\n",
    "print(\"Average F1:\", np.mean(result['test_f1_macro']))"
   ]
  },
  {
   "cell_type": "markdown",
   "id": "95975928",
   "metadata": {},
   "source": [
    "## D: Model Insights"
   ]
  },
  {
   "cell_type": "markdown",
   "id": "27626e5f",
   "metadata": {},
   "source": [
    "<b>After much tuning, let's view the summary of model results:</b>\n",
    "\n",
    "<table>\n",
    "    <thead>\n",
    "        <td>Tuning Methods</td>\n",
    "        <td>Model information</td>\n",
    "        <td>Accuracy</td>\n",
    "        <td>Precision</td>\n",
    "        <td>Recall</td>\n",
    "        <td>F1-score</td>\n",
    "    </thead>\n",
    "    <tr>\n",
    "        <td>Original Model (No Parameters)</td>\n",
    "        <td>DecisionTreeClassifier(random_state=42)</td>\n",
    "        <td>0.64</td>\n",
    "        <td>0.64</td>\n",
    "        <td>0.64</td>\n",
    "        <td>0.64</td>\n",
    "    </tr>\n",
    "    <tr>\n",
    "        <td>Tuned Model</td>\n",
    "        <td>DecisionTreeClassifier(criterion='entropy', max_depth=22, random_state=42)</td>\n",
    "        <td>0.65</td>\n",
    "        <td>0.64</td>\n",
    "        <td>0.65</td>\n",
    "        <td>0.64</td>\n",
    "    </tr>\n",
    "</table>"
   ]
  },
  {
   "cell_type": "markdown",
   "id": "0e42c0b0",
   "metadata": {},
   "source": [
    "From this table we can see that we can use the last model which is<b> DecisionTreeClassifier(criterion='entropy', max_depth=22, random_state=42)</b> as it <b>gives the higher precision, accuracy, recall and f1-score"
   ]
  },
  {
   "cell_type": "markdown",
   "id": "4ae2bf00",
   "metadata": {},
   "source": [
    "### Conclusion: Highest precision of tuned decicison tree is 64%"
   ]
  },
  {
   "cell_type": "markdown",
   "id": "11d1f68f",
   "metadata": {},
   "source": [
    "## E: Predictions"
   ]
  },
  {
   "cell_type": "code",
   "execution_count": 265,
   "id": "db5377c7",
   "metadata": {},
   "outputs": [
    {
     "data": {
      "text/html": [
       "<div>\n",
       "<style scoped>\n",
       "    .dataframe tbody tr th:only-of-type {\n",
       "        vertical-align: middle;\n",
       "    }\n",
       "\n",
       "    .dataframe tbody tr th {\n",
       "        vertical-align: top;\n",
       "    }\n",
       "\n",
       "    .dataframe thead th {\n",
       "        text-align: right;\n",
       "    }\n",
       "</style>\n",
       "<table border=\"1\" class=\"dataframe\">\n",
       "  <thead>\n",
       "    <tr style=\"text-align: right;\">\n",
       "      <th></th>\n",
       "      <th>danceability</th>\n",
       "      <th>energy</th>\n",
       "      <th>loudness</th>\n",
       "      <th>acousticness</th>\n",
       "      <th>speechiness</th>\n",
       "      <th>valence</th>\n",
       "      <th>tempo</th>\n",
       "      <th>duration_in_min</th>\n",
       "      <th>time_signature</th>\n",
       "      <th>instrumentalness</th>\n",
       "      <th>key</th>\n",
       "      <th>class</th>\n",
       "    </tr>\n",
       "  </thead>\n",
       "  <tbody>\n",
       "    <tr>\n",
       "      <th>0</th>\n",
       "      <td>0.473</td>\n",
       "      <td>0.23</td>\n",
       "      <td>-1</td>\n",
       "      <td>0.33</td>\n",
       "      <td>0.02</td>\n",
       "      <td>0.32</td>\n",
       "      <td>0.1</td>\n",
       "      <td>7</td>\n",
       "      <td>3</td>\n",
       "      <td>0.23</td>\n",
       "      <td>3</td>\n",
       "      <td>0</td>\n",
       "    </tr>\n",
       "    <tr>\n",
       "      <th>1</th>\n",
       "      <td>0.550</td>\n",
       "      <td>0.33</td>\n",
       "      <td>-9</td>\n",
       "      <td>0.01</td>\n",
       "      <td>0.10</td>\n",
       "      <td>0.90</td>\n",
       "      <td>0.9</td>\n",
       "      <td>9</td>\n",
       "      <td>4</td>\n",
       "      <td>0.78</td>\n",
       "      <td>4</td>\n",
       "      <td>4</td>\n",
       "    </tr>\n",
       "  </tbody>\n",
       "</table>\n",
       "</div>"
      ],
      "text/plain": [
       "   danceability  energy  loudness  acousticness  speechiness  valence  tempo  \\\n",
       "0         0.473    0.23        -1          0.33         0.02     0.32    0.1   \n",
       "1         0.550    0.33        -9          0.01         0.10     0.90    0.9   \n",
       "\n",
       "   duration_in_min  time_signature  instrumentalness  key  class  \n",
       "0                7               3              0.23    3      0  \n",
       "1                9               4              0.78    4      4  "
      ]
     },
     "metadata": {},
     "output_type": "display_data"
    }
   ],
   "source": [
    "d = {'danceability': [0.473, 0.55], 'energy': [0.23, 0.33],\"loudness\":[-1,-9],\n",
    "\"acousticness\":[0.33,0.01],\"speechiness\":[0.02,0.1],\"valence\":[0.32,0.90],\"tempo\":[0.10,0.90],\n",
    "\"duration_in_min\":[7,9],\"time_signature\":[3,4],\"instrumentalness\":[0.23,0.78],\"key\":[3,4]}\n",
    "df = pd.DataFrame(data=d)\n",
    "tr_best.fit(X_train,y_train)\n",
    "df['class']=tr_best.predict(df)\n",
    "display(df)"
   ]
  },
  {
   "cell_type": "markdown",
   "id": "5d98e7e1",
   "metadata": {},
   "source": [
    "<a id='11'><h3 style=\"padding:5px;color:white;background-color:#C4E0E5;text-align: center;margin-left:auto;margin-right:auto;border-radius:10px;\"><font color=\"darkblue\">Model 2: K-Neighbors Classifier</h3>"
   ]
  },
  {
   "cell_type": "markdown",
   "id": "dafaf816",
   "metadata": {},
   "source": [
    "## A: Building Model -  K-Neighbors Classifier"
   ]
  },
  {
   "cell_type": "code",
   "execution_count": 266,
   "id": "b7accc5a",
   "metadata": {},
   "outputs": [
    {
     "name": "stderr",
     "output_type": "stream",
     "text": [
      "C:\\Users\\JiaYi\\anaconda3\\lib\\site-packages\\sklearn\\neighbors\\_classification.py:179: DataConversionWarning: A column-vector y was passed when a 1d array was expected. Please change the shape of y to (n_samples,), for example using ravel().\n",
      "  return self._fit(X, y)\n"
     ]
    },
    {
     "data": {
      "text/plain": [
       "KNeighborsClassifier()"
      ]
     },
     "execution_count": 266,
     "metadata": {},
     "output_type": "execute_result"
    }
   ],
   "source": [
    "from sklearn.neighbors import KNeighborsClassifier as KNC\n",
    "\n",
    "classifier = KNC()\n",
    "classifier.fit(X_train, y_train)"
   ]
  },
  {
   "cell_type": "markdown",
   "id": "b2b9480e",
   "metadata": {},
   "source": [
    "## B: Model Evaluation"
   ]
  },
  {
   "cell_type": "markdown",
   "id": "d83674a2",
   "metadata": {},
   "source": [
    "### Cross Validation"
   ]
  },
  {
   "cell_type": "code",
   "execution_count": 267,
   "id": "1f62ea1c",
   "metadata": {
    "scrolled": true
   },
   "outputs": [
    {
     "name": "stdout",
     "output_type": "stream",
     "text": [
      "Average Accuracy: 0.6529678100578484\n",
      "Average Precision: 0.6446341092518711\n",
      "Average Recall: 0.6529785807311853\n",
      "Average F1: 0.6346146245080541\n"
     ]
    }
   ],
   "source": [
    "#Enter your codes to use cross_validation here\n",
    "from sklearn.model_selection import cross_validate\n",
    "\n",
    "result = cross_validate(classifier, X, np.ravel(y), cv=14, scoring=['accuracy', 'f1_macro', 'precision_macro', 'recall_macro'])\n",
    "print(\"Average Accuracy:\", np.mean(result['test_accuracy']))\n",
    "print(\"Average Precision:\", np.mean(result['test_precision_macro']))\n",
    "print(\"Average Recall:\", np.mean(result['test_recall_macro']))\n",
    "print(\"Average F1:\", np.mean(result['test_f1_macro']))"
   ]
  },
  {
   "cell_type": "markdown",
   "id": "31651e27",
   "metadata": {},
   "source": [
    "## C: Tuning Parameters"
   ]
  },
  {
   "cell_type": "code",
   "execution_count": 49,
   "id": "0f7082ad",
   "metadata": {},
   "outputs": [],
   "source": [
    "from sklearn.model_selection import GridSearchCV\n",
    "knn_2 = KNC()\n",
    "params = {\n",
    "    'leaf_size': list(range(1,50)),\n",
    "    'n_neighbors': list(range(1,100)),\n",
    "    'p': [1,2]\n",
    "}\n",
    "\n",
    "# Instantiate the grid search model\n",
    "grid_search = GridSearchCV(estimator=knn_2, \n",
    "                           param_grid=params, \n",
    "                           cv=4, n_jobs=-1, verbose=1, scoring = \"precision_macro\")"
   ]
  },
  {
   "cell_type": "code",
   "execution_count": 50,
   "id": "fe554a34",
   "metadata": {
    "scrolled": true
   },
   "outputs": [
    {
     "name": "stdout",
     "output_type": "stream",
     "text": [
      "Fitting 4 folds for each of 9702 candidates, totalling 38808 fits\n"
     ]
    },
    {
     "name": "stderr",
     "output_type": "stream",
     "text": [
      "C:\\Users\\JiaYi\\anaconda3\\lib\\site-packages\\sklearn\\neighbors\\_classification.py:179: DataConversionWarning: A column-vector y was passed when a 1d array was expected. Please change the shape of y to (n_samples,), for example using ravel().\n",
      "  return self._fit(X, y)\n"
     ]
    },
    {
     "name": "stdout",
     "output_type": "stream",
     "text": [
      "Wall time: 10h 35min 31s\n"
     ]
    },
    {
     "data": {
      "text/html": [
       "<div>\n",
       "<style scoped>\n",
       "    .dataframe tbody tr th:only-of-type {\n",
       "        vertical-align: middle;\n",
       "    }\n",
       "\n",
       "    .dataframe tbody tr th {\n",
       "        vertical-align: top;\n",
       "    }\n",
       "\n",
       "    .dataframe thead th {\n",
       "        text-align: right;\n",
       "    }\n",
       "</style>\n",
       "<table border=\"1\" class=\"dataframe\">\n",
       "  <thead>\n",
       "    <tr style=\"text-align: right;\">\n",
       "      <th></th>\n",
       "      <th>mean_fit_time</th>\n",
       "      <th>std_fit_time</th>\n",
       "      <th>mean_score_time</th>\n",
       "      <th>std_score_time</th>\n",
       "      <th>param_leaf_size</th>\n",
       "      <th>param_n_neighbors</th>\n",
       "      <th>param_p</th>\n",
       "      <th>params</th>\n",
       "      <th>split0_test_score</th>\n",
       "      <th>split1_test_score</th>\n",
       "      <th>split2_test_score</th>\n",
       "      <th>split3_test_score</th>\n",
       "      <th>mean_test_score</th>\n",
       "      <th>std_test_score</th>\n",
       "      <th>rank_test_score</th>\n",
       "    </tr>\n",
       "  </thead>\n",
       "  <tbody>\n",
       "    <tr>\n",
       "      <th>0</th>\n",
       "      <td>0.932252</td>\n",
       "      <td>0.252040</td>\n",
       "      <td>3.303913</td>\n",
       "      <td>0.104637</td>\n",
       "      <td>1</td>\n",
       "      <td>1</td>\n",
       "      <td>1</td>\n",
       "      <td>{'leaf_size': 1, 'n_neighbors': 1, 'p': 1}</td>\n",
       "      <td>0.766863</td>\n",
       "      <td>0.777561</td>\n",
       "      <td>0.769614</td>\n",
       "      <td>0.778194</td>\n",
       "      <td>0.773058</td>\n",
       "      <td>0.004922</td>\n",
       "      <td>45</td>\n",
       "    </tr>\n",
       "    <tr>\n",
       "      <th>1</th>\n",
       "      <td>0.882536</td>\n",
       "      <td>0.086670</td>\n",
       "      <td>3.180631</td>\n",
       "      <td>0.155629</td>\n",
       "      <td>1</td>\n",
       "      <td>1</td>\n",
       "      <td>2</td>\n",
       "      <td>{'leaf_size': 1, 'n_neighbors': 1, 'p': 2}</td>\n",
       "      <td>0.749810</td>\n",
       "      <td>0.752977</td>\n",
       "      <td>0.749671</td>\n",
       "      <td>0.761857</td>\n",
       "      <td>0.753579</td>\n",
       "      <td>0.004959</td>\n",
       "      <td>88</td>\n",
       "    </tr>\n",
       "    <tr>\n",
       "      <th>2</th>\n",
       "      <td>1.274602</td>\n",
       "      <td>0.109488</td>\n",
       "      <td>5.133861</td>\n",
       "      <td>0.138603</td>\n",
       "      <td>1</td>\n",
       "      <td>2</td>\n",
       "      <td>1</td>\n",
       "      <td>{'leaf_size': 1, 'n_neighbors': 2, 'p': 1}</td>\n",
       "      <td>0.725704</td>\n",
       "      <td>0.722294</td>\n",
       "      <td>0.722202</td>\n",
       "      <td>0.731138</td>\n",
       "      <td>0.725334</td>\n",
       "      <td>0.003636</td>\n",
       "      <td>145</td>\n",
       "    </tr>\n",
       "    <tr>\n",
       "      <th>3</th>\n",
       "      <td>1.020289</td>\n",
       "      <td>0.130202</td>\n",
       "      <td>4.819467</td>\n",
       "      <td>0.172410</td>\n",
       "      <td>1</td>\n",
       "      <td>2</td>\n",
       "      <td>2</td>\n",
       "      <td>{'leaf_size': 1, 'n_neighbors': 2, 'p': 2}</td>\n",
       "      <td>0.702868</td>\n",
       "      <td>0.708004</td>\n",
       "      <td>0.692397</td>\n",
       "      <td>0.714996</td>\n",
       "      <td>0.704566</td>\n",
       "      <td>0.008240</td>\n",
       "      <td>216</td>\n",
       "    </tr>\n",
       "    <tr>\n",
       "      <th>4</th>\n",
       "      <td>0.675785</td>\n",
       "      <td>0.033167</td>\n",
       "      <td>6.085378</td>\n",
       "      <td>0.270490</td>\n",
       "      <td>1</td>\n",
       "      <td>3</td>\n",
       "      <td>1</td>\n",
       "      <td>{'leaf_size': 1, 'n_neighbors': 3, 'p': 1}</td>\n",
       "      <td>0.703114</td>\n",
       "      <td>0.701149</td>\n",
       "      <td>0.703853</td>\n",
       "      <td>0.720392</td>\n",
       "      <td>0.707127</td>\n",
       "      <td>0.007722</td>\n",
       "      <td>151</td>\n",
       "    </tr>\n",
       "  </tbody>\n",
       "</table>\n",
       "</div>"
      ],
      "text/plain": [
       "   mean_fit_time  std_fit_time  mean_score_time  std_score_time  \\\n",
       "0       0.932252      0.252040         3.303913        0.104637   \n",
       "1       0.882536      0.086670         3.180631        0.155629   \n",
       "2       1.274602      0.109488         5.133861        0.138603   \n",
       "3       1.020289      0.130202         4.819467        0.172410   \n",
       "4       0.675785      0.033167         6.085378        0.270490   \n",
       "\n",
       "  param_leaf_size param_n_neighbors param_p  \\\n",
       "0               1                 1       1   \n",
       "1               1                 1       2   \n",
       "2               1                 2       1   \n",
       "3               1                 2       2   \n",
       "4               1                 3       1   \n",
       "\n",
       "                                       params  split0_test_score  \\\n",
       "0  {'leaf_size': 1, 'n_neighbors': 1, 'p': 1}           0.766863   \n",
       "1  {'leaf_size': 1, 'n_neighbors': 1, 'p': 2}           0.749810   \n",
       "2  {'leaf_size': 1, 'n_neighbors': 2, 'p': 1}           0.725704   \n",
       "3  {'leaf_size': 1, 'n_neighbors': 2, 'p': 2}           0.702868   \n",
       "4  {'leaf_size': 1, 'n_neighbors': 3, 'p': 1}           0.703114   \n",
       "\n",
       "   split1_test_score  split2_test_score  split3_test_score  mean_test_score  \\\n",
       "0           0.777561           0.769614           0.778194         0.773058   \n",
       "1           0.752977           0.749671           0.761857         0.753579   \n",
       "2           0.722294           0.722202           0.731138         0.725334   \n",
       "3           0.708004           0.692397           0.714996         0.704566   \n",
       "4           0.701149           0.703853           0.720392         0.707127   \n",
       "\n",
       "   std_test_score  rank_test_score  \n",
       "0        0.004922               45  \n",
       "1        0.004959               88  \n",
       "2        0.003636              145  \n",
       "3        0.008240              216  \n",
       "4        0.007722              151  "
      ]
     },
     "execution_count": 50,
     "metadata": {},
     "output_type": "execute_result"
    }
   ],
   "source": [
    "\n",
    "%%time\n",
    "\n",
    "#with tf.device('/GPU:0'):\n",
    "grid_search.fit(X_train, y_train)\n",
    "\n",
    "score_df = pd.DataFrame(grid_search.cv_results_)\n",
    "score_df.head()"
   ]
  },
  {
   "cell_type": "code",
   "execution_count": 51,
   "id": "812542aa",
   "metadata": {
    "scrolled": true
   },
   "outputs": [
    {
     "data": {
      "text/html": [
       "<div>\n",
       "<style scoped>\n",
       "    .dataframe tbody tr th:only-of-type {\n",
       "        vertical-align: middle;\n",
       "    }\n",
       "\n",
       "    .dataframe tbody tr th {\n",
       "        vertical-align: top;\n",
       "    }\n",
       "\n",
       "    .dataframe thead th {\n",
       "        text-align: right;\n",
       "    }\n",
       "</style>\n",
       "<table border=\"1\" class=\"dataframe\">\n",
       "  <thead>\n",
       "    <tr style=\"text-align: right;\">\n",
       "      <th></th>\n",
       "      <th>mean_fit_time</th>\n",
       "      <th>std_fit_time</th>\n",
       "      <th>mean_score_time</th>\n",
       "      <th>std_score_time</th>\n",
       "      <th>param_leaf_size</th>\n",
       "      <th>param_n_neighbors</th>\n",
       "      <th>param_p</th>\n",
       "      <th>params</th>\n",
       "      <th>split0_test_score</th>\n",
       "      <th>split1_test_score</th>\n",
       "      <th>split2_test_score</th>\n",
       "      <th>split3_test_score</th>\n",
       "      <th>mean_test_score</th>\n",
       "      <th>std_test_score</th>\n",
       "      <th>rank_test_score</th>\n",
       "    </tr>\n",
       "  </thead>\n",
       "  <tbody>\n",
       "    <tr>\n",
       "      <th>4752</th>\n",
       "      <td>0.377834</td>\n",
       "      <td>0.026230</td>\n",
       "      <td>3.190966</td>\n",
       "      <td>1.193384</td>\n",
       "      <td>25</td>\n",
       "      <td>1</td>\n",
       "      <td>1</td>\n",
       "      <td>{'leaf_size': 25, 'n_neighbors': 1, 'p': 1}</td>\n",
       "      <td>0.767001</td>\n",
       "      <td>0.777561</td>\n",
       "      <td>0.769614</td>\n",
       "      <td>0.778329</td>\n",
       "      <td>0.773126</td>\n",
       "      <td>0.004914</td>\n",
       "      <td>1</td>\n",
       "    </tr>\n",
       "    <tr>\n",
       "      <th>4950</th>\n",
       "      <td>0.363832</td>\n",
       "      <td>0.024206</td>\n",
       "      <td>3.941885</td>\n",
       "      <td>0.775656</td>\n",
       "      <td>26</td>\n",
       "      <td>1</td>\n",
       "      <td>1</td>\n",
       "      <td>{'leaf_size': 26, 'n_neighbors': 1, 'p': 1}</td>\n",
       "      <td>0.767001</td>\n",
       "      <td>0.777561</td>\n",
       "      <td>0.769614</td>\n",
       "      <td>0.778329</td>\n",
       "      <td>0.773126</td>\n",
       "      <td>0.004914</td>\n",
       "      <td>1</td>\n",
       "    </tr>\n",
       "    <tr>\n",
       "      <th>5148</th>\n",
       "      <td>0.374084</td>\n",
       "      <td>0.034352</td>\n",
       "      <td>3.822608</td>\n",
       "      <td>1.110617</td>\n",
       "      <td>27</td>\n",
       "      <td>1</td>\n",
       "      <td>1</td>\n",
       "      <td>{'leaf_size': 27, 'n_neighbors': 1, 'p': 1}</td>\n",
       "      <td>0.767001</td>\n",
       "      <td>0.777561</td>\n",
       "      <td>0.769614</td>\n",
       "      <td>0.778329</td>\n",
       "      <td>0.773126</td>\n",
       "      <td>0.004914</td>\n",
       "      <td>1</td>\n",
       "    </tr>\n",
       "    <tr>\n",
       "      <th>5346</th>\n",
       "      <td>0.361831</td>\n",
       "      <td>0.011391</td>\n",
       "      <td>4.169937</td>\n",
       "      <td>1.155537</td>\n",
       "      <td>28</td>\n",
       "      <td>1</td>\n",
       "      <td>1</td>\n",
       "      <td>{'leaf_size': 28, 'n_neighbors': 1, 'p': 1}</td>\n",
       "      <td>0.767001</td>\n",
       "      <td>0.777561</td>\n",
       "      <td>0.769614</td>\n",
       "      <td>0.778329</td>\n",
       "      <td>0.773126</td>\n",
       "      <td>0.004914</td>\n",
       "      <td>1</td>\n",
       "    </tr>\n",
       "    <tr>\n",
       "      <th>5544</th>\n",
       "      <td>0.354579</td>\n",
       "      <td>0.019050</td>\n",
       "      <td>4.664179</td>\n",
       "      <td>1.132935</td>\n",
       "      <td>29</td>\n",
       "      <td>1</td>\n",
       "      <td>1</td>\n",
       "      <td>{'leaf_size': 29, 'n_neighbors': 1, 'p': 1}</td>\n",
       "      <td>0.767001</td>\n",
       "      <td>0.777561</td>\n",
       "      <td>0.769614</td>\n",
       "      <td>0.778329</td>\n",
       "      <td>0.773126</td>\n",
       "      <td>0.004914</td>\n",
       "      <td>1</td>\n",
       "    </tr>\n",
       "  </tbody>\n",
       "</table>\n",
       "</div>"
      ],
      "text/plain": [
       "      mean_fit_time  std_fit_time  mean_score_time  std_score_time  \\\n",
       "4752       0.377834      0.026230         3.190966        1.193384   \n",
       "4950       0.363832      0.024206         3.941885        0.775656   \n",
       "5148       0.374084      0.034352         3.822608        1.110617   \n",
       "5346       0.361831      0.011391         4.169937        1.155537   \n",
       "5544       0.354579      0.019050         4.664179        1.132935   \n",
       "\n",
       "     param_leaf_size param_n_neighbors param_p  \\\n",
       "4752              25                 1       1   \n",
       "4950              26                 1       1   \n",
       "5148              27                 1       1   \n",
       "5346              28                 1       1   \n",
       "5544              29                 1       1   \n",
       "\n",
       "                                           params  split0_test_score  \\\n",
       "4752  {'leaf_size': 25, 'n_neighbors': 1, 'p': 1}           0.767001   \n",
       "4950  {'leaf_size': 26, 'n_neighbors': 1, 'p': 1}           0.767001   \n",
       "5148  {'leaf_size': 27, 'n_neighbors': 1, 'p': 1}           0.767001   \n",
       "5346  {'leaf_size': 28, 'n_neighbors': 1, 'p': 1}           0.767001   \n",
       "5544  {'leaf_size': 29, 'n_neighbors': 1, 'p': 1}           0.767001   \n",
       "\n",
       "      split1_test_score  split2_test_score  split3_test_score  \\\n",
       "4752           0.777561           0.769614           0.778329   \n",
       "4950           0.777561           0.769614           0.778329   \n",
       "5148           0.777561           0.769614           0.778329   \n",
       "5346           0.777561           0.769614           0.778329   \n",
       "5544           0.777561           0.769614           0.778329   \n",
       "\n",
       "      mean_test_score  std_test_score  rank_test_score  \n",
       "4752         0.773126        0.004914                1  \n",
       "4950         0.773126        0.004914                1  \n",
       "5148         0.773126        0.004914                1  \n",
       "5346         0.773126        0.004914                1  \n",
       "5544         0.773126        0.004914                1  "
      ]
     },
     "execution_count": 51,
     "metadata": {},
     "output_type": "execute_result"
    }
   ],
   "source": [
    "score_df.nlargest(5,\"mean_test_score\")"
   ]
  },
  {
   "cell_type": "code",
   "execution_count": 52,
   "id": "3b70aabc",
   "metadata": {},
   "outputs": [
    {
     "data": {
      "text/plain": [
       "KNeighborsClassifier(leaf_size=25, n_neighbors=1, p=1)"
      ]
     },
     "execution_count": 52,
     "metadata": {},
     "output_type": "execute_result"
    }
   ],
   "source": [
    "knc_best=grid_search.best_estimator_\n",
    "knc_best\n"
   ]
  },
  {
   "cell_type": "code",
   "execution_count": 268,
   "id": "a315cc3b",
   "metadata": {},
   "outputs": [],
   "source": [
    "knc_best=KNC(leaf_size=25, n_neighbors=1, p=1)"
   ]
  },
  {
   "cell_type": "code",
   "execution_count": 269,
   "id": "6fd28788",
   "metadata": {},
   "outputs": [
    {
     "name": "stdout",
     "output_type": "stream",
     "text": [
      "Average Accuracy: 0.7947866385158336\n",
      "Average Precision: 0.7880893693831723\n",
      "Average Recall: 0.7947811630522723\n",
      "Average F1: 0.7864581015088197\n"
     ]
    }
   ],
   "source": [
    "#Enter your codes to use cross_validation here\n",
    "from sklearn.model_selection import cross_validate\n",
    "\n",
    "result = cross_validate(knc_best, X, np.ravel(y), cv=14, scoring=['accuracy', 'f1_macro', 'precision_macro', 'recall_macro'])\n",
    "print(\"Average Accuracy:\", np.mean(result['test_accuracy']))\n",
    "print(\"Average Precision:\", np.mean(result['test_precision_macro']))\n",
    "print(\"Average Recall:\", np.mean(result['test_recall_macro']))\n",
    "print(\"Average F1:\", np.mean(result['test_f1_macro']))"
   ]
  },
  {
   "cell_type": "markdown",
   "id": "d5ed7355",
   "metadata": {},
   "source": [
    "## D: Model Insights"
   ]
  },
  {
   "cell_type": "markdown",
   "id": "d3d649a5",
   "metadata": {},
   "source": [
    "<b>After much tuning, let's view the summary of model results:</b>\n",
    "\n",
    "<table>\n",
    "    <thead>\n",
    "        <td>Tuning Methods</td>\n",
    "        <td>Model information</td>\n",
    "        <td>Accuracy</td>\n",
    "        <td>Precision</td>\n",
    "        <td>Recall</td>\n",
    "        <td>f1-score</td>\n",
    "    </thead>\n",
    "    <tr>\n",
    "        <td>Original Model (No Parameters)</td>\n",
    "        <td>KNeighborsClassifier()</td>\n",
    "        <td>0.65</td>\n",
    "        <td>0.64</td>\n",
    "        <td>0.65</td>\n",
    "        <td>0.63</td>\n",
    "    </tr>\n",
    "    <tr>\n",
    "        <td>Grid search CV</td>\n",
    "        <td>KNeighborsClassifier(leaf_size=25, n_neighbors=1, p=1)</td>\n",
    "        <td>0.79</td>\n",
    "        <td>0.79</td>\n",
    "        <td>0.79</td>\n",
    "        <td>0.79</td>\n",
    "    </tr>\n",
    "</table>"
   ]
  },
  {
   "cell_type": "markdown",
   "id": "0b662454",
   "metadata": {},
   "source": [
    "### Conclusion: Highest precision of tuned k-neighbors classifier is 79%."
   ]
  },
  {
   "cell_type": "markdown",
   "id": "42ee4c3a",
   "metadata": {},
   "source": [
    "## E: Predictions"
   ]
  },
  {
   "cell_type": "code",
   "execution_count": 293,
   "id": "dfcb4e78",
   "metadata": {},
   "outputs": [
    {
     "name": "stderr",
     "output_type": "stream",
     "text": [
      "C:\\Users\\JiaYi\\anaconda3\\lib\\site-packages\\sklearn\\neighbors\\_classification.py:179: DataConversionWarning: A column-vector y was passed when a 1d array was expected. Please change the shape of y to (n_samples,), for example using ravel().\n",
      "  return self._fit(X, y)\n"
     ]
    },
    {
     "data": {
      "text/html": [
       "<div>\n",
       "<style scoped>\n",
       "    .dataframe tbody tr th:only-of-type {\n",
       "        vertical-align: middle;\n",
       "    }\n",
       "\n",
       "    .dataframe tbody tr th {\n",
       "        vertical-align: top;\n",
       "    }\n",
       "\n",
       "    .dataframe thead th {\n",
       "        text-align: right;\n",
       "    }\n",
       "</style>\n",
       "<table border=\"1\" class=\"dataframe\">\n",
       "  <thead>\n",
       "    <tr style=\"text-align: right;\">\n",
       "      <th></th>\n",
       "      <th>danceability</th>\n",
       "      <th>energy</th>\n",
       "      <th>loudness</th>\n",
       "      <th>acousticness</th>\n",
       "      <th>speechiness</th>\n",
       "      <th>valence</th>\n",
       "      <th>tempo</th>\n",
       "      <th>duration_in_min</th>\n",
       "      <th>time_signature</th>\n",
       "      <th>instrumentalness</th>\n",
       "      <th>key</th>\n",
       "      <th>class</th>\n",
       "    </tr>\n",
       "  </thead>\n",
       "  <tbody>\n",
       "    <tr>\n",
       "      <th>0</th>\n",
       "      <td>0.473</td>\n",
       "      <td>0.23</td>\n",
       "      <td>-1</td>\n",
       "      <td>0.33</td>\n",
       "      <td>0.02</td>\n",
       "      <td>0.32</td>\n",
       "      <td>0.1</td>\n",
       "      <td>7</td>\n",
       "      <td>3</td>\n",
       "      <td>0.23</td>\n",
       "      <td>3</td>\n",
       "      <td>3</td>\n",
       "    </tr>\n",
       "    <tr>\n",
       "      <th>1</th>\n",
       "      <td>0.550</td>\n",
       "      <td>0.33</td>\n",
       "      <td>-9</td>\n",
       "      <td>0.01</td>\n",
       "      <td>0.10</td>\n",
       "      <td>0.90</td>\n",
       "      <td>0.9</td>\n",
       "      <td>9</td>\n",
       "      <td>4</td>\n",
       "      <td>0.78</td>\n",
       "      <td>4</td>\n",
       "      <td>1</td>\n",
       "    </tr>\n",
       "  </tbody>\n",
       "</table>\n",
       "</div>"
      ],
      "text/plain": [
       "   danceability  energy  loudness  acousticness  speechiness  valence  tempo  \\\n",
       "0         0.473    0.23        -1          0.33         0.02     0.32    0.1   \n",
       "1         0.550    0.33        -9          0.01         0.10     0.90    0.9   \n",
       "\n",
       "   duration_in_min  time_signature  instrumentalness  key  class  \n",
       "0                7               3              0.23    3      3  \n",
       "1                9               4              0.78    4      1  "
      ]
     },
     "metadata": {},
     "output_type": "display_data"
    }
   ],
   "source": [
    "d = {'danceability': [0.473, 0.55], 'energy': [0.23, 0.33],\"loudness\":[-1,-9],\n",
    "\"acousticness\":[0.33,0.01],\"speechiness\":[0.02,0.1],\"valence\":[0.32,0.90],\"tempo\":[0.10,0.90],\n",
    "\"duration_in_min\":[7,9],\"time_signature\":[3,4],\"instrumentalness\":[0.23,0.78],\"key\":[3,4]}\n",
    "df = pd.DataFrame(data=d)\n",
    "knc_best.fit(X_train,y_train)\n",
    "df['class']=knc_best.predict(df)\n",
    "display(df)"
   ]
  },
  {
   "cell_type": "markdown",
   "id": "2a7466b0",
   "metadata": {},
   "source": [
    "<a id='12'><h3 style=\"padding:5px;color:white;background-color:#C4E0E5;text-align: center;margin-left:auto;margin-right:auto;border-radius:10px;\"><font color=\"darkblue\">Model 3: Random Forest Classifier</h3>"
   ]
  },
  {
   "cell_type": "markdown",
   "id": "afbbe3ab",
   "metadata": {},
   "source": [
    "## A: Building Model -  Random Forest Classifier"
   ]
  },
  {
   "cell_type": "code",
   "execution_count": 271,
   "id": "8012730c",
   "metadata": {},
   "outputs": [
    {
     "name": "stderr",
     "output_type": "stream",
     "text": [
      "<ipython-input-271-8594d7246451>:3: DataConversionWarning: A column-vector y was passed when a 1d array was expected. Please change the shape of y to (n_samples,), for example using ravel().\n",
      "  RFC.fit(X_train, y_train)\n"
     ]
    },
    {
     "data": {
      "text/plain": [
       "RandomForestClassifier()"
      ]
     },
     "execution_count": 271,
     "metadata": {},
     "output_type": "execute_result"
    }
   ],
   "source": [
    "from sklearn.ensemble import RandomForestClassifier\n",
    "RFC=RandomForestClassifier()\n",
    "RFC.fit(X_train, y_train)"
   ]
  },
  {
   "cell_type": "markdown",
   "id": "7d7dc8d5",
   "metadata": {},
   "source": [
    "## B: Model Evaluation"
   ]
  },
  {
   "cell_type": "markdown",
   "id": "2e68dd7a",
   "metadata": {},
   "source": [
    "### Cross Validation"
   ]
  },
  {
   "cell_type": "code",
   "execution_count": 272,
   "id": "b37244ad",
   "metadata": {
    "scrolled": true
   },
   "outputs": [
    {
     "name": "stdout",
     "output_type": "stream",
     "text": [
      "Average Accuracy: 0.7978252904557233\n",
      "Average Precision: 0.79187426913976\n",
      "Average Recall: 0.7978170218104016\n",
      "Average F1: 0.788701617264592\n"
     ]
    }
   ],
   "source": [
    "#Enter your codes to use cross_validation here\n",
    "from sklearn.model_selection import cross_validate\n",
    "\n",
    "result = cross_validate(RFC, X, np.ravel(y), cv=14, scoring=['accuracy', 'f1_macro', 'precision_macro', 'recall_macro'])\n",
    "print(\"Average Accuracy:\", np.mean(result['test_accuracy']))\n",
    "print(\"Average Precision:\", np.mean(result['test_precision_macro']))\n",
    "print(\"Average Recall:\", np.mean(result['test_recall_macro']))\n",
    "print(\"Average F1:\", np.mean(result['test_f1_macro']))"
   ]
  },
  {
   "cell_type": "markdown",
   "id": "7afaa0b1",
   "metadata": {},
   "source": [
    "## C: Tuning Parameters"
   ]
  },
  {
   "cell_type": "code",
   "execution_count": 62,
   "id": "8682e5a3",
   "metadata": {},
   "outputs": [
    {
     "name": "stderr",
     "output_type": "stream",
     "text": [
      "C:\\Users\\JiaYi\\anaconda3\\lib\\site-packages\\sklearn\\model_selection\\_search.py:880: DataConversionWarning: A column-vector y was passed when a 1d array was expected. Please change the shape of y to (n_samples,), for example using ravel().\n",
      "  self.best_estimator_.fit(X, y, **fit_params)\n"
     ]
    }
   ],
   "source": [
    "\n",
    "with tf.device('/GPU:0'):\n",
    "    from sklearn.model_selection import RepeatedStratifiedKFold\n",
    "    RFC2 = RandomForestClassifier()\n",
    "    n_estimators = [10, 100, 1000]\n",
    "    max_features = ['sqrt', 'log2']\n",
    "    # define grid search\n",
    "    grid = dict(n_estimators=n_estimators,max_features=max_features)\n",
    "    cv = RepeatedStratifiedKFold(n_splits=10, n_repeats=3, random_state=1)\n",
    "    grid_search = GridSearchCV(estimator=RFC2, param_grid=grid, n_jobs=-1, cv=cv, scoring='precision_macro',error_score=0)\n",
    "    grid_result = grid_search.fit(X, y)"
   ]
  },
  {
   "cell_type": "code",
   "execution_count": 63,
   "id": "77d1f66e",
   "metadata": {},
   "outputs": [
    {
     "name": "stdout",
     "output_type": "stream",
     "text": [
      "Best: 0.795515 using {'max_features': 'sqrt', 'n_estimators': 1000}\n"
     ]
    }
   ],
   "source": [
    "print(\"Best: %f using %s\" % (grid_result.best_score_, grid_result.best_params_))"
   ]
  },
  {
   "cell_type": "code",
   "execution_count": 64,
   "id": "568e9c96",
   "metadata": {},
   "outputs": [
    {
     "data": {
      "text/plain": [
       "RandomForestClassifier(max_features='sqrt', n_estimators=1000)"
      ]
     },
     "execution_count": 64,
     "metadata": {},
     "output_type": "execute_result"
    }
   ],
   "source": [
    "RFC_best = RandomForestClassifier(max_features='sqrt',n_estimators=1000)\n",
    "RFC_best"
   ]
  },
  {
   "cell_type": "code",
   "execution_count": 273,
   "id": "18b82347",
   "metadata": {},
   "outputs": [],
   "source": [
    "RFC_best=RandomForestClassifier(max_features='sqrt', n_estimators=1000)"
   ]
  },
  {
   "cell_type": "code",
   "execution_count": 274,
   "id": "4f67be48",
   "metadata": {
    "scrolled": true
   },
   "outputs": [
    {
     "name": "stdout",
     "output_type": "stream",
     "text": [
      "Average Accuracy: 0.8050500324798812\n",
      "Average Precision: 0.8004426710191744\n",
      "Average Recall: 0.8050405544639864\n",
      "Average F1: 0.7963544425675914\n"
     ]
    }
   ],
   "source": [
    "#Enter your codes to use cross_validation here\n",
    "from sklearn.model_selection import cross_validate\n",
    "\n",
    "result = cross_validate(RFC_best, X, np.ravel(y), cv=14, scoring=['accuracy', 'f1_macro', 'precision_macro', 'recall_macro'])\n",
    "print(\"Average Accuracy:\", np.mean(result['test_accuracy']))\n",
    "print(\"Average Precision:\", np.mean(result['test_precision_macro']))\n",
    "print(\"Average Recall:\", np.mean(result['test_recall_macro']))\n",
    "print(\"Average F1:\", np.mean(result['test_f1_macro']))"
   ]
  },
  {
   "cell_type": "markdown",
   "id": "21379928",
   "metadata": {},
   "source": [
    "## D: Model Insights"
   ]
  },
  {
   "cell_type": "markdown",
   "id": "ffc3da49",
   "metadata": {},
   "source": [
    "<b>After much tuning, let's view the summary of model results:</b>\n",
    "\n",
    "<table>\n",
    "    <thead>\n",
    "        <td>Tuning Methods</td>\n",
    "        <td>Model information</td>\n",
    "        <td>Accuracy</td>\n",
    "        <td>Precision</td>\n",
    "        <td>Recall</td>\n",
    "        <td>f1-score</td>\n",
    "    </thead>\n",
    "    <tr>\n",
    "        <td>Original Model (No Parameters)</td>\n",
    "        <td>RandomForestClassifier()</td>\n",
    "        <td>0.80</td>\n",
    "        <td>0.79</td>\n",
    "        <td>0.80</td>\n",
    "        <td>0.79</td>\n",
    "    </tr>\n",
    "    <tr>\n",
    "        <td>Grid search CV</td>\n",
    "        <td>RandomForestClassifier(max_features='sqrt', n_estimators=1000)</td>\n",
    "        <td>0.80</td>\n",
    "        <td>0.80</td>\n",
    "        <td>0.80</td>\n",
    "        <td>0.80</td>\n",
    "    </tr>\n",
    "</table>"
   ]
  },
  {
   "cell_type": "markdown",
   "id": "b63c12cf",
   "metadata": {},
   "source": [
    "### Conclusion: Highest precision of tuned Random Forest classifier is 80%"
   ]
  },
  {
   "cell_type": "markdown",
   "id": "5a7158df",
   "metadata": {},
   "source": [
    "## E: Predictions"
   ]
  },
  {
   "cell_type": "code",
   "execution_count": 294,
   "id": "f26371fa",
   "metadata": {},
   "outputs": [
    {
     "name": "stderr",
     "output_type": "stream",
     "text": [
      "<ipython-input-294-345b35654605>:5: DataConversionWarning: A column-vector y was passed when a 1d array was expected. Please change the shape of y to (n_samples,), for example using ravel().\n",
      "  RFC_best.fit(X_train,y_train)\n"
     ]
    },
    {
     "data": {
      "text/html": [
       "<div>\n",
       "<style scoped>\n",
       "    .dataframe tbody tr th:only-of-type {\n",
       "        vertical-align: middle;\n",
       "    }\n",
       "\n",
       "    .dataframe tbody tr th {\n",
       "        vertical-align: top;\n",
       "    }\n",
       "\n",
       "    .dataframe thead th {\n",
       "        text-align: right;\n",
       "    }\n",
       "</style>\n",
       "<table border=\"1\" class=\"dataframe\">\n",
       "  <thead>\n",
       "    <tr style=\"text-align: right;\">\n",
       "      <th></th>\n",
       "      <th>danceability</th>\n",
       "      <th>energy</th>\n",
       "      <th>loudness</th>\n",
       "      <th>acousticness</th>\n",
       "      <th>speechiness</th>\n",
       "      <th>valence</th>\n",
       "      <th>tempo</th>\n",
       "      <th>duration_in_min</th>\n",
       "      <th>time_signature</th>\n",
       "      <th>instrumentalness</th>\n",
       "      <th>key</th>\n",
       "      <th>class</th>\n",
       "    </tr>\n",
       "  </thead>\n",
       "  <tbody>\n",
       "    <tr>\n",
       "      <th>0</th>\n",
       "      <td>0.473</td>\n",
       "      <td>0.23</td>\n",
       "      <td>-1</td>\n",
       "      <td>0.33</td>\n",
       "      <td>0.02</td>\n",
       "      <td>0.32</td>\n",
       "      <td>0.1</td>\n",
       "      <td>7</td>\n",
       "      <td>3</td>\n",
       "      <td>0.23</td>\n",
       "      <td>3</td>\n",
       "      <td>2</td>\n",
       "    </tr>\n",
       "    <tr>\n",
       "      <th>1</th>\n",
       "      <td>0.550</td>\n",
       "      <td>0.33</td>\n",
       "      <td>-9</td>\n",
       "      <td>0.01</td>\n",
       "      <td>0.10</td>\n",
       "      <td>0.90</td>\n",
       "      <td>0.9</td>\n",
       "      <td>9</td>\n",
       "      <td>4</td>\n",
       "      <td>0.78</td>\n",
       "      <td>4</td>\n",
       "      <td>2</td>\n",
       "    </tr>\n",
       "  </tbody>\n",
       "</table>\n",
       "</div>"
      ],
      "text/plain": [
       "   danceability  energy  loudness  acousticness  speechiness  valence  tempo  \\\n",
       "0         0.473    0.23        -1          0.33         0.02     0.32    0.1   \n",
       "1         0.550    0.33        -9          0.01         0.10     0.90    0.9   \n",
       "\n",
       "   duration_in_min  time_signature  instrumentalness  key  class  \n",
       "0                7               3              0.23    3      2  \n",
       "1                9               4              0.78    4      2  "
      ]
     },
     "metadata": {},
     "output_type": "display_data"
    }
   ],
   "source": [
    "d = {'danceability': [0.473, 0.55], 'energy': [0.23, 0.33],\"loudness\":[-1,-9],\n",
    "\"acousticness\":[0.33,0.01],\"speechiness\":[0.02,0.1],\"valence\":[0.32,0.90],\"tempo\":[0.10,0.90],\n",
    "\"duration_in_min\":[7,9],\"time_signature\":[3,4],\"instrumentalness\":[0.23,0.78],\"key\":[3,4]}\n",
    "df = pd.DataFrame(data=d)\n",
    "RFC_best.fit(X_train,y_train)\n",
    "df['class']=RFC_best.predict(df)\n",
    "display(df)"
   ]
  },
  {
   "cell_type": "markdown",
   "id": "578b0cbb",
   "metadata": {},
   "source": [
    "<a id='13'><h3 style=\"padding:5px;color:white;background-color:#C4E0E5;text-align: center;margin-left:auto;margin-right:auto;border-radius:10px;\"><font color=\"darkblue\">Model 4: XGBoost Classifier</h3>"
   ]
  },
  {
   "cell_type": "markdown",
   "id": "447a2f1e",
   "metadata": {},
   "source": [
    "## A: Building Model -  XGBoost Classifier"
   ]
  },
  {
   "cell_type": "code",
   "execution_count": 276,
   "id": "1ec4e11a",
   "metadata": {},
   "outputs": [
    {
     "name": "stderr",
     "output_type": "stream",
     "text": [
      "C:\\Users\\JiaYi\\anaconda3\\lib\\site-packages\\xgboost\\sklearn.py:1224: UserWarning: The use of label encoder in XGBClassifier is deprecated and will be removed in a future release. To remove this warning, do the following: 1) Pass option use_label_encoder=False when constructing XGBClassifier object; and 2) Encode your labels (y) as integers starting with 0, i.e. 0, 1, 2, ..., [num_class - 1].\n",
      "  warnings.warn(label_encoder_deprecation_msg, UserWarning)\n",
      "C:\\Users\\JiaYi\\anaconda3\\lib\\site-packages\\sklearn\\utils\\validation.py:63: DataConversionWarning: A column-vector y was passed when a 1d array was expected. Please change the shape of y to (n_samples, ), for example using ravel().\n",
      "  return f(*args, **kwargs)\n"
     ]
    },
    {
     "name": "stdout",
     "output_type": "stream",
     "text": [
      "[10:33:33] WARNING: C:/Users/Administrator/workspace/xgboost-win64_release_1.5.1/src/learner.cc:1115: Starting in XGBoost 1.3.0, the default evaluation metric used with the objective 'multi:softprob' was changed from 'merror' to 'mlogloss'. Explicitly set eval_metric if you'd like to restore the old behavior.\n"
     ]
    },
    {
     "data": {
      "text/plain": [
       "XGBClassifier(base_score=0.5, booster='gbtree', colsample_bylevel=1,\n",
       "              colsample_bynode=1, colsample_bytree=1, enable_categorical=False,\n",
       "              gamma=0, gpu_id=-1, importance_type=None,\n",
       "              interaction_constraints='', learning_rate=0.300000012,\n",
       "              max_delta_step=0, max_depth=6, min_child_weight=1, missing=nan,\n",
       "              monotone_constraints='()', n_estimators=100, n_jobs=16,\n",
       "              num_parallel_tree=1, objective='multi:softprob', predictor='auto',\n",
       "              random_state=0, reg_alpha=0, reg_lambda=1, scale_pos_weight=None,\n",
       "              subsample=1, tree_method='exact', validate_parameters=1,\n",
       "              verbosity=None)"
      ]
     },
     "execution_count": 276,
     "metadata": {},
     "output_type": "execute_result"
    }
   ],
   "source": [
    "from xgboost import XGBClassifier\n",
    "\n",
    "xgb = XGBClassifier()\n",
    "xgb.fit(X_train, y_train)"
   ]
  },
  {
   "cell_type": "markdown",
   "id": "266dbf31",
   "metadata": {},
   "source": [
    "## B: Model Evaluation"
   ]
  },
  {
   "cell_type": "markdown",
   "id": "09ebce88",
   "metadata": {},
   "source": [
    "### Cross Validation"
   ]
  },
  {
   "cell_type": "code",
   "execution_count": 277,
   "id": "07f1b660",
   "metadata": {
    "scrolled": true
   },
   "outputs": [
    {
     "name": "stderr",
     "output_type": "stream",
     "text": [
      "C:\\Users\\JiaYi\\anaconda3\\lib\\site-packages\\xgboost\\sklearn.py:1224: UserWarning: The use of label encoder in XGBClassifier is deprecated and will be removed in a future release. To remove this warning, do the following: 1) Pass option use_label_encoder=False when constructing XGBClassifier object; and 2) Encode your labels (y) as integers starting with 0, i.e. 0, 1, 2, ..., [num_class - 1].\n",
      "  warnings.warn(label_encoder_deprecation_msg, UserWarning)\n"
     ]
    },
    {
     "name": "stdout",
     "output_type": "stream",
     "text": [
      "[10:33:44] WARNING: C:/Users/Administrator/workspace/xgboost-win64_release_1.5.1/src/learner.cc:1115: Starting in XGBoost 1.3.0, the default evaluation metric used with the objective 'multi:softprob' was changed from 'merror' to 'mlogloss'. Explicitly set eval_metric if you'd like to restore the old behavior.\n"
     ]
    },
    {
     "name": "stderr",
     "output_type": "stream",
     "text": [
      "C:\\Users\\JiaYi\\anaconda3\\lib\\site-packages\\xgboost\\sklearn.py:1224: UserWarning: The use of label encoder in XGBClassifier is deprecated and will be removed in a future release. To remove this warning, do the following: 1) Pass option use_label_encoder=False when constructing XGBClassifier object; and 2) Encode your labels (y) as integers starting with 0, i.e. 0, 1, 2, ..., [num_class - 1].\n",
      "  warnings.warn(label_encoder_deprecation_msg, UserWarning)\n"
     ]
    },
    {
     "name": "stdout",
     "output_type": "stream",
     "text": [
      "[10:33:57] WARNING: C:/Users/Administrator/workspace/xgboost-win64_release_1.5.1/src/learner.cc:1115: Starting in XGBoost 1.3.0, the default evaluation metric used with the objective 'multi:softprob' was changed from 'merror' to 'mlogloss'. Explicitly set eval_metric if you'd like to restore the old behavior.\n"
     ]
    },
    {
     "name": "stderr",
     "output_type": "stream",
     "text": [
      "C:\\Users\\JiaYi\\anaconda3\\lib\\site-packages\\xgboost\\sklearn.py:1224: UserWarning: The use of label encoder in XGBClassifier is deprecated and will be removed in a future release. To remove this warning, do the following: 1) Pass option use_label_encoder=False when constructing XGBClassifier object; and 2) Encode your labels (y) as integers starting with 0, i.e. 0, 1, 2, ..., [num_class - 1].\n",
      "  warnings.warn(label_encoder_deprecation_msg, UserWarning)\n"
     ]
    },
    {
     "name": "stdout",
     "output_type": "stream",
     "text": [
      "[10:34:10] WARNING: C:/Users/Administrator/workspace/xgboost-win64_release_1.5.1/src/learner.cc:1115: Starting in XGBoost 1.3.0, the default evaluation metric used with the objective 'multi:softprob' was changed from 'merror' to 'mlogloss'. Explicitly set eval_metric if you'd like to restore the old behavior.\n"
     ]
    },
    {
     "name": "stderr",
     "output_type": "stream",
     "text": [
      "C:\\Users\\JiaYi\\anaconda3\\lib\\site-packages\\xgboost\\sklearn.py:1224: UserWarning: The use of label encoder in XGBClassifier is deprecated and will be removed in a future release. To remove this warning, do the following: 1) Pass option use_label_encoder=False when constructing XGBClassifier object; and 2) Encode your labels (y) as integers starting with 0, i.e. 0, 1, 2, ..., [num_class - 1].\n",
      "  warnings.warn(label_encoder_deprecation_msg, UserWarning)\n"
     ]
    },
    {
     "name": "stdout",
     "output_type": "stream",
     "text": [
      "[10:34:23] WARNING: C:/Users/Administrator/workspace/xgboost-win64_release_1.5.1/src/learner.cc:1115: Starting in XGBoost 1.3.0, the default evaluation metric used with the objective 'multi:softprob' was changed from 'merror' to 'mlogloss'. Explicitly set eval_metric if you'd like to restore the old behavior.\n"
     ]
    },
    {
     "name": "stderr",
     "output_type": "stream",
     "text": [
      "C:\\Users\\JiaYi\\anaconda3\\lib\\site-packages\\xgboost\\sklearn.py:1224: UserWarning: The use of label encoder in XGBClassifier is deprecated and will be removed in a future release. To remove this warning, do the following: 1) Pass option use_label_encoder=False when constructing XGBClassifier object; and 2) Encode your labels (y) as integers starting with 0, i.e. 0, 1, 2, ..., [num_class - 1].\n",
      "  warnings.warn(label_encoder_deprecation_msg, UserWarning)\n"
     ]
    },
    {
     "name": "stdout",
     "output_type": "stream",
     "text": [
      "[10:34:36] WARNING: C:/Users/Administrator/workspace/xgboost-win64_release_1.5.1/src/learner.cc:1115: Starting in XGBoost 1.3.0, the default evaluation metric used with the objective 'multi:softprob' was changed from 'merror' to 'mlogloss'. Explicitly set eval_metric if you'd like to restore the old behavior.\n"
     ]
    },
    {
     "name": "stderr",
     "output_type": "stream",
     "text": [
      "C:\\Users\\JiaYi\\anaconda3\\lib\\site-packages\\xgboost\\sklearn.py:1224: UserWarning: The use of label encoder in XGBClassifier is deprecated and will be removed in a future release. To remove this warning, do the following: 1) Pass option use_label_encoder=False when constructing XGBClassifier object; and 2) Encode your labels (y) as integers starting with 0, i.e. 0, 1, 2, ..., [num_class - 1].\n",
      "  warnings.warn(label_encoder_deprecation_msg, UserWarning)\n"
     ]
    },
    {
     "name": "stdout",
     "output_type": "stream",
     "text": [
      "[10:34:48] WARNING: C:/Users/Administrator/workspace/xgboost-win64_release_1.5.1/src/learner.cc:1115: Starting in XGBoost 1.3.0, the default evaluation metric used with the objective 'multi:softprob' was changed from 'merror' to 'mlogloss'. Explicitly set eval_metric if you'd like to restore the old behavior.\n"
     ]
    },
    {
     "name": "stderr",
     "output_type": "stream",
     "text": [
      "C:\\Users\\JiaYi\\anaconda3\\lib\\site-packages\\xgboost\\sklearn.py:1224: UserWarning: The use of label encoder in XGBClassifier is deprecated and will be removed in a future release. To remove this warning, do the following: 1) Pass option use_label_encoder=False when constructing XGBClassifier object; and 2) Encode your labels (y) as integers starting with 0, i.e. 0, 1, 2, ..., [num_class - 1].\n",
      "  warnings.warn(label_encoder_deprecation_msg, UserWarning)\n"
     ]
    },
    {
     "name": "stdout",
     "output_type": "stream",
     "text": [
      "[10:35:02] WARNING: C:/Users/Administrator/workspace/xgboost-win64_release_1.5.1/src/learner.cc:1115: Starting in XGBoost 1.3.0, the default evaluation metric used with the objective 'multi:softprob' was changed from 'merror' to 'mlogloss'. Explicitly set eval_metric if you'd like to restore the old behavior.\n"
     ]
    },
    {
     "name": "stderr",
     "output_type": "stream",
     "text": [
      "C:\\Users\\JiaYi\\anaconda3\\lib\\site-packages\\xgboost\\sklearn.py:1224: UserWarning: The use of label encoder in XGBClassifier is deprecated and will be removed in a future release. To remove this warning, do the following: 1) Pass option use_label_encoder=False when constructing XGBClassifier object; and 2) Encode your labels (y) as integers starting with 0, i.e. 0, 1, 2, ..., [num_class - 1].\n",
      "  warnings.warn(label_encoder_deprecation_msg, UserWarning)\n"
     ]
    },
    {
     "name": "stdout",
     "output_type": "stream",
     "text": [
      "[10:35:14] WARNING: C:/Users/Administrator/workspace/xgboost-win64_release_1.5.1/src/learner.cc:1115: Starting in XGBoost 1.3.0, the default evaluation metric used with the objective 'multi:softprob' was changed from 'merror' to 'mlogloss'. Explicitly set eval_metric if you'd like to restore the old behavior.\n"
     ]
    },
    {
     "name": "stderr",
     "output_type": "stream",
     "text": [
      "C:\\Users\\JiaYi\\anaconda3\\lib\\site-packages\\xgboost\\sklearn.py:1224: UserWarning: The use of label encoder in XGBClassifier is deprecated and will be removed in a future release. To remove this warning, do the following: 1) Pass option use_label_encoder=False when constructing XGBClassifier object; and 2) Encode your labels (y) as integers starting with 0, i.e. 0, 1, 2, ..., [num_class - 1].\n",
      "  warnings.warn(label_encoder_deprecation_msg, UserWarning)\n"
     ]
    },
    {
     "name": "stdout",
     "output_type": "stream",
     "text": [
      "[10:35:28] WARNING: C:/Users/Administrator/workspace/xgboost-win64_release_1.5.1/src/learner.cc:1115: Starting in XGBoost 1.3.0, the default evaluation metric used with the objective 'multi:softprob' was changed from 'merror' to 'mlogloss'. Explicitly set eval_metric if you'd like to restore the old behavior.\n"
     ]
    },
    {
     "name": "stderr",
     "output_type": "stream",
     "text": [
      "C:\\Users\\JiaYi\\anaconda3\\lib\\site-packages\\xgboost\\sklearn.py:1224: UserWarning: The use of label encoder in XGBClassifier is deprecated and will be removed in a future release. To remove this warning, do the following: 1) Pass option use_label_encoder=False when constructing XGBClassifier object; and 2) Encode your labels (y) as integers starting with 0, i.e. 0, 1, 2, ..., [num_class - 1].\n",
      "  warnings.warn(label_encoder_deprecation_msg, UserWarning)\n"
     ]
    },
    {
     "name": "stdout",
     "output_type": "stream",
     "text": [
      "[10:35:41] WARNING: C:/Users/Administrator/workspace/xgboost-win64_release_1.5.1/src/learner.cc:1115: Starting in XGBoost 1.3.0, the default evaluation metric used with the objective 'multi:softprob' was changed from 'merror' to 'mlogloss'. Explicitly set eval_metric if you'd like to restore the old behavior.\n"
     ]
    },
    {
     "name": "stderr",
     "output_type": "stream",
     "text": [
      "C:\\Users\\JiaYi\\anaconda3\\lib\\site-packages\\xgboost\\sklearn.py:1224: UserWarning: The use of label encoder in XGBClassifier is deprecated and will be removed in a future release. To remove this warning, do the following: 1) Pass option use_label_encoder=False when constructing XGBClassifier object; and 2) Encode your labels (y) as integers starting with 0, i.e. 0, 1, 2, ..., [num_class - 1].\n",
      "  warnings.warn(label_encoder_deprecation_msg, UserWarning)\n"
     ]
    },
    {
     "name": "stdout",
     "output_type": "stream",
     "text": [
      "[10:35:54] WARNING: C:/Users/Administrator/workspace/xgboost-win64_release_1.5.1/src/learner.cc:1115: Starting in XGBoost 1.3.0, the default evaluation metric used with the objective 'multi:softprob' was changed from 'merror' to 'mlogloss'. Explicitly set eval_metric if you'd like to restore the old behavior.\n"
     ]
    },
    {
     "name": "stderr",
     "output_type": "stream",
     "text": [
      "C:\\Users\\JiaYi\\anaconda3\\lib\\site-packages\\xgboost\\sklearn.py:1224: UserWarning: The use of label encoder in XGBClassifier is deprecated and will be removed in a future release. To remove this warning, do the following: 1) Pass option use_label_encoder=False when constructing XGBClassifier object; and 2) Encode your labels (y) as integers starting with 0, i.e. 0, 1, 2, ..., [num_class - 1].\n",
      "  warnings.warn(label_encoder_deprecation_msg, UserWarning)\n"
     ]
    },
    {
     "name": "stdout",
     "output_type": "stream",
     "text": [
      "[10:36:07] WARNING: C:/Users/Administrator/workspace/xgboost-win64_release_1.5.1/src/learner.cc:1115: Starting in XGBoost 1.3.0, the default evaluation metric used with the objective 'multi:softprob' was changed from 'merror' to 'mlogloss'. Explicitly set eval_metric if you'd like to restore the old behavior.\n"
     ]
    },
    {
     "name": "stderr",
     "output_type": "stream",
     "text": [
      "C:\\Users\\JiaYi\\anaconda3\\lib\\site-packages\\xgboost\\sklearn.py:1224: UserWarning: The use of label encoder in XGBClassifier is deprecated and will be removed in a future release. To remove this warning, do the following: 1) Pass option use_label_encoder=False when constructing XGBClassifier object; and 2) Encode your labels (y) as integers starting with 0, i.e. 0, 1, 2, ..., [num_class - 1].\n",
      "  warnings.warn(label_encoder_deprecation_msg, UserWarning)\n"
     ]
    },
    {
     "name": "stdout",
     "output_type": "stream",
     "text": [
      "[10:36:20] WARNING: C:/Users/Administrator/workspace/xgboost-win64_release_1.5.1/src/learner.cc:1115: Starting in XGBoost 1.3.0, the default evaluation metric used with the objective 'multi:softprob' was changed from 'merror' to 'mlogloss'. Explicitly set eval_metric if you'd like to restore the old behavior.\n"
     ]
    },
    {
     "name": "stderr",
     "output_type": "stream",
     "text": [
      "C:\\Users\\JiaYi\\anaconda3\\lib\\site-packages\\xgboost\\sklearn.py:1224: UserWarning: The use of label encoder in XGBClassifier is deprecated and will be removed in a future release. To remove this warning, do the following: 1) Pass option use_label_encoder=False when constructing XGBClassifier object; and 2) Encode your labels (y) as integers starting with 0, i.e. 0, 1, 2, ..., [num_class - 1].\n",
      "  warnings.warn(label_encoder_deprecation_msg, UserWarning)\n"
     ]
    },
    {
     "name": "stdout",
     "output_type": "stream",
     "text": [
      "[10:36:33] WARNING: C:/Users/Administrator/workspace/xgboost-win64_release_1.5.1/src/learner.cc:1115: Starting in XGBoost 1.3.0, the default evaluation metric used with the objective 'multi:softprob' was changed from 'merror' to 'mlogloss'. Explicitly set eval_metric if you'd like to restore the old behavior.\n",
      "Average Accuracy: 0.7339262814887758\n",
      "Average Precision: 0.7332907976461368\n",
      "Average Recall: 0.7339384554559832\n",
      "Average F1: 0.7269116476683986\n"
     ]
    }
   ],
   "source": [
    "#Enter your codes to use cross_validation here\n",
    "from sklearn.model_selection import cross_validate\n",
    "\n",
    "result = cross_validate(xgb, X, np.ravel(y), cv=14, scoring=['accuracy', 'f1_macro', 'precision_macro', 'recall_macro'])\n",
    "print(\"Average Accuracy:\", np.mean(result['test_accuracy']))\n",
    "print(\"Average Precision:\", np.mean(result['test_precision_macro']))\n",
    "print(\"Average Recall:\", np.mean(result['test_recall_macro']))\n",
    "print(\"Average F1:\", np.mean(result['test_f1_macro']))"
   ]
  },
  {
   "cell_type": "markdown",
   "id": "b10e3d33",
   "metadata": {},
   "source": [
    "## C: Tuning Parameters"
   ]
  },
  {
   "cell_type": "code",
   "execution_count": 51,
   "id": "25fd4361",
   "metadata": {},
   "outputs": [],
   "source": [
    "params={\"learning_rate\"    : [0.05, 0.10, 0.15, 0.20, 0.25, 0.30 ] ,\n",
    " \"max_depth\"        : [ 3, 4, 5, 6, 8, 10, 12, 15],\n",
    " \"min_child_weight\" : [ 1, 3, 5, 7 ],\n",
    " \"gamma\"            : [ 0.0, 0.1, 0.2 , 0.3, 0.4 ],\n",
    " \"colsample_bytree\" : [ 0.3, 0.4, 0.5 , 0.7 ] }"
   ]
  },
  {
   "cell_type": "code",
   "execution_count": 54,
   "id": "06378686",
   "metadata": {
    "scrolled": false
   },
   "outputs": [
    {
     "name": "stdout",
     "output_type": "stream",
     "text": [
      "[08:40:27] WARNING: C:/Users/Administrator/workspace/xgboost-win64_release_1.5.1/src/learner.cc:1115: Starting in XGBoost 1.3.0, the default evaluation metric used with the objective 'multi:softprob' was changed from 'merror' to 'mlogloss'. Explicitly set eval_metric if you'd like to restore the old behavior.\n"
     ]
    }
   ],
   "source": [
    "\n",
    "xgb_2 = XGBClassifier()\n",
    "xgb_2.fit(X_train, y_train)\n",
    "grid_search = GridSearchCV(estimator=xgb_2, \n",
    "                           param_grid=params, \n",
    "                           cv=4, n_jobs=-1, verbose=1, scoring = \"precision_macro\")\n"
   ]
  },
  {
   "cell_type": "code",
   "execution_count": null,
   "id": "a5f9375e",
   "metadata": {},
   "outputs": [
    {
     "name": "stdout",
     "output_type": "stream",
     "text": [
      "Fitting 4 folds for each of 3840 candidates, totalling 15360 fits\n"
     ]
    }
   ],
   "source": [
    "%%time\n",
    "with tf.device('/GPU:0'):\n",
    "    grid_search.fit(X_train, y_train)\n",
    "\n",
    "    score_df = pd.DataFrame(grid_search.cv_results_)\n",
    "    score_df.head()\n"
   ]
  },
  {
   "cell_type": "code",
   "execution_count": null,
   "id": "573509b6",
   "metadata": {
    "scrolled": true
   },
   "outputs": [],
   "source": [
    "score_df.nlargest(5,\"mean_test_score\")\n"
   ]
  },
  {
   "cell_type": "code",
   "execution_count": null,
   "id": "d0e1a3e7",
   "metadata": {},
   "outputs": [],
   "source": [
    "xgb_best=grid_search.best_estimator_\n",
    "xgb_best\n"
   ]
  },
  {
   "cell_type": "code",
   "execution_count": 278,
   "id": "c1119571",
   "metadata": {},
   "outputs": [],
   "source": [
    "from xgboost import XGBClassifier\n",
    "xgb_best=XGBClassifier(base_score=0.5, booster='gbtree', colsample_bylevel=1, colsample_bynode=1, colsample_bytree=0.7, enable_categorical=False, gamma=0.0, gpu_id=-1, importance_type=None, interaction_constraints='', learning_rate=0.2, max_delta_step=0, max_depth=15, min_child_weight=1, missing=np.nan, monotone_constraints='()', n_estimators=100, n_jobs=16, num_parallel_tree=1, objective='multi:softprob', predictor='auto', random_state=0, reg_alpha=0, reg_lambda=1, scale_pos_weight=None, subsample=1, tree_method='exact', validate_parameters=1, verbosity=None)"
   ]
  },
  {
   "cell_type": "code",
   "execution_count": 279,
   "id": "8386c5ea",
   "metadata": {
    "scrolled": true
   },
   "outputs": [
    {
     "name": "stderr",
     "output_type": "stream",
     "text": [
      "C:\\Users\\JiaYi\\anaconda3\\lib\\site-packages\\xgboost\\sklearn.py:1224: UserWarning: The use of label encoder in XGBClassifier is deprecated and will be removed in a future release. To remove this warning, do the following: 1) Pass option use_label_encoder=False when constructing XGBClassifier object; and 2) Encode your labels (y) as integers starting with 0, i.e. 0, 1, 2, ..., [num_class - 1].\n",
      "  warnings.warn(label_encoder_deprecation_msg, UserWarning)\n"
     ]
    },
    {
     "name": "stdout",
     "output_type": "stream",
     "text": [
      "[10:36:46] WARNING: C:/Users/Administrator/workspace/xgboost-win64_release_1.5.1/src/learner.cc:1115: Starting in XGBoost 1.3.0, the default evaluation metric used with the objective 'multi:softprob' was changed from 'merror' to 'mlogloss'. Explicitly set eval_metric if you'd like to restore the old behavior.\n"
     ]
    },
    {
     "name": "stderr",
     "output_type": "stream",
     "text": [
      "C:\\Users\\JiaYi\\anaconda3\\lib\\site-packages\\xgboost\\sklearn.py:1224: UserWarning: The use of label encoder in XGBClassifier is deprecated and will be removed in a future release. To remove this warning, do the following: 1) Pass option use_label_encoder=False when constructing XGBClassifier object; and 2) Encode your labels (y) as integers starting with 0, i.e. 0, 1, 2, ..., [num_class - 1].\n",
      "  warnings.warn(label_encoder_deprecation_msg, UserWarning)\n"
     ]
    },
    {
     "name": "stdout",
     "output_type": "stream",
     "text": [
      "[10:37:13] WARNING: C:/Users/Administrator/workspace/xgboost-win64_release_1.5.1/src/learner.cc:1115: Starting in XGBoost 1.3.0, the default evaluation metric used with the objective 'multi:softprob' was changed from 'merror' to 'mlogloss'. Explicitly set eval_metric if you'd like to restore the old behavior.\n"
     ]
    },
    {
     "name": "stderr",
     "output_type": "stream",
     "text": [
      "C:\\Users\\JiaYi\\anaconda3\\lib\\site-packages\\xgboost\\sklearn.py:1224: UserWarning: The use of label encoder in XGBClassifier is deprecated and will be removed in a future release. To remove this warning, do the following: 1) Pass option use_label_encoder=False when constructing XGBClassifier object; and 2) Encode your labels (y) as integers starting with 0, i.e. 0, 1, 2, ..., [num_class - 1].\n",
      "  warnings.warn(label_encoder_deprecation_msg, UserWarning)\n"
     ]
    },
    {
     "name": "stdout",
     "output_type": "stream",
     "text": [
      "[10:37:41] WARNING: C:/Users/Administrator/workspace/xgboost-win64_release_1.5.1/src/learner.cc:1115: Starting in XGBoost 1.3.0, the default evaluation metric used with the objective 'multi:softprob' was changed from 'merror' to 'mlogloss'. Explicitly set eval_metric if you'd like to restore the old behavior.\n"
     ]
    },
    {
     "name": "stderr",
     "output_type": "stream",
     "text": [
      "C:\\Users\\JiaYi\\anaconda3\\lib\\site-packages\\xgboost\\sklearn.py:1224: UserWarning: The use of label encoder in XGBClassifier is deprecated and will be removed in a future release. To remove this warning, do the following: 1) Pass option use_label_encoder=False when constructing XGBClassifier object; and 2) Encode your labels (y) as integers starting with 0, i.e. 0, 1, 2, ..., [num_class - 1].\n",
      "  warnings.warn(label_encoder_deprecation_msg, UserWarning)\n"
     ]
    },
    {
     "name": "stdout",
     "output_type": "stream",
     "text": [
      "[10:38:09] WARNING: C:/Users/Administrator/workspace/xgboost-win64_release_1.5.1/src/learner.cc:1115: Starting in XGBoost 1.3.0, the default evaluation metric used with the objective 'multi:softprob' was changed from 'merror' to 'mlogloss'. Explicitly set eval_metric if you'd like to restore the old behavior.\n"
     ]
    },
    {
     "name": "stderr",
     "output_type": "stream",
     "text": [
      "C:\\Users\\JiaYi\\anaconda3\\lib\\site-packages\\xgboost\\sklearn.py:1224: UserWarning: The use of label encoder in XGBClassifier is deprecated and will be removed in a future release. To remove this warning, do the following: 1) Pass option use_label_encoder=False when constructing XGBClassifier object; and 2) Encode your labels (y) as integers starting with 0, i.e. 0, 1, 2, ..., [num_class - 1].\n",
      "  warnings.warn(label_encoder_deprecation_msg, UserWarning)\n"
     ]
    },
    {
     "name": "stdout",
     "output_type": "stream",
     "text": [
      "[10:38:37] WARNING: C:/Users/Administrator/workspace/xgboost-win64_release_1.5.1/src/learner.cc:1115: Starting in XGBoost 1.3.0, the default evaluation metric used with the objective 'multi:softprob' was changed from 'merror' to 'mlogloss'. Explicitly set eval_metric if you'd like to restore the old behavior.\n"
     ]
    },
    {
     "name": "stderr",
     "output_type": "stream",
     "text": [
      "C:\\Users\\JiaYi\\anaconda3\\lib\\site-packages\\xgboost\\sklearn.py:1224: UserWarning: The use of label encoder in XGBClassifier is deprecated and will be removed in a future release. To remove this warning, do the following: 1) Pass option use_label_encoder=False when constructing XGBClassifier object; and 2) Encode your labels (y) as integers starting with 0, i.e. 0, 1, 2, ..., [num_class - 1].\n",
      "  warnings.warn(label_encoder_deprecation_msg, UserWarning)\n"
     ]
    },
    {
     "name": "stdout",
     "output_type": "stream",
     "text": [
      "[10:39:05] WARNING: C:/Users/Administrator/workspace/xgboost-win64_release_1.5.1/src/learner.cc:1115: Starting in XGBoost 1.3.0, the default evaluation metric used with the objective 'multi:softprob' was changed from 'merror' to 'mlogloss'. Explicitly set eval_metric if you'd like to restore the old behavior.\n"
     ]
    },
    {
     "name": "stderr",
     "output_type": "stream",
     "text": [
      "C:\\Users\\JiaYi\\anaconda3\\lib\\site-packages\\xgboost\\sklearn.py:1224: UserWarning: The use of label encoder in XGBClassifier is deprecated and will be removed in a future release. To remove this warning, do the following: 1) Pass option use_label_encoder=False when constructing XGBClassifier object; and 2) Encode your labels (y) as integers starting with 0, i.e. 0, 1, 2, ..., [num_class - 1].\n",
      "  warnings.warn(label_encoder_deprecation_msg, UserWarning)\n"
     ]
    },
    {
     "name": "stdout",
     "output_type": "stream",
     "text": [
      "[10:39:33] WARNING: C:/Users/Administrator/workspace/xgboost-win64_release_1.5.1/src/learner.cc:1115: Starting in XGBoost 1.3.0, the default evaluation metric used with the objective 'multi:softprob' was changed from 'merror' to 'mlogloss'. Explicitly set eval_metric if you'd like to restore the old behavior.\n"
     ]
    },
    {
     "name": "stderr",
     "output_type": "stream",
     "text": [
      "C:\\Users\\JiaYi\\anaconda3\\lib\\site-packages\\xgboost\\sklearn.py:1224: UserWarning: The use of label encoder in XGBClassifier is deprecated and will be removed in a future release. To remove this warning, do the following: 1) Pass option use_label_encoder=False when constructing XGBClassifier object; and 2) Encode your labels (y) as integers starting with 0, i.e. 0, 1, 2, ..., [num_class - 1].\n",
      "  warnings.warn(label_encoder_deprecation_msg, UserWarning)\n"
     ]
    },
    {
     "name": "stdout",
     "output_type": "stream",
     "text": [
      "[10:40:02] WARNING: C:/Users/Administrator/workspace/xgboost-win64_release_1.5.1/src/learner.cc:1115: Starting in XGBoost 1.3.0, the default evaluation metric used with the objective 'multi:softprob' was changed from 'merror' to 'mlogloss'. Explicitly set eval_metric if you'd like to restore the old behavior.\n"
     ]
    },
    {
     "name": "stderr",
     "output_type": "stream",
     "text": [
      "C:\\Users\\JiaYi\\anaconda3\\lib\\site-packages\\xgboost\\sklearn.py:1224: UserWarning: The use of label encoder in XGBClassifier is deprecated and will be removed in a future release. To remove this warning, do the following: 1) Pass option use_label_encoder=False when constructing XGBClassifier object; and 2) Encode your labels (y) as integers starting with 0, i.e. 0, 1, 2, ..., [num_class - 1].\n",
      "  warnings.warn(label_encoder_deprecation_msg, UserWarning)\n"
     ]
    },
    {
     "name": "stdout",
     "output_type": "stream",
     "text": [
      "[10:40:30] WARNING: C:/Users/Administrator/workspace/xgboost-win64_release_1.5.1/src/learner.cc:1115: Starting in XGBoost 1.3.0, the default evaluation metric used with the objective 'multi:softprob' was changed from 'merror' to 'mlogloss'. Explicitly set eval_metric if you'd like to restore the old behavior.\n"
     ]
    },
    {
     "name": "stderr",
     "output_type": "stream",
     "text": [
      "C:\\Users\\JiaYi\\anaconda3\\lib\\site-packages\\xgboost\\sklearn.py:1224: UserWarning: The use of label encoder in XGBClassifier is deprecated and will be removed in a future release. To remove this warning, do the following: 1) Pass option use_label_encoder=False when constructing XGBClassifier object; and 2) Encode your labels (y) as integers starting with 0, i.e. 0, 1, 2, ..., [num_class - 1].\n",
      "  warnings.warn(label_encoder_deprecation_msg, UserWarning)\n"
     ]
    },
    {
     "name": "stdout",
     "output_type": "stream",
     "text": [
      "[10:40:58] WARNING: C:/Users/Administrator/workspace/xgboost-win64_release_1.5.1/src/learner.cc:1115: Starting in XGBoost 1.3.0, the default evaluation metric used with the objective 'multi:softprob' was changed from 'merror' to 'mlogloss'. Explicitly set eval_metric if you'd like to restore the old behavior.\n"
     ]
    },
    {
     "name": "stderr",
     "output_type": "stream",
     "text": [
      "C:\\Users\\JiaYi\\anaconda3\\lib\\site-packages\\xgboost\\sklearn.py:1224: UserWarning: The use of label encoder in XGBClassifier is deprecated and will be removed in a future release. To remove this warning, do the following: 1) Pass option use_label_encoder=False when constructing XGBClassifier object; and 2) Encode your labels (y) as integers starting with 0, i.e. 0, 1, 2, ..., [num_class - 1].\n",
      "  warnings.warn(label_encoder_deprecation_msg, UserWarning)\n"
     ]
    },
    {
     "name": "stdout",
     "output_type": "stream",
     "text": [
      "[10:41:27] WARNING: C:/Users/Administrator/workspace/xgboost-win64_release_1.5.1/src/learner.cc:1115: Starting in XGBoost 1.3.0, the default evaluation metric used with the objective 'multi:softprob' was changed from 'merror' to 'mlogloss'. Explicitly set eval_metric if you'd like to restore the old behavior.\n"
     ]
    },
    {
     "name": "stderr",
     "output_type": "stream",
     "text": [
      "C:\\Users\\JiaYi\\anaconda3\\lib\\site-packages\\xgboost\\sklearn.py:1224: UserWarning: The use of label encoder in XGBClassifier is deprecated and will be removed in a future release. To remove this warning, do the following: 1) Pass option use_label_encoder=False when constructing XGBClassifier object; and 2) Encode your labels (y) as integers starting with 0, i.e. 0, 1, 2, ..., [num_class - 1].\n",
      "  warnings.warn(label_encoder_deprecation_msg, UserWarning)\n"
     ]
    },
    {
     "name": "stdout",
     "output_type": "stream",
     "text": [
      "[10:41:55] WARNING: C:/Users/Administrator/workspace/xgboost-win64_release_1.5.1/src/learner.cc:1115: Starting in XGBoost 1.3.0, the default evaluation metric used with the objective 'multi:softprob' was changed from 'merror' to 'mlogloss'. Explicitly set eval_metric if you'd like to restore the old behavior.\n"
     ]
    },
    {
     "name": "stderr",
     "output_type": "stream",
     "text": [
      "C:\\Users\\JiaYi\\anaconda3\\lib\\site-packages\\xgboost\\sklearn.py:1224: UserWarning: The use of label encoder in XGBClassifier is deprecated and will be removed in a future release. To remove this warning, do the following: 1) Pass option use_label_encoder=False when constructing XGBClassifier object; and 2) Encode your labels (y) as integers starting with 0, i.e. 0, 1, 2, ..., [num_class - 1].\n",
      "  warnings.warn(label_encoder_deprecation_msg, UserWarning)\n"
     ]
    },
    {
     "name": "stdout",
     "output_type": "stream",
     "text": [
      "[10:42:24] WARNING: C:/Users/Administrator/workspace/xgboost-win64_release_1.5.1/src/learner.cc:1115: Starting in XGBoost 1.3.0, the default evaluation metric used with the objective 'multi:softprob' was changed from 'merror' to 'mlogloss'. Explicitly set eval_metric if you'd like to restore the old behavior.\n"
     ]
    },
    {
     "name": "stderr",
     "output_type": "stream",
     "text": [
      "C:\\Users\\JiaYi\\anaconda3\\lib\\site-packages\\xgboost\\sklearn.py:1224: UserWarning: The use of label encoder in XGBClassifier is deprecated and will be removed in a future release. To remove this warning, do the following: 1) Pass option use_label_encoder=False when constructing XGBClassifier object; and 2) Encode your labels (y) as integers starting with 0, i.e. 0, 1, 2, ..., [num_class - 1].\n",
      "  warnings.warn(label_encoder_deprecation_msg, UserWarning)\n"
     ]
    },
    {
     "name": "stdout",
     "output_type": "stream",
     "text": [
      "[10:42:51] WARNING: C:/Users/Administrator/workspace/xgboost-win64_release_1.5.1/src/learner.cc:1115: Starting in XGBoost 1.3.0, the default evaluation metric used with the objective 'multi:softprob' was changed from 'merror' to 'mlogloss'. Explicitly set eval_metric if you'd like to restore the old behavior.\n",
      "Average Accuracy: 0.8123956063928868\n",
      "Average Precision: 0.8122806728460841\n",
      "Average Recall: 0.8123934075475209\n",
      "Average F1: 0.8075725628072515\n"
     ]
    }
   ],
   "source": [
    "#Enter your codes to use cross_validation here\n",
    "from sklearn.model_selection import cross_validate\n",
    "\n",
    "result = cross_validate(xgb_best, X, np.ravel(y), cv=14, scoring=['accuracy', 'f1_macro', 'precision_macro', 'recall_macro'])\n",
    "print(\"Average Accuracy:\", np.mean(result['test_accuracy']))\n",
    "print(\"Average Precision:\", np.mean(result['test_precision_macro']))\n",
    "print(\"Average Recall:\", np.mean(result['test_recall_macro']))\n",
    "print(\"Average F1:\", np.mean(result['test_f1_macro']))"
   ]
  },
  {
   "cell_type": "markdown",
   "id": "6f813b43",
   "metadata": {},
   "source": [
    "## D: Model Insights"
   ]
  },
  {
   "cell_type": "markdown",
   "id": "c4531100",
   "metadata": {},
   "source": [
    "<b>After much tuning, let's view the summary of model results:</b>\n",
    "\n",
    "<table>\n",
    "    <thead>\n",
    "        <td>Tuning Methods</td>\n",
    "        <td>Model information</td>\n",
    "        <td>Accuracy</td>\n",
    "        <td>Precision</td>\n",
    "        <td>Recall</td>\n",
    "        <td>f1-score</td>\n",
    "    </thead>\n",
    "    <tr>\n",
    "        <td>Original Model (No Parameters)</td>\n",
    "        <td>XGBClassifier(base_score=0.5, booster='gbtree', colsample_bylevel=1,\n",
    "              colsample_bynode=1, colsample_bytree=1, enable_categorical=False,\n",
    "              gamma=0, gpu_id=-1, importance_type=None,\n",
    "              interaction_constraints='', learning_rate=0.300000012,\n",
    "              max_delta_step=0, max_depth=6, min_child_weight=1, missing=nan,\n",
    "              monotone_constraints='()', n_estimators=100, n_jobs=16,\n",
    "              num_parallel_tree=1, objective='multi:softprob', predictor='auto',\n",
    "              random_state=0, reg_alpha=0, reg_lambda=1, scale_pos_weight=None,\n",
    "              subsample=1, tree_method='exact', validate_parameters=1,\n",
    "              verbosity=None)</td>\n",
    "        <td>0.73</td>\n",
    "        <td>0.73</td>\n",
    "        <td>0.73</td>\n",
    "        <td>0.73</td>\n",
    "    </tr>\n",
    "    <tr>\n",
    "        <td>Grid search CV</td>\n",
    "        <td>XGBClassifier(base_score=0.5, booster='gbtree', colsample_bylevel=1,\n",
    "              colsample_bynode=1, colsample_bytree=0.7,\n",
    "              enable_categorical=False, gamma=0.0, gpu_id=-1,\n",
    "              importance_type=None, interaction_constraints='',\n",
    "              learning_rate=0.2, max_delta_step=0, max_depth=15,\n",
    "              min_child_weight=1, missing=nan, monotone_constraints='()',\n",
    "              n_estimators=100, n_jobs=16, num_parallel_tree=1,\n",
    "              objective='multi:softprob', predictor='auto', random_state=0,\n",
    "              reg_alpha=0, reg_lambda=1, scale_pos_weight=None, subsample=1,\n",
    "              tree_method='exact', validate_parameters=1, verbosity=None)</td>\n",
    "        <td>0.81</td>\n",
    "        <td>0.81</td>\n",
    "        <td>0.81</td>\n",
    "        <td>0.81</td>\n",
    "    </tr>\n",
    "</table>"
   ]
  },
  {
   "cell_type": "markdown",
   "id": "b488a8e4",
   "metadata": {},
   "source": [
    "### Conclusion: Highest precision of tuned XGBoost Classifier is 81%."
   ]
  },
  {
   "cell_type": "markdown",
   "id": "582f0ddc",
   "metadata": {},
   "source": [
    "## E: Predictions"
   ]
  },
  {
   "cell_type": "code",
   "execution_count": 295,
   "id": "2c811114",
   "metadata": {
    "scrolled": false
   },
   "outputs": [
    {
     "name": "stderr",
     "output_type": "stream",
     "text": [
      "C:\\Users\\JiaYi\\anaconda3\\lib\\site-packages\\xgboost\\sklearn.py:1224: UserWarning: The use of label encoder in XGBClassifier is deprecated and will be removed in a future release. To remove this warning, do the following: 1) Pass option use_label_encoder=False when constructing XGBClassifier object; and 2) Encode your labels (y) as integers starting with 0, i.e. 0, 1, 2, ..., [num_class - 1].\n",
      "  warnings.warn(label_encoder_deprecation_msg, UserWarning)\n",
      "C:\\Users\\JiaYi\\anaconda3\\lib\\site-packages\\sklearn\\utils\\validation.py:63: DataConversionWarning: A column-vector y was passed when a 1d array was expected. Please change the shape of y to (n_samples, ), for example using ravel().\n",
      "  return f(*args, **kwargs)\n"
     ]
    },
    {
     "name": "stdout",
     "output_type": "stream",
     "text": [
      "[11:24:16] WARNING: C:/Users/Administrator/workspace/xgboost-win64_release_1.5.1/src/learner.cc:1115: Starting in XGBoost 1.3.0, the default evaluation metric used with the objective 'multi:softprob' was changed from 'merror' to 'mlogloss'. Explicitly set eval_metric if you'd like to restore the old behavior.\n"
     ]
    },
    {
     "data": {
      "text/html": [
       "<div>\n",
       "<style scoped>\n",
       "    .dataframe tbody tr th:only-of-type {\n",
       "        vertical-align: middle;\n",
       "    }\n",
       "\n",
       "    .dataframe tbody tr th {\n",
       "        vertical-align: top;\n",
       "    }\n",
       "\n",
       "    .dataframe thead th {\n",
       "        text-align: right;\n",
       "    }\n",
       "</style>\n",
       "<table border=\"1\" class=\"dataframe\">\n",
       "  <thead>\n",
       "    <tr style=\"text-align: right;\">\n",
       "      <th></th>\n",
       "      <th>danceability</th>\n",
       "      <th>energy</th>\n",
       "      <th>loudness</th>\n",
       "      <th>acousticness</th>\n",
       "      <th>speechiness</th>\n",
       "      <th>valence</th>\n",
       "      <th>tempo</th>\n",
       "      <th>duration_in_min</th>\n",
       "      <th>time_signature</th>\n",
       "      <th>instrumentalness</th>\n",
       "      <th>key</th>\n",
       "      <th>class</th>\n",
       "    </tr>\n",
       "  </thead>\n",
       "  <tbody>\n",
       "    <tr>\n",
       "      <th>0</th>\n",
       "      <td>0.473</td>\n",
       "      <td>0.23</td>\n",
       "      <td>-1</td>\n",
       "      <td>0.33</td>\n",
       "      <td>0.02</td>\n",
       "      <td>0.32</td>\n",
       "      <td>0.1</td>\n",
       "      <td>7</td>\n",
       "      <td>3</td>\n",
       "      <td>0.23</td>\n",
       "      <td>3</td>\n",
       "      <td>10</td>\n",
       "    </tr>\n",
       "    <tr>\n",
       "      <th>1</th>\n",
       "      <td>0.550</td>\n",
       "      <td>0.33</td>\n",
       "      <td>-9</td>\n",
       "      <td>0.01</td>\n",
       "      <td>0.10</td>\n",
       "      <td>0.90</td>\n",
       "      <td>0.9</td>\n",
       "      <td>9</td>\n",
       "      <td>4</td>\n",
       "      <td>0.78</td>\n",
       "      <td>4</td>\n",
       "      <td>2</td>\n",
       "    </tr>\n",
       "  </tbody>\n",
       "</table>\n",
       "</div>"
      ],
      "text/plain": [
       "   danceability  energy  loudness  acousticness  speechiness  valence  tempo  \\\n",
       "0         0.473    0.23        -1          0.33         0.02     0.32    0.1   \n",
       "1         0.550    0.33        -9          0.01         0.10     0.90    0.9   \n",
       "\n",
       "   duration_in_min  time_signature  instrumentalness  key  class  \n",
       "0                7               3              0.23    3     10  \n",
       "1                9               4              0.78    4      2  "
      ]
     },
     "metadata": {},
     "output_type": "display_data"
    }
   ],
   "source": [
    "d = {'danceability': [0.473, 0.55], 'energy': [0.23, 0.33],\"loudness\":[-1,-9],\n",
    "\"acousticness\":[0.33,0.01],\"speechiness\":[0.02,0.1],\"valence\":[0.32,0.90],\"tempo\":[0.10,0.90],\n",
    "\"duration_in_min\":[7,9],\"time_signature\":[3,4],\"instrumentalness\":[0.23,0.78],\"key\":[3,4]}\n",
    "df = pd.DataFrame(data=d)\n",
    "xgb_best.fit(X_train,y_train)\n",
    "df['class']=xgb_best.predict(df)\n",
    "display(df)"
   ]
  },
  {
   "cell_type": "markdown",
   "id": "29495627",
   "metadata": {},
   "source": [
    "<a id='14'><h3 style=\"padding:5px;color:white;background-color:#C4E0E5;text-align: center;margin-left:auto;margin-right:auto;border-radius:10px;\"><font color=\"darkblue\">Model 5: Gradient Boosting Classifier</h3>"
   ]
  },
  {
   "cell_type": "markdown",
   "id": "ce5196fe",
   "metadata": {},
   "source": [
    "## A: Building Model -  Gradient Boosting Classifier"
   ]
  },
  {
   "cell_type": "code",
   "execution_count": 280,
   "id": "1f0f4658",
   "metadata": {},
   "outputs": [
    {
     "name": "stderr",
     "output_type": "stream",
     "text": [
      "C:\\Users\\JiaYi\\anaconda3\\lib\\site-packages\\sklearn\\utils\\validation.py:63: DataConversionWarning: A column-vector y was passed when a 1d array was expected. Please change the shape of y to (n_samples, ), for example using ravel().\n",
      "  return f(*args, **kwargs)\n"
     ]
    },
    {
     "data": {
      "text/plain": [
       "GradientBoostingClassifier()"
      ]
     },
     "execution_count": 280,
     "metadata": {},
     "output_type": "execute_result"
    }
   ],
   "source": [
    "from sklearn.ensemble import GradientBoostingClassifier\n",
    "GBC=GradientBoostingClassifier()\n",
    "GBC.fit(X_train, y_train)"
   ]
  },
  {
   "cell_type": "markdown",
   "id": "7b20ff76",
   "metadata": {},
   "source": [
    "## B: Model Evaluation"
   ]
  },
  {
   "cell_type": "markdown",
   "id": "3fd7430f",
   "metadata": {},
   "source": [
    "### Cross Validation"
   ]
  },
  {
   "cell_type": "code",
   "execution_count": 281,
   "id": "1d0cb4ca",
   "metadata": {},
   "outputs": [
    {
     "name": "stdout",
     "output_type": "stream",
     "text": [
      "Average Accuracy: 0.5865564065663692\n",
      "Average Precision: 0.5756074345990829\n",
      "Average Recall: 0.586559766476198\n",
      "Average F1: 0.5743339638877611\n"
     ]
    }
   ],
   "source": [
    "#Enter your codes to use cross_validation here\n",
    "from sklearn.model_selection import cross_validate\n",
    "\n",
    "result = cross_validate(GBC, X, np.ravel(y), cv=14, scoring=['accuracy', 'f1_macro', 'precision_macro', 'recall_macro'])\n",
    "print(\"Average Accuracy:\", np.mean(result['test_accuracy']))\n",
    "print(\"Average Precision:\", np.mean(result['test_precision_macro']))\n",
    "print(\"Average Recall:\", np.mean(result['test_recall_macro']))\n",
    "print(\"Average F1:\", np.mean(result['test_f1_macro']))"
   ]
  },
  {
   "cell_type": "markdown",
   "id": "795fe72e",
   "metadata": {},
   "source": [
    "<h6>Note:</h6>\n",
    "I will not be tuning this classifier as the base model already has a much lower performance than the base model of other algorithms. Hence, even with tuning, it may only increase a little bit but not enough to hit the 70% range of precision/accuracy/recall.\n",
    "\n",
    "Also, since accuracy is low, I will not be using this model to do any predictions."
   ]
  },
  {
   "cell_type": "markdown",
   "id": "25b6a89c",
   "metadata": {},
   "source": [
    "### Conclusion: Highest precision of tuned Gradient Boosting Classifier is 58%."
   ]
  },
  {
   "cell_type": "markdown",
   "id": "e04eb1e8",
   "metadata": {},
   "source": [
    "<a id='15'><h3 style=\"padding:5px;color:white;background-color:#C4E0E5;text-align: center;margin-left:auto;margin-right:auto;border-radius:10px;\"><font color=\"darkblue\">Model 6: MultinomialNB</h3>"
   ]
  },
  {
   "cell_type": "markdown",
   "id": "df19eeee",
   "metadata": {},
   "source": [
    "## A: Building Model -  MultinomialNB"
   ]
  },
  {
   "cell_type": "code",
   "execution_count": 282,
   "id": "de61d7ff",
   "metadata": {},
   "outputs": [
    {
     "name": "stderr",
     "output_type": "stream",
     "text": [
      "C:\\Users\\JiaYi\\anaconda3\\lib\\site-packages\\sklearn\\utils\\validation.py:63: DataConversionWarning: A column-vector y was passed when a 1d array was expected. Please change the shape of y to (n_samples, ), for example using ravel().\n",
      "  return f(*args, **kwargs)\n"
     ]
    },
    {
     "data": {
      "text/plain": [
       "MultinomialNB()"
      ]
     },
     "execution_count": 282,
     "metadata": {},
     "output_type": "execute_result"
    }
   ],
   "source": [
    "from sklearn.naive_bayes import MultinomialNB\n",
    "\n",
    "MNB = MultinomialNB()\n",
    "MNB.fit(X_train, y_train)"
   ]
  },
  {
   "cell_type": "markdown",
   "id": "95262f23",
   "metadata": {},
   "source": [
    "## B: Model Evaluation"
   ]
  },
  {
   "cell_type": "markdown",
   "id": "05f51b1d",
   "metadata": {},
   "source": [
    "### Cross Validation"
   ]
  },
  {
   "cell_type": "code",
   "execution_count": 283,
   "id": "00cfd301",
   "metadata": {},
   "outputs": [
    {
     "name": "stdout",
     "output_type": "stream",
     "text": [
      "Average Accuracy: 0.4122731396913762\n",
      "Average Precision: 0.3756781065570345\n",
      "Average Recall: 0.4122744116096624\n",
      "Average F1: 0.377663304597036\n"
     ]
    }
   ],
   "source": [
    "#Enter your codes to use cross_validation here\n",
    "from sklearn.model_selection import cross_validate\n",
    "\n",
    "result = cross_validate(MNB, X, np.ravel(y), cv=14, scoring=['accuracy', 'f1_macro', 'precision_macro', 'recall_macro'])\n",
    "print(\"Average Accuracy:\", np.mean(result['test_accuracy']))\n",
    "print(\"Average Precision:\", np.mean(result['test_precision_macro']))\n",
    "print(\"Average Recall:\", np.mean(result['test_recall_macro']))\n",
    "print(\"Average F1:\", np.mean(result['test_f1_macro']))"
   ]
  },
  {
   "cell_type": "markdown",
   "id": "e6c2e3ff",
   "metadata": {},
   "source": [
    "<h6>Note:</h6>\n",
    "I will not be tuning this classifier as the base model already has a much lower performance than the base model of other algorithms. Hence, even with tuning, it may only increase a little bit but not enough to hit the 70% range of precision/accuracy/recall.\n",
    "\n",
    "Also, since accuracy is low, I will not be using this model to do any predictions."
   ]
  },
  {
   "cell_type": "markdown",
   "id": "ed1b3892",
   "metadata": {},
   "source": [
    "### Conclusion: Highest precision of tuned Multinomial Naives Bayes Classifier is 38%."
   ]
  },
  {
   "cell_type": "markdown",
   "id": "d452ac95",
   "metadata": {},
   "source": [
    "<a id='16'><h3 style=\"padding:5px;color:white;background-color:#C4E0E5;text-align: center;margin-left:auto;margin-right:auto;border-radius:10px;\"><font color=\"darkblue\">Model 7: SGD Classifier</h3>"
   ]
  },
  {
   "cell_type": "markdown",
   "id": "e712487c",
   "metadata": {},
   "source": [
    "## A: Building Model -  SGD Classifier"
   ]
  },
  {
   "cell_type": "code",
   "execution_count": 284,
   "id": "1b4b8be0",
   "metadata": {},
   "outputs": [
    {
     "name": "stderr",
     "output_type": "stream",
     "text": [
      "C:\\Users\\JiaYi\\anaconda3\\lib\\site-packages\\sklearn\\utils\\validation.py:63: DataConversionWarning: A column-vector y was passed when a 1d array was expected. Please change the shape of y to (n_samples, ), for example using ravel().\n",
      "  return f(*args, **kwargs)\n"
     ]
    },
    {
     "data": {
      "text/plain": [
       "SGDClassifier()"
      ]
     },
     "execution_count": 284,
     "metadata": {},
     "output_type": "execute_result"
    }
   ],
   "source": [
    "from sklearn.linear_model import SGDClassifier\n",
    "SGD = SGDClassifier()\n",
    "SGD.fit(X_train, y_train)"
   ]
  },
  {
   "cell_type": "markdown",
   "id": "87feca5b",
   "metadata": {},
   "source": [
    "## B: Model Evaluation"
   ]
  },
  {
   "cell_type": "markdown",
   "id": "28a4217e",
   "metadata": {},
   "source": [
    "### Cross Validation"
   ]
  },
  {
   "cell_type": "code",
   "execution_count": 285,
   "id": "f9b96401",
   "metadata": {
    "scrolled": true
   },
   "outputs": [
    {
     "name": "stderr",
     "output_type": "stream",
     "text": [
      "C:\\Users\\JiaYi\\anaconda3\\lib\\site-packages\\sklearn\\metrics\\_classification.py:1245: UndefinedMetricWarning: Precision is ill-defined and being set to 0.0 in labels with no predicted samples. Use `zero_division` parameter to control this behavior.\n",
      "  _warn_prf(average, modifier, msg_start, len(result))\n",
      "C:\\Users\\JiaYi\\anaconda3\\lib\\site-packages\\sklearn\\metrics\\_classification.py:1245: UndefinedMetricWarning: Precision is ill-defined and being set to 0.0 in labels with no predicted samples. Use `zero_division` parameter to control this behavior.\n",
      "  _warn_prf(average, modifier, msg_start, len(result))\n",
      "C:\\Users\\JiaYi\\anaconda3\\lib\\site-packages\\sklearn\\metrics\\_classification.py:1245: UndefinedMetricWarning: Precision is ill-defined and being set to 0.0 in labels with no predicted samples. Use `zero_division` parameter to control this behavior.\n",
      "  _warn_prf(average, modifier, msg_start, len(result))\n",
      "C:\\Users\\JiaYi\\anaconda3\\lib\\site-packages\\sklearn\\metrics\\_classification.py:1245: UndefinedMetricWarning: Precision is ill-defined and being set to 0.0 in labels with no predicted samples. Use `zero_division` parameter to control this behavior.\n",
      "  _warn_prf(average, modifier, msg_start, len(result))\n",
      "C:\\Users\\JiaYi\\anaconda3\\lib\\site-packages\\sklearn\\metrics\\_classification.py:1245: UndefinedMetricWarning: Precision is ill-defined and being set to 0.0 in labels with no predicted samples. Use `zero_division` parameter to control this behavior.\n",
      "  _warn_prf(average, modifier, msg_start, len(result))\n"
     ]
    },
    {
     "name": "stdout",
     "output_type": "stream",
     "text": [
      "Average Accuracy: 0.42311169921626757\n",
      "Average Precision: 0.4356611694349228\n",
      "Average Recall: 0.42311530449147117\n",
      "Average F1: 0.36351728042316084\n"
     ]
    }
   ],
   "source": [
    "#Enter your codes to use cross_validation here\n",
    "from sklearn.model_selection import cross_validate\n",
    "\n",
    "result = cross_validate(SGD, X, np.ravel(y), cv=14, scoring=['accuracy', 'f1_macro', 'precision_macro', 'recall_macro'])\n",
    "print(\"Average Accuracy:\", np.mean(result['test_accuracy']))\n",
    "print(\"Average Precision:\", np.mean(result['test_precision_macro']))\n",
    "print(\"Average Recall:\", np.mean(result['test_recall_macro']))\n",
    "print(\"Average F1:\", np.mean(result['test_f1_macro']))"
   ]
  },
  {
   "cell_type": "markdown",
   "id": "fe27027b",
   "metadata": {},
   "source": [
    "<h6>Note:</h6>\n",
    "I will not be tuning this classifier as the base model already has a much lower performance than the base model of other algorithms. Hence, even with tuning, it may only increase a little bit but not enough to hit the 70% range of precision/accuracy/recall.\n",
    "\n",
    "Also, since accuracy is low, I will not be using this model to do any predictions."
   ]
  },
  {
   "cell_type": "markdown",
   "id": "84663314",
   "metadata": {},
   "source": [
    "### Conclusion: Highest precision of tuned SGD Classifier is 44%."
   ]
  },
  {
   "cell_type": "markdown",
   "id": "dd84437f",
   "metadata": {},
   "source": [
    "<a id='17'><h3 style=\"padding:5px;color:white;background-color:#C4E0E5;text-align: center;margin-left:auto;margin-right:auto;border-radius:10px;\"><font color=\"darkblue\">Model 8:OneVsRest Classifier</h3>"
   ]
  },
  {
   "cell_type": "markdown",
   "id": "5cc94a93",
   "metadata": {},
   "source": [
    "## A: Building Model -  OneVsRest Classifier"
   ]
  },
  {
   "cell_type": "code",
   "execution_count": 286,
   "id": "1cb57b41",
   "metadata": {},
   "outputs": [
    {
     "name": "stderr",
     "output_type": "stream",
     "text": [
      "C:\\Users\\JiaYi\\anaconda3\\lib\\site-packages\\sklearn\\svm\\_base.py:985: ConvergenceWarning: Liblinear failed to converge, increase the number of iterations.\n",
      "  warnings.warn(\"Liblinear failed to converge, increase \"\n",
      "C:\\Users\\JiaYi\\anaconda3\\lib\\site-packages\\sklearn\\svm\\_base.py:985: ConvergenceWarning: Liblinear failed to converge, increase the number of iterations.\n",
      "  warnings.warn(\"Liblinear failed to converge, increase \"\n",
      "C:\\Users\\JiaYi\\anaconda3\\lib\\site-packages\\sklearn\\svm\\_base.py:985: ConvergenceWarning: Liblinear failed to converge, increase the number of iterations.\n",
      "  warnings.warn(\"Liblinear failed to converge, increase \"\n",
      "C:\\Users\\JiaYi\\anaconda3\\lib\\site-packages\\sklearn\\svm\\_base.py:985: ConvergenceWarning: Liblinear failed to converge, increase the number of iterations.\n",
      "  warnings.warn(\"Liblinear failed to converge, increase \"\n",
      "C:\\Users\\JiaYi\\anaconda3\\lib\\site-packages\\sklearn\\svm\\_base.py:985: ConvergenceWarning: Liblinear failed to converge, increase the number of iterations.\n",
      "  warnings.warn(\"Liblinear failed to converge, increase \"\n",
      "C:\\Users\\JiaYi\\anaconda3\\lib\\site-packages\\sklearn\\svm\\_base.py:985: ConvergenceWarning: Liblinear failed to converge, increase the number of iterations.\n",
      "  warnings.warn(\"Liblinear failed to converge, increase \"\n",
      "C:\\Users\\JiaYi\\anaconda3\\lib\\site-packages\\sklearn\\svm\\_base.py:985: ConvergenceWarning: Liblinear failed to converge, increase the number of iterations.\n",
      "  warnings.warn(\"Liblinear failed to converge, increase \"\n",
      "C:\\Users\\JiaYi\\anaconda3\\lib\\site-packages\\sklearn\\svm\\_base.py:985: ConvergenceWarning: Liblinear failed to converge, increase the number of iterations.\n",
      "  warnings.warn(\"Liblinear failed to converge, increase \"\n",
      "C:\\Users\\JiaYi\\anaconda3\\lib\\site-packages\\sklearn\\svm\\_base.py:985: ConvergenceWarning: Liblinear failed to converge, increase the number of iterations.\n",
      "  warnings.warn(\"Liblinear failed to converge, increase \"\n",
      "C:\\Users\\JiaYi\\anaconda3\\lib\\site-packages\\sklearn\\svm\\_base.py:985: ConvergenceWarning: Liblinear failed to converge, increase the number of iterations.\n",
      "  warnings.warn(\"Liblinear failed to converge, increase \"\n",
      "C:\\Users\\JiaYi\\anaconda3\\lib\\site-packages\\sklearn\\svm\\_base.py:985: ConvergenceWarning: Liblinear failed to converge, increase the number of iterations.\n",
      "  warnings.warn(\"Liblinear failed to converge, increase \"\n"
     ]
    },
    {
     "data": {
      "text/plain": [
       "OneVsRestClassifier(estimator=LinearSVC(random_state=0))"
      ]
     },
     "execution_count": 286,
     "metadata": {},
     "output_type": "execute_result"
    }
   ],
   "source": [
    "from sklearn.multiclass import OneVsRestClassifier\n",
    "from sklearn.svm import LinearSVC\n",
    "\n",
    "ORC=OneVsRestClassifier(LinearSVC(random_state=0))\n",
    "ORC.fit(X_train, y_train)"
   ]
  },
  {
   "cell_type": "markdown",
   "id": "cb474fa7",
   "metadata": {},
   "source": [
    "## B: Model Evaluation"
   ]
  },
  {
   "cell_type": "markdown",
   "id": "e33c3fc4",
   "metadata": {},
   "source": [
    "### Cross Validation"
   ]
  },
  {
   "cell_type": "code",
   "execution_count": 287,
   "id": "048e765d",
   "metadata": {
    "scrolled": true
   },
   "outputs": [
    {
     "name": "stderr",
     "output_type": "stream",
     "text": [
      "C:\\Users\\JiaYi\\anaconda3\\lib\\site-packages\\sklearn\\svm\\_base.py:985: ConvergenceWarning: Liblinear failed to converge, increase the number of iterations.\n",
      "  warnings.warn(\"Liblinear failed to converge, increase \"\n",
      "C:\\Users\\JiaYi\\anaconda3\\lib\\site-packages\\sklearn\\svm\\_base.py:985: ConvergenceWarning: Liblinear failed to converge, increase the number of iterations.\n",
      "  warnings.warn(\"Liblinear failed to converge, increase \"\n",
      "C:\\Users\\JiaYi\\anaconda3\\lib\\site-packages\\sklearn\\svm\\_base.py:985: ConvergenceWarning: Liblinear failed to converge, increase the number of iterations.\n",
      "  warnings.warn(\"Liblinear failed to converge, increase \"\n",
      "C:\\Users\\JiaYi\\anaconda3\\lib\\site-packages\\sklearn\\svm\\_base.py:985: ConvergenceWarning: Liblinear failed to converge, increase the number of iterations.\n",
      "  warnings.warn(\"Liblinear failed to converge, increase \"\n",
      "C:\\Users\\JiaYi\\anaconda3\\lib\\site-packages\\sklearn\\svm\\_base.py:985: ConvergenceWarning: Liblinear failed to converge, increase the number of iterations.\n",
      "  warnings.warn(\"Liblinear failed to converge, increase \"\n",
      "C:\\Users\\JiaYi\\anaconda3\\lib\\site-packages\\sklearn\\svm\\_base.py:985: ConvergenceWarning: Liblinear failed to converge, increase the number of iterations.\n",
      "  warnings.warn(\"Liblinear failed to converge, increase \"\n",
      "C:\\Users\\JiaYi\\anaconda3\\lib\\site-packages\\sklearn\\svm\\_base.py:985: ConvergenceWarning: Liblinear failed to converge, increase the number of iterations.\n",
      "  warnings.warn(\"Liblinear failed to converge, increase \"\n",
      "C:\\Users\\JiaYi\\anaconda3\\lib\\site-packages\\sklearn\\svm\\_base.py:985: ConvergenceWarning: Liblinear failed to converge, increase the number of iterations.\n",
      "  warnings.warn(\"Liblinear failed to converge, increase \"\n",
      "C:\\Users\\JiaYi\\anaconda3\\lib\\site-packages\\sklearn\\svm\\_base.py:985: ConvergenceWarning: Liblinear failed to converge, increase the number of iterations.\n",
      "  warnings.warn(\"Liblinear failed to converge, increase \"\n",
      "C:\\Users\\JiaYi\\anaconda3\\lib\\site-packages\\sklearn\\svm\\_base.py:985: ConvergenceWarning: Liblinear failed to converge, increase the number of iterations.\n",
      "  warnings.warn(\"Liblinear failed to converge, increase \"\n",
      "C:\\Users\\JiaYi\\anaconda3\\lib\\site-packages\\sklearn\\svm\\_base.py:985: ConvergenceWarning: Liblinear failed to converge, increase the number of iterations.\n",
      "  warnings.warn(\"Liblinear failed to converge, increase \"\n",
      "C:\\Users\\JiaYi\\anaconda3\\lib\\site-packages\\sklearn\\svm\\_base.py:985: ConvergenceWarning: Liblinear failed to converge, increase the number of iterations.\n",
      "  warnings.warn(\"Liblinear failed to converge, increase \"\n",
      "C:\\Users\\JiaYi\\anaconda3\\lib\\site-packages\\sklearn\\svm\\_base.py:985: ConvergenceWarning: Liblinear failed to converge, increase the number of iterations.\n",
      "  warnings.warn(\"Liblinear failed to converge, increase \"\n",
      "C:\\Users\\JiaYi\\anaconda3\\lib\\site-packages\\sklearn\\svm\\_base.py:985: ConvergenceWarning: Liblinear failed to converge, increase the number of iterations.\n",
      "  warnings.warn(\"Liblinear failed to converge, increase \"\n",
      "C:\\Users\\JiaYi\\anaconda3\\lib\\site-packages\\sklearn\\svm\\_base.py:985: ConvergenceWarning: Liblinear failed to converge, increase the number of iterations.\n",
      "  warnings.warn(\"Liblinear failed to converge, increase \"\n",
      "C:\\Users\\JiaYi\\anaconda3\\lib\\site-packages\\sklearn\\svm\\_base.py:985: ConvergenceWarning: Liblinear failed to converge, increase the number of iterations.\n",
      "  warnings.warn(\"Liblinear failed to converge, increase \"\n",
      "C:\\Users\\JiaYi\\anaconda3\\lib\\site-packages\\sklearn\\svm\\_base.py:985: ConvergenceWarning: Liblinear failed to converge, increase the number of iterations.\n",
      "  warnings.warn(\"Liblinear failed to converge, increase \"\n",
      "C:\\Users\\JiaYi\\anaconda3\\lib\\site-packages\\sklearn\\svm\\_base.py:985: ConvergenceWarning: Liblinear failed to converge, increase the number of iterations.\n",
      "  warnings.warn(\"Liblinear failed to converge, increase \"\n",
      "C:\\Users\\JiaYi\\anaconda3\\lib\\site-packages\\sklearn\\svm\\_base.py:985: ConvergenceWarning: Liblinear failed to converge, increase the number of iterations.\n",
      "  warnings.warn(\"Liblinear failed to converge, increase \"\n",
      "C:\\Users\\JiaYi\\anaconda3\\lib\\site-packages\\sklearn\\svm\\_base.py:985: ConvergenceWarning: Liblinear failed to converge, increase the number of iterations.\n",
      "  warnings.warn(\"Liblinear failed to converge, increase \"\n",
      "C:\\Users\\JiaYi\\anaconda3\\lib\\site-packages\\sklearn\\svm\\_base.py:985: ConvergenceWarning: Liblinear failed to converge, increase the number of iterations.\n",
      "  warnings.warn(\"Liblinear failed to converge, increase \"\n",
      "C:\\Users\\JiaYi\\anaconda3\\lib\\site-packages\\sklearn\\svm\\_base.py:985: ConvergenceWarning: Liblinear failed to converge, increase the number of iterations.\n",
      "  warnings.warn(\"Liblinear failed to converge, increase \"\n",
      "C:\\Users\\JiaYi\\anaconda3\\lib\\site-packages\\sklearn\\svm\\_base.py:985: ConvergenceWarning: Liblinear failed to converge, increase the number of iterations.\n",
      "  warnings.warn(\"Liblinear failed to converge, increase \"\n",
      "C:\\Users\\JiaYi\\anaconda3\\lib\\site-packages\\sklearn\\svm\\_base.py:985: ConvergenceWarning: Liblinear failed to converge, increase the number of iterations.\n",
      "  warnings.warn(\"Liblinear failed to converge, increase \"\n",
      "C:\\Users\\JiaYi\\anaconda3\\lib\\site-packages\\sklearn\\svm\\_base.py:985: ConvergenceWarning: Liblinear failed to converge, increase the number of iterations.\n",
      "  warnings.warn(\"Liblinear failed to converge, increase \"\n",
      "C:\\Users\\JiaYi\\anaconda3\\lib\\site-packages\\sklearn\\svm\\_base.py:985: ConvergenceWarning: Liblinear failed to converge, increase the number of iterations.\n",
      "  warnings.warn(\"Liblinear failed to converge, increase \"\n",
      "C:\\Users\\JiaYi\\anaconda3\\lib\\site-packages\\sklearn\\svm\\_base.py:985: ConvergenceWarning: Liblinear failed to converge, increase the number of iterations.\n",
      "  warnings.warn(\"Liblinear failed to converge, increase \"\n",
      "C:\\Users\\JiaYi\\anaconda3\\lib\\site-packages\\sklearn\\svm\\_base.py:985: ConvergenceWarning: Liblinear failed to converge, increase the number of iterations.\n",
      "  warnings.warn(\"Liblinear failed to converge, increase \"\n",
      "C:\\Users\\JiaYi\\anaconda3\\lib\\site-packages\\sklearn\\svm\\_base.py:985: ConvergenceWarning: Liblinear failed to converge, increase the number of iterations.\n",
      "  warnings.warn(\"Liblinear failed to converge, increase \"\n",
      "C:\\Users\\JiaYi\\anaconda3\\lib\\site-packages\\sklearn\\svm\\_base.py:985: ConvergenceWarning: Liblinear failed to converge, increase the number of iterations.\n",
      "  warnings.warn(\"Liblinear failed to converge, increase \"\n",
      "C:\\Users\\JiaYi\\anaconda3\\lib\\site-packages\\sklearn\\svm\\_base.py:985: ConvergenceWarning: Liblinear failed to converge, increase the number of iterations.\n",
      "  warnings.warn(\"Liblinear failed to converge, increase \"\n",
      "C:\\Users\\JiaYi\\anaconda3\\lib\\site-packages\\sklearn\\svm\\_base.py:985: ConvergenceWarning: Liblinear failed to converge, increase the number of iterations.\n",
      "  warnings.warn(\"Liblinear failed to converge, increase \"\n",
      "C:\\Users\\JiaYi\\anaconda3\\lib\\site-packages\\sklearn\\svm\\_base.py:985: ConvergenceWarning: Liblinear failed to converge, increase the number of iterations.\n",
      "  warnings.warn(\"Liblinear failed to converge, increase \"\n",
      "C:\\Users\\JiaYi\\anaconda3\\lib\\site-packages\\sklearn\\svm\\_base.py:985: ConvergenceWarning: Liblinear failed to converge, increase the number of iterations.\n",
      "  warnings.warn(\"Liblinear failed to converge, increase \"\n",
      "C:\\Users\\JiaYi\\anaconda3\\lib\\site-packages\\sklearn\\svm\\_base.py:985: ConvergenceWarning: Liblinear failed to converge, increase the number of iterations.\n",
      "  warnings.warn(\"Liblinear failed to converge, increase \"\n",
      "C:\\Users\\JiaYi\\anaconda3\\lib\\site-packages\\sklearn\\svm\\_base.py:985: ConvergenceWarning: Liblinear failed to converge, increase the number of iterations.\n",
      "  warnings.warn(\"Liblinear failed to converge, increase \"\n",
      "C:\\Users\\JiaYi\\anaconda3\\lib\\site-packages\\sklearn\\svm\\_base.py:985: ConvergenceWarning: Liblinear failed to converge, increase the number of iterations.\n",
      "  warnings.warn(\"Liblinear failed to converge, increase \"\n",
      "C:\\Users\\JiaYi\\anaconda3\\lib\\site-packages\\sklearn\\svm\\_base.py:985: ConvergenceWarning: Liblinear failed to converge, increase the number of iterations.\n",
      "  warnings.warn(\"Liblinear failed to converge, increase \"\n",
      "C:\\Users\\JiaYi\\anaconda3\\lib\\site-packages\\sklearn\\svm\\_base.py:985: ConvergenceWarning: Liblinear failed to converge, increase the number of iterations.\n",
      "  warnings.warn(\"Liblinear failed to converge, increase \"\n"
     ]
    },
    {
     "name": "stderr",
     "output_type": "stream",
     "text": [
      "C:\\Users\\JiaYi\\anaconda3\\lib\\site-packages\\sklearn\\svm\\_base.py:985: ConvergenceWarning: Liblinear failed to converge, increase the number of iterations.\n",
      "  warnings.warn(\"Liblinear failed to converge, increase \"\n",
      "C:\\Users\\JiaYi\\anaconda3\\lib\\site-packages\\sklearn\\svm\\_base.py:985: ConvergenceWarning: Liblinear failed to converge, increase the number of iterations.\n",
      "  warnings.warn(\"Liblinear failed to converge, increase \"\n",
      "C:\\Users\\JiaYi\\anaconda3\\lib\\site-packages\\sklearn\\svm\\_base.py:985: ConvergenceWarning: Liblinear failed to converge, increase the number of iterations.\n",
      "  warnings.warn(\"Liblinear failed to converge, increase \"\n",
      "C:\\Users\\JiaYi\\anaconda3\\lib\\site-packages\\sklearn\\svm\\_base.py:985: ConvergenceWarning: Liblinear failed to converge, increase the number of iterations.\n",
      "  warnings.warn(\"Liblinear failed to converge, increase \"\n",
      "C:\\Users\\JiaYi\\anaconda3\\lib\\site-packages\\sklearn\\svm\\_base.py:985: ConvergenceWarning: Liblinear failed to converge, increase the number of iterations.\n",
      "  warnings.warn(\"Liblinear failed to converge, increase \"\n",
      "C:\\Users\\JiaYi\\anaconda3\\lib\\site-packages\\sklearn\\svm\\_base.py:985: ConvergenceWarning: Liblinear failed to converge, increase the number of iterations.\n",
      "  warnings.warn(\"Liblinear failed to converge, increase \"\n",
      "C:\\Users\\JiaYi\\anaconda3\\lib\\site-packages\\sklearn\\svm\\_base.py:985: ConvergenceWarning: Liblinear failed to converge, increase the number of iterations.\n",
      "  warnings.warn(\"Liblinear failed to converge, increase \"\n",
      "C:\\Users\\JiaYi\\anaconda3\\lib\\site-packages\\sklearn\\svm\\_base.py:985: ConvergenceWarning: Liblinear failed to converge, increase the number of iterations.\n",
      "  warnings.warn(\"Liblinear failed to converge, increase \"\n",
      "C:\\Users\\JiaYi\\anaconda3\\lib\\site-packages\\sklearn\\svm\\_base.py:985: ConvergenceWarning: Liblinear failed to converge, increase the number of iterations.\n",
      "  warnings.warn(\"Liblinear failed to converge, increase \"\n",
      "C:\\Users\\JiaYi\\anaconda3\\lib\\site-packages\\sklearn\\svm\\_base.py:985: ConvergenceWarning: Liblinear failed to converge, increase the number of iterations.\n",
      "  warnings.warn(\"Liblinear failed to converge, increase \"\n",
      "C:\\Users\\JiaYi\\anaconda3\\lib\\site-packages\\sklearn\\svm\\_base.py:985: ConvergenceWarning: Liblinear failed to converge, increase the number of iterations.\n",
      "  warnings.warn(\"Liblinear failed to converge, increase \"\n",
      "C:\\Users\\JiaYi\\anaconda3\\lib\\site-packages\\sklearn\\svm\\_base.py:985: ConvergenceWarning: Liblinear failed to converge, increase the number of iterations.\n",
      "  warnings.warn(\"Liblinear failed to converge, increase \"\n",
      "C:\\Users\\JiaYi\\anaconda3\\lib\\site-packages\\sklearn\\svm\\_base.py:985: ConvergenceWarning: Liblinear failed to converge, increase the number of iterations.\n",
      "  warnings.warn(\"Liblinear failed to converge, increase \"\n",
      "C:\\Users\\JiaYi\\anaconda3\\lib\\site-packages\\sklearn\\svm\\_base.py:985: ConvergenceWarning: Liblinear failed to converge, increase the number of iterations.\n",
      "  warnings.warn(\"Liblinear failed to converge, increase \"\n",
      "C:\\Users\\JiaYi\\anaconda3\\lib\\site-packages\\sklearn\\svm\\_base.py:985: ConvergenceWarning: Liblinear failed to converge, increase the number of iterations.\n",
      "  warnings.warn(\"Liblinear failed to converge, increase \"\n",
      "C:\\Users\\JiaYi\\anaconda3\\lib\\site-packages\\sklearn\\svm\\_base.py:985: ConvergenceWarning: Liblinear failed to converge, increase the number of iterations.\n",
      "  warnings.warn(\"Liblinear failed to converge, increase \"\n",
      "C:\\Users\\JiaYi\\anaconda3\\lib\\site-packages\\sklearn\\svm\\_base.py:985: ConvergenceWarning: Liblinear failed to converge, increase the number of iterations.\n",
      "  warnings.warn(\"Liblinear failed to converge, increase \"\n",
      "C:\\Users\\JiaYi\\anaconda3\\lib\\site-packages\\sklearn\\svm\\_base.py:985: ConvergenceWarning: Liblinear failed to converge, increase the number of iterations.\n",
      "  warnings.warn(\"Liblinear failed to converge, increase \"\n",
      "C:\\Users\\JiaYi\\anaconda3\\lib\\site-packages\\sklearn\\svm\\_base.py:985: ConvergenceWarning: Liblinear failed to converge, increase the number of iterations.\n",
      "  warnings.warn(\"Liblinear failed to converge, increase \"\n",
      "C:\\Users\\JiaYi\\anaconda3\\lib\\site-packages\\sklearn\\svm\\_base.py:985: ConvergenceWarning: Liblinear failed to converge, increase the number of iterations.\n",
      "  warnings.warn(\"Liblinear failed to converge, increase \"\n",
      "C:\\Users\\JiaYi\\anaconda3\\lib\\site-packages\\sklearn\\svm\\_base.py:985: ConvergenceWarning: Liblinear failed to converge, increase the number of iterations.\n",
      "  warnings.warn(\"Liblinear failed to converge, increase \"\n",
      "C:\\Users\\JiaYi\\anaconda3\\lib\\site-packages\\sklearn\\svm\\_base.py:985: ConvergenceWarning: Liblinear failed to converge, increase the number of iterations.\n",
      "  warnings.warn(\"Liblinear failed to converge, increase \"\n",
      "C:\\Users\\JiaYi\\anaconda3\\lib\\site-packages\\sklearn\\svm\\_base.py:985: ConvergenceWarning: Liblinear failed to converge, increase the number of iterations.\n",
      "  warnings.warn(\"Liblinear failed to converge, increase \"\n",
      "C:\\Users\\JiaYi\\anaconda3\\lib\\site-packages\\sklearn\\svm\\_base.py:985: ConvergenceWarning: Liblinear failed to converge, increase the number of iterations.\n",
      "  warnings.warn(\"Liblinear failed to converge, increase \"\n",
      "C:\\Users\\JiaYi\\anaconda3\\lib\\site-packages\\sklearn\\svm\\_base.py:985: ConvergenceWarning: Liblinear failed to converge, increase the number of iterations.\n",
      "  warnings.warn(\"Liblinear failed to converge, increase \"\n",
      "C:\\Users\\JiaYi\\anaconda3\\lib\\site-packages\\sklearn\\svm\\_base.py:985: ConvergenceWarning: Liblinear failed to converge, increase the number of iterations.\n",
      "  warnings.warn(\"Liblinear failed to converge, increase \"\n",
      "C:\\Users\\JiaYi\\anaconda3\\lib\\site-packages\\sklearn\\svm\\_base.py:985: ConvergenceWarning: Liblinear failed to converge, increase the number of iterations.\n",
      "  warnings.warn(\"Liblinear failed to converge, increase \"\n",
      "C:\\Users\\JiaYi\\anaconda3\\lib\\site-packages\\sklearn\\metrics\\_classification.py:1245: UndefinedMetricWarning: Precision is ill-defined and being set to 0.0 in labels with no predicted samples. Use `zero_division` parameter to control this behavior.\n",
      "  _warn_prf(average, modifier, msg_start, len(result))\n",
      "C:\\Users\\JiaYi\\anaconda3\\lib\\site-packages\\sklearn\\svm\\_base.py:985: ConvergenceWarning: Liblinear failed to converge, increase the number of iterations.\n",
      "  warnings.warn(\"Liblinear failed to converge, increase \"\n",
      "C:\\Users\\JiaYi\\anaconda3\\lib\\site-packages\\sklearn\\svm\\_base.py:985: ConvergenceWarning: Liblinear failed to converge, increase the number of iterations.\n",
      "  warnings.warn(\"Liblinear failed to converge, increase \"\n",
      "C:\\Users\\JiaYi\\anaconda3\\lib\\site-packages\\sklearn\\svm\\_base.py:985: ConvergenceWarning: Liblinear failed to converge, increase the number of iterations.\n",
      "  warnings.warn(\"Liblinear failed to converge, increase \"\n",
      "C:\\Users\\JiaYi\\anaconda3\\lib\\site-packages\\sklearn\\svm\\_base.py:985: ConvergenceWarning: Liblinear failed to converge, increase the number of iterations.\n",
      "  warnings.warn(\"Liblinear failed to converge, increase \"\n",
      "C:\\Users\\JiaYi\\anaconda3\\lib\\site-packages\\sklearn\\svm\\_base.py:985: ConvergenceWarning: Liblinear failed to converge, increase the number of iterations.\n",
      "  warnings.warn(\"Liblinear failed to converge, increase \"\n",
      "C:\\Users\\JiaYi\\anaconda3\\lib\\site-packages\\sklearn\\svm\\_base.py:985: ConvergenceWarning: Liblinear failed to converge, increase the number of iterations.\n",
      "  warnings.warn(\"Liblinear failed to converge, increase \"\n",
      "C:\\Users\\JiaYi\\anaconda3\\lib\\site-packages\\sklearn\\svm\\_base.py:985: ConvergenceWarning: Liblinear failed to converge, increase the number of iterations.\n",
      "  warnings.warn(\"Liblinear failed to converge, increase \"\n",
      "C:\\Users\\JiaYi\\anaconda3\\lib\\site-packages\\sklearn\\svm\\_base.py:985: ConvergenceWarning: Liblinear failed to converge, increase the number of iterations.\n",
      "  warnings.warn(\"Liblinear failed to converge, increase \"\n",
      "C:\\Users\\JiaYi\\anaconda3\\lib\\site-packages\\sklearn\\svm\\_base.py:985: ConvergenceWarning: Liblinear failed to converge, increase the number of iterations.\n",
      "  warnings.warn(\"Liblinear failed to converge, increase \"\n",
      "C:\\Users\\JiaYi\\anaconda3\\lib\\site-packages\\sklearn\\svm\\_base.py:985: ConvergenceWarning: Liblinear failed to converge, increase the number of iterations.\n",
      "  warnings.warn(\"Liblinear failed to converge, increase \"\n",
      "C:\\Users\\JiaYi\\anaconda3\\lib\\site-packages\\sklearn\\svm\\_base.py:985: ConvergenceWarning: Liblinear failed to converge, increase the number of iterations.\n",
      "  warnings.warn(\"Liblinear failed to converge, increase \"\n"
     ]
    },
    {
     "name": "stderr",
     "output_type": "stream",
     "text": [
      "C:\\Users\\JiaYi\\anaconda3\\lib\\site-packages\\sklearn\\svm\\_base.py:985: ConvergenceWarning: Liblinear failed to converge, increase the number of iterations.\n",
      "  warnings.warn(\"Liblinear failed to converge, increase \"\n",
      "C:\\Users\\JiaYi\\anaconda3\\lib\\site-packages\\sklearn\\svm\\_base.py:985: ConvergenceWarning: Liblinear failed to converge, increase the number of iterations.\n",
      "  warnings.warn(\"Liblinear failed to converge, increase \"\n",
      "C:\\Users\\JiaYi\\anaconda3\\lib\\site-packages\\sklearn\\svm\\_base.py:985: ConvergenceWarning: Liblinear failed to converge, increase the number of iterations.\n",
      "  warnings.warn(\"Liblinear failed to converge, increase \"\n",
      "C:\\Users\\JiaYi\\anaconda3\\lib\\site-packages\\sklearn\\svm\\_base.py:985: ConvergenceWarning: Liblinear failed to converge, increase the number of iterations.\n",
      "  warnings.warn(\"Liblinear failed to converge, increase \"\n",
      "C:\\Users\\JiaYi\\anaconda3\\lib\\site-packages\\sklearn\\svm\\_base.py:985: ConvergenceWarning: Liblinear failed to converge, increase the number of iterations.\n",
      "  warnings.warn(\"Liblinear failed to converge, increase \"\n",
      "C:\\Users\\JiaYi\\anaconda3\\lib\\site-packages\\sklearn\\svm\\_base.py:985: ConvergenceWarning: Liblinear failed to converge, increase the number of iterations.\n",
      "  warnings.warn(\"Liblinear failed to converge, increase \"\n",
      "C:\\Users\\JiaYi\\anaconda3\\lib\\site-packages\\sklearn\\svm\\_base.py:985: ConvergenceWarning: Liblinear failed to converge, increase the number of iterations.\n",
      "  warnings.warn(\"Liblinear failed to converge, increase \"\n",
      "C:\\Users\\JiaYi\\anaconda3\\lib\\site-packages\\sklearn\\svm\\_base.py:985: ConvergenceWarning: Liblinear failed to converge, increase the number of iterations.\n",
      "  warnings.warn(\"Liblinear failed to converge, increase \"\n",
      "C:\\Users\\JiaYi\\anaconda3\\lib\\site-packages\\sklearn\\svm\\_base.py:985: ConvergenceWarning: Liblinear failed to converge, increase the number of iterations.\n",
      "  warnings.warn(\"Liblinear failed to converge, increase \"\n",
      "C:\\Users\\JiaYi\\anaconda3\\lib\\site-packages\\sklearn\\svm\\_base.py:985: ConvergenceWarning: Liblinear failed to converge, increase the number of iterations.\n",
      "  warnings.warn(\"Liblinear failed to converge, increase \"\n",
      "C:\\Users\\JiaYi\\anaconda3\\lib\\site-packages\\sklearn\\svm\\_base.py:985: ConvergenceWarning: Liblinear failed to converge, increase the number of iterations.\n",
      "  warnings.warn(\"Liblinear failed to converge, increase \"\n",
      "C:\\Users\\JiaYi\\anaconda3\\lib\\site-packages\\sklearn\\svm\\_base.py:985: ConvergenceWarning: Liblinear failed to converge, increase the number of iterations.\n",
      "  warnings.warn(\"Liblinear failed to converge, increase \"\n",
      "C:\\Users\\JiaYi\\anaconda3\\lib\\site-packages\\sklearn\\svm\\_base.py:985: ConvergenceWarning: Liblinear failed to converge, increase the number of iterations.\n",
      "  warnings.warn(\"Liblinear failed to converge, increase \"\n",
      "C:\\Users\\JiaYi\\anaconda3\\lib\\site-packages\\sklearn\\svm\\_base.py:985: ConvergenceWarning: Liblinear failed to converge, increase the number of iterations.\n",
      "  warnings.warn(\"Liblinear failed to converge, increase \"\n",
      "C:\\Users\\JiaYi\\anaconda3\\lib\\site-packages\\sklearn\\svm\\_base.py:985: ConvergenceWarning: Liblinear failed to converge, increase the number of iterations.\n",
      "  warnings.warn(\"Liblinear failed to converge, increase \"\n",
      "C:\\Users\\JiaYi\\anaconda3\\lib\\site-packages\\sklearn\\svm\\_base.py:985: ConvergenceWarning: Liblinear failed to converge, increase the number of iterations.\n",
      "  warnings.warn(\"Liblinear failed to converge, increase \"\n",
      "C:\\Users\\JiaYi\\anaconda3\\lib\\site-packages\\sklearn\\svm\\_base.py:985: ConvergenceWarning: Liblinear failed to converge, increase the number of iterations.\n",
      "  warnings.warn(\"Liblinear failed to converge, increase \"\n",
      "C:\\Users\\JiaYi\\anaconda3\\lib\\site-packages\\sklearn\\svm\\_base.py:985: ConvergenceWarning: Liblinear failed to converge, increase the number of iterations.\n",
      "  warnings.warn(\"Liblinear failed to converge, increase \"\n",
      "C:\\Users\\JiaYi\\anaconda3\\lib\\site-packages\\sklearn\\svm\\_base.py:985: ConvergenceWarning: Liblinear failed to converge, increase the number of iterations.\n",
      "  warnings.warn(\"Liblinear failed to converge, increase \"\n",
      "C:\\Users\\JiaYi\\anaconda3\\lib\\site-packages\\sklearn\\svm\\_base.py:985: ConvergenceWarning: Liblinear failed to converge, increase the number of iterations.\n",
      "  warnings.warn(\"Liblinear failed to converge, increase \"\n",
      "C:\\Users\\JiaYi\\anaconda3\\lib\\site-packages\\sklearn\\svm\\_base.py:985: ConvergenceWarning: Liblinear failed to converge, increase the number of iterations.\n",
      "  warnings.warn(\"Liblinear failed to converge, increase \"\n",
      "C:\\Users\\JiaYi\\anaconda3\\lib\\site-packages\\sklearn\\svm\\_base.py:985: ConvergenceWarning: Liblinear failed to converge, increase the number of iterations.\n",
      "  warnings.warn(\"Liblinear failed to converge, increase \"\n",
      "C:\\Users\\JiaYi\\anaconda3\\lib\\site-packages\\sklearn\\svm\\_base.py:985: ConvergenceWarning: Liblinear failed to converge, increase the number of iterations.\n",
      "  warnings.warn(\"Liblinear failed to converge, increase \"\n",
      "C:\\Users\\JiaYi\\anaconda3\\lib\\site-packages\\sklearn\\svm\\_base.py:985: ConvergenceWarning: Liblinear failed to converge, increase the number of iterations.\n",
      "  warnings.warn(\"Liblinear failed to converge, increase \"\n",
      "C:\\Users\\JiaYi\\anaconda3\\lib\\site-packages\\sklearn\\svm\\_base.py:985: ConvergenceWarning: Liblinear failed to converge, increase the number of iterations.\n",
      "  warnings.warn(\"Liblinear failed to converge, increase \"\n",
      "C:\\Users\\JiaYi\\anaconda3\\lib\\site-packages\\sklearn\\svm\\_base.py:985: ConvergenceWarning: Liblinear failed to converge, increase the number of iterations.\n",
      "  warnings.warn(\"Liblinear failed to converge, increase \"\n",
      "C:\\Users\\JiaYi\\anaconda3\\lib\\site-packages\\sklearn\\svm\\_base.py:985: ConvergenceWarning: Liblinear failed to converge, increase the number of iterations.\n",
      "  warnings.warn(\"Liblinear failed to converge, increase \"\n",
      "C:\\Users\\JiaYi\\anaconda3\\lib\\site-packages\\sklearn\\svm\\_base.py:985: ConvergenceWarning: Liblinear failed to converge, increase the number of iterations.\n",
      "  warnings.warn(\"Liblinear failed to converge, increase \"\n",
      "C:\\Users\\JiaYi\\anaconda3\\lib\\site-packages\\sklearn\\svm\\_base.py:985: ConvergenceWarning: Liblinear failed to converge, increase the number of iterations.\n",
      "  warnings.warn(\"Liblinear failed to converge, increase \"\n",
      "C:\\Users\\JiaYi\\anaconda3\\lib\\site-packages\\sklearn\\svm\\_base.py:985: ConvergenceWarning: Liblinear failed to converge, increase the number of iterations.\n",
      "  warnings.warn(\"Liblinear failed to converge, increase \"\n",
      "C:\\Users\\JiaYi\\anaconda3\\lib\\site-packages\\sklearn\\svm\\_base.py:985: ConvergenceWarning: Liblinear failed to converge, increase the number of iterations.\n",
      "  warnings.warn(\"Liblinear failed to converge, increase \"\n",
      "C:\\Users\\JiaYi\\anaconda3\\lib\\site-packages\\sklearn\\svm\\_base.py:985: ConvergenceWarning: Liblinear failed to converge, increase the number of iterations.\n",
      "  warnings.warn(\"Liblinear failed to converge, increase \"\n",
      "C:\\Users\\JiaYi\\anaconda3\\lib\\site-packages\\sklearn\\svm\\_base.py:985: ConvergenceWarning: Liblinear failed to converge, increase the number of iterations.\n",
      "  warnings.warn(\"Liblinear failed to converge, increase \"\n",
      "C:\\Users\\JiaYi\\anaconda3\\lib\\site-packages\\sklearn\\svm\\_base.py:985: ConvergenceWarning: Liblinear failed to converge, increase the number of iterations.\n",
      "  warnings.warn(\"Liblinear failed to converge, increase \"\n",
      "C:\\Users\\JiaYi\\anaconda3\\lib\\site-packages\\sklearn\\svm\\_base.py:985: ConvergenceWarning: Liblinear failed to converge, increase the number of iterations.\n",
      "  warnings.warn(\"Liblinear failed to converge, increase \"\n",
      "C:\\Users\\JiaYi\\anaconda3\\lib\\site-packages\\sklearn\\svm\\_base.py:985: ConvergenceWarning: Liblinear failed to converge, increase the number of iterations.\n",
      "  warnings.warn(\"Liblinear failed to converge, increase \"\n",
      "C:\\Users\\JiaYi\\anaconda3\\lib\\site-packages\\sklearn\\svm\\_base.py:985: ConvergenceWarning: Liblinear failed to converge, increase the number of iterations.\n",
      "  warnings.warn(\"Liblinear failed to converge, increase \"\n",
      "C:\\Users\\JiaYi\\anaconda3\\lib\\site-packages\\sklearn\\svm\\_base.py:985: ConvergenceWarning: Liblinear failed to converge, increase the number of iterations.\n",
      "  warnings.warn(\"Liblinear failed to converge, increase \"\n",
      "C:\\Users\\JiaYi\\anaconda3\\lib\\site-packages\\sklearn\\svm\\_base.py:985: ConvergenceWarning: Liblinear failed to converge, increase the number of iterations.\n",
      "  warnings.warn(\"Liblinear failed to converge, increase \"\n"
     ]
    },
    {
     "name": "stderr",
     "output_type": "stream",
     "text": [
      "C:\\Users\\JiaYi\\anaconda3\\lib\\site-packages\\sklearn\\svm\\_base.py:985: ConvergenceWarning: Liblinear failed to converge, increase the number of iterations.\n",
      "  warnings.warn(\"Liblinear failed to converge, increase \"\n",
      "C:\\Users\\JiaYi\\anaconda3\\lib\\site-packages\\sklearn\\svm\\_base.py:985: ConvergenceWarning: Liblinear failed to converge, increase the number of iterations.\n",
      "  warnings.warn(\"Liblinear failed to converge, increase \"\n",
      "C:\\Users\\JiaYi\\anaconda3\\lib\\site-packages\\sklearn\\svm\\_base.py:985: ConvergenceWarning: Liblinear failed to converge, increase the number of iterations.\n",
      "  warnings.warn(\"Liblinear failed to converge, increase \"\n",
      "C:\\Users\\JiaYi\\anaconda3\\lib\\site-packages\\sklearn\\svm\\_base.py:985: ConvergenceWarning: Liblinear failed to converge, increase the number of iterations.\n",
      "  warnings.warn(\"Liblinear failed to converge, increase \"\n",
      "C:\\Users\\JiaYi\\anaconda3\\lib\\site-packages\\sklearn\\svm\\_base.py:985: ConvergenceWarning: Liblinear failed to converge, increase the number of iterations.\n",
      "  warnings.warn(\"Liblinear failed to converge, increase \"\n",
      "C:\\Users\\JiaYi\\anaconda3\\lib\\site-packages\\sklearn\\svm\\_base.py:985: ConvergenceWarning: Liblinear failed to converge, increase the number of iterations.\n",
      "  warnings.warn(\"Liblinear failed to converge, increase \"\n",
      "C:\\Users\\JiaYi\\anaconda3\\lib\\site-packages\\sklearn\\svm\\_base.py:985: ConvergenceWarning: Liblinear failed to converge, increase the number of iterations.\n",
      "  warnings.warn(\"Liblinear failed to converge, increase \"\n",
      "C:\\Users\\JiaYi\\anaconda3\\lib\\site-packages\\sklearn\\svm\\_base.py:985: ConvergenceWarning: Liblinear failed to converge, increase the number of iterations.\n",
      "  warnings.warn(\"Liblinear failed to converge, increase \"\n",
      "C:\\Users\\JiaYi\\anaconda3\\lib\\site-packages\\sklearn\\svm\\_base.py:985: ConvergenceWarning: Liblinear failed to converge, increase the number of iterations.\n",
      "  warnings.warn(\"Liblinear failed to converge, increase \"\n",
      "C:\\Users\\JiaYi\\anaconda3\\lib\\site-packages\\sklearn\\svm\\_base.py:985: ConvergenceWarning: Liblinear failed to converge, increase the number of iterations.\n",
      "  warnings.warn(\"Liblinear failed to converge, increase \"\n",
      "C:\\Users\\JiaYi\\anaconda3\\lib\\site-packages\\sklearn\\svm\\_base.py:985: ConvergenceWarning: Liblinear failed to converge, increase the number of iterations.\n",
      "  warnings.warn(\"Liblinear failed to converge, increase \"\n",
      "C:\\Users\\JiaYi\\anaconda3\\lib\\site-packages\\sklearn\\svm\\_base.py:985: ConvergenceWarning: Liblinear failed to converge, increase the number of iterations.\n",
      "  warnings.warn(\"Liblinear failed to converge, increase \"\n",
      "C:\\Users\\JiaYi\\anaconda3\\lib\\site-packages\\sklearn\\svm\\_base.py:985: ConvergenceWarning: Liblinear failed to converge, increase the number of iterations.\n",
      "  warnings.warn(\"Liblinear failed to converge, increase \"\n",
      "C:\\Users\\JiaYi\\anaconda3\\lib\\site-packages\\sklearn\\svm\\_base.py:985: ConvergenceWarning: Liblinear failed to converge, increase the number of iterations.\n",
      "  warnings.warn(\"Liblinear failed to converge, increase \"\n",
      "C:\\Users\\JiaYi\\anaconda3\\lib\\site-packages\\sklearn\\svm\\_base.py:985: ConvergenceWarning: Liblinear failed to converge, increase the number of iterations.\n",
      "  warnings.warn(\"Liblinear failed to converge, increase \"\n",
      "C:\\Users\\JiaYi\\anaconda3\\lib\\site-packages\\sklearn\\svm\\_base.py:985: ConvergenceWarning: Liblinear failed to converge, increase the number of iterations.\n",
      "  warnings.warn(\"Liblinear failed to converge, increase \"\n",
      "C:\\Users\\JiaYi\\anaconda3\\lib\\site-packages\\sklearn\\svm\\_base.py:985: ConvergenceWarning: Liblinear failed to converge, increase the number of iterations.\n",
      "  warnings.warn(\"Liblinear failed to converge, increase \"\n",
      "C:\\Users\\JiaYi\\anaconda3\\lib\\site-packages\\sklearn\\svm\\_base.py:985: ConvergenceWarning: Liblinear failed to converge, increase the number of iterations.\n",
      "  warnings.warn(\"Liblinear failed to converge, increase \"\n",
      "C:\\Users\\JiaYi\\anaconda3\\lib\\site-packages\\sklearn\\svm\\_base.py:985: ConvergenceWarning: Liblinear failed to converge, increase the number of iterations.\n",
      "  warnings.warn(\"Liblinear failed to converge, increase \"\n",
      "C:\\Users\\JiaYi\\anaconda3\\lib\\site-packages\\sklearn\\svm\\_base.py:985: ConvergenceWarning: Liblinear failed to converge, increase the number of iterations.\n",
      "  warnings.warn(\"Liblinear failed to converge, increase \"\n",
      "C:\\Users\\JiaYi\\anaconda3\\lib\\site-packages\\sklearn\\svm\\_base.py:985: ConvergenceWarning: Liblinear failed to converge, increase the number of iterations.\n",
      "  warnings.warn(\"Liblinear failed to converge, increase \"\n",
      "C:\\Users\\JiaYi\\anaconda3\\lib\\site-packages\\sklearn\\svm\\_base.py:985: ConvergenceWarning: Liblinear failed to converge, increase the number of iterations.\n",
      "  warnings.warn(\"Liblinear failed to converge, increase \"\n",
      "C:\\Users\\JiaYi\\anaconda3\\lib\\site-packages\\sklearn\\svm\\_base.py:985: ConvergenceWarning: Liblinear failed to converge, increase the number of iterations.\n",
      "  warnings.warn(\"Liblinear failed to converge, increase \"\n",
      "C:\\Users\\JiaYi\\anaconda3\\lib\\site-packages\\sklearn\\svm\\_base.py:985: ConvergenceWarning: Liblinear failed to converge, increase the number of iterations.\n",
      "  warnings.warn(\"Liblinear failed to converge, increase \"\n",
      "C:\\Users\\JiaYi\\anaconda3\\lib\\site-packages\\sklearn\\svm\\_base.py:985: ConvergenceWarning: Liblinear failed to converge, increase the number of iterations.\n",
      "  warnings.warn(\"Liblinear failed to converge, increase \"\n",
      "C:\\Users\\JiaYi\\anaconda3\\lib\\site-packages\\sklearn\\svm\\_base.py:985: ConvergenceWarning: Liblinear failed to converge, increase the number of iterations.\n",
      "  warnings.warn(\"Liblinear failed to converge, increase \"\n",
      "C:\\Users\\JiaYi\\anaconda3\\lib\\site-packages\\sklearn\\svm\\_base.py:985: ConvergenceWarning: Liblinear failed to converge, increase the number of iterations.\n",
      "  warnings.warn(\"Liblinear failed to converge, increase \"\n",
      "C:\\Users\\JiaYi\\anaconda3\\lib\\site-packages\\sklearn\\svm\\_base.py:985: ConvergenceWarning: Liblinear failed to converge, increase the number of iterations.\n",
      "  warnings.warn(\"Liblinear failed to converge, increase \"\n",
      "C:\\Users\\JiaYi\\anaconda3\\lib\\site-packages\\sklearn\\svm\\_base.py:985: ConvergenceWarning: Liblinear failed to converge, increase the number of iterations.\n",
      "  warnings.warn(\"Liblinear failed to converge, increase \"\n",
      "C:\\Users\\JiaYi\\anaconda3\\lib\\site-packages\\sklearn\\svm\\_base.py:985: ConvergenceWarning: Liblinear failed to converge, increase the number of iterations.\n",
      "  warnings.warn(\"Liblinear failed to converge, increase \"\n",
      "C:\\Users\\JiaYi\\anaconda3\\lib\\site-packages\\sklearn\\svm\\_base.py:985: ConvergenceWarning: Liblinear failed to converge, increase the number of iterations.\n",
      "  warnings.warn(\"Liblinear failed to converge, increase \"\n",
      "C:\\Users\\JiaYi\\anaconda3\\lib\\site-packages\\sklearn\\svm\\_base.py:985: ConvergenceWarning: Liblinear failed to converge, increase the number of iterations.\n",
      "  warnings.warn(\"Liblinear failed to converge, increase \"\n",
      "C:\\Users\\JiaYi\\anaconda3\\lib\\site-packages\\sklearn\\svm\\_base.py:985: ConvergenceWarning: Liblinear failed to converge, increase the number of iterations.\n",
      "  warnings.warn(\"Liblinear failed to converge, increase \"\n",
      "C:\\Users\\JiaYi\\anaconda3\\lib\\site-packages\\sklearn\\svm\\_base.py:985: ConvergenceWarning: Liblinear failed to converge, increase the number of iterations.\n",
      "  warnings.warn(\"Liblinear failed to converge, increase \"\n",
      "C:\\Users\\JiaYi\\anaconda3\\lib\\site-packages\\sklearn\\svm\\_base.py:985: ConvergenceWarning: Liblinear failed to converge, increase the number of iterations.\n",
      "  warnings.warn(\"Liblinear failed to converge, increase \"\n",
      "C:\\Users\\JiaYi\\anaconda3\\lib\\site-packages\\sklearn\\svm\\_base.py:985: ConvergenceWarning: Liblinear failed to converge, increase the number of iterations.\n",
      "  warnings.warn(\"Liblinear failed to converge, increase \"\n",
      "C:\\Users\\JiaYi\\anaconda3\\lib\\site-packages\\sklearn\\svm\\_base.py:985: ConvergenceWarning: Liblinear failed to converge, increase the number of iterations.\n",
      "  warnings.warn(\"Liblinear failed to converge, increase \"\n"
     ]
    },
    {
     "name": "stdout",
     "output_type": "stream",
     "text": [
      "Average Accuracy: 0.4718432689072896\n",
      "Average Precision: 0.4229064059627106\n",
      "Average Recall: 0.4718399478207922\n",
      "Average F1: 0.41048095739272616\n"
     ]
    },
    {
     "name": "stderr",
     "output_type": "stream",
     "text": [
      "C:\\Users\\JiaYi\\anaconda3\\lib\\site-packages\\sklearn\\svm\\_base.py:985: ConvergenceWarning: Liblinear failed to converge, increase the number of iterations.\n",
      "  warnings.warn(\"Liblinear failed to converge, increase \"\n"
     ]
    }
   ],
   "source": [
    "#Enter your codes to use cross_validation here\n",
    "from sklearn.model_selection import cross_validate\n",
    "\n",
    "result = cross_validate(ORC, X, np.ravel(y), cv=14, scoring=['accuracy', 'f1_macro', 'precision_macro', 'recall_macro'])\n",
    "print(\"Average Accuracy:\", np.mean(result['test_accuracy']))\n",
    "print(\"Average Precision:\", np.mean(result['test_precision_macro']))\n",
    "print(\"Average Recall:\", np.mean(result['test_recall_macro']))\n",
    "print(\"Average F1:\", np.mean(result['test_f1_macro']))"
   ]
  },
  {
   "cell_type": "markdown",
   "id": "f57a06c4",
   "metadata": {},
   "source": [
    "<h6>Note:</h6>\n",
    "I will not be tuning this classifier as the base model already has a much lower performance than the base model of other algorithms. Hence, even with tuning, it may only increase a little bit but not enough to hit the 70% range of precision/accuracy/recall.\n",
    "\n",
    "Also, since accuracy is low, I will not be using this model to do any predictions."
   ]
  },
  {
   "cell_type": "markdown",
   "id": "bde9afe8",
   "metadata": {},
   "source": [
    "### Conclusion: Highest precision of tuned One-Vs-Rest Classifier is 42%."
   ]
  },
  {
   "cell_type": "markdown",
   "id": "f267fe77",
   "metadata": {},
   "source": [
    "<a id='18'><h3 style=\"padding:5px;color:white;background-color:#C4E0E5;text-align: center;margin-left:auto;margin-right:auto;border-radius:10px;\"><font color=\"white\">Model 9: Neural Network Model</h3>"
   ]
  },
  {
   "cell_type": "markdown",
   "id": "3ac40151",
   "metadata": {},
   "source": [
    "## A: Preparing Data for neural network model"
   ]
  },
  {
   "cell_type": "code",
   "execution_count": 37,
   "id": "81290cb2",
   "metadata": {},
   "outputs": [],
   "source": [
    "from keras.utils import np_utils"
   ]
  },
  {
   "cell_type": "code",
   "execution_count": 38,
   "id": "6613657a",
   "metadata": {},
   "outputs": [],
   "source": [
    "encoder = LabelEncoder()\n",
    "encoder.fit(y_train)\n",
    "encoded_Y_train = encoder.transform(y_train)\n",
    "# convert integers to dummy variables (i.e. one hot encoded)\n",
    "dummy_y_train = np_utils.to_categorical(encoded_Y_train)\n",
    "encoder = LabelEncoder()\n",
    "encoder.fit(y_test)\n",
    "encoded_Y_test = encoder.transform(y_test)\n",
    "# convert integers to dummy variables (i.e. one hot encoded)\n",
    "dummy_y_test = np_utils.to_categorical(encoded_Y_test)\n"
   ]
  },
  {
   "cell_type": "code",
   "execution_count": 39,
   "id": "a6b856a5",
   "metadata": {},
   "outputs": [
    {
     "data": {
      "text/plain": [
       "array([[0., 0., 0., ..., 0., 0., 0.],\n",
       "       [0., 0., 0., ..., 1., 0., 0.],\n",
       "       [0., 0., 0., ..., 0., 0., 0.],\n",
       "       ...,\n",
       "       [0., 0., 0., ..., 0., 1., 0.],\n",
       "       [0., 0., 0., ..., 0., 0., 0.],\n",
       "       [0., 0., 0., ..., 0., 0., 0.]], dtype=float32)"
      ]
     },
     "execution_count": 39,
     "metadata": {},
     "output_type": "execute_result"
    }
   ],
   "source": [
    "dummy_y_train"
   ]
  },
  {
   "cell_type": "markdown",
   "id": "dbdef8a1",
   "metadata": {},
   "source": [
    "## B: Building Model -  Deep Neural Network Model"
   ]
  },
  {
   "cell_type": "code",
   "execution_count": 42,
   "id": "20edefe0",
   "metadata": {
    "scrolled": true
   },
   "outputs": [
    {
     "name": "stdout",
     "output_type": "stream",
     "text": [
      "Epoch 1/8000000\n",
      "2676/2676 [==============================] - 6s 2ms/step - loss: 1.6515 - accuracy: 0.4154 - val_loss: 1.4877 - val_accuracy: 0.4779\n",
      "Epoch 2/8000000\n",
      "2676/2676 [==============================] - 6s 2ms/step - loss: 1.4819 - accuracy: 0.4791 - val_loss: 1.4747 - val_accuracy: 0.4827\n",
      "Epoch 3/8000000\n",
      "2676/2676 [==============================] - 6s 2ms/step - loss: 1.4448 - accuracy: 0.4893 - val_loss: 1.3965 - val_accuracy: 0.5096\n",
      "Epoch 4/8000000\n",
      "2676/2676 [==============================] - 6s 2ms/step - loss: 1.4104 - accuracy: 0.5034 - val_loss: 1.3601 - val_accuracy: 0.5163\n",
      "Epoch 5/8000000\n",
      "2676/2676 [==============================] - 6s 2ms/step - loss: 1.3835 - accuracy: 0.5119 - val_loss: 1.3456 - val_accuracy: 0.5280\n",
      "Epoch 6/8000000\n",
      "2676/2676 [==============================] - 6s 2ms/step - loss: 1.3579 - accuracy: 0.5225 - val_loss: 1.3406 - val_accuracy: 0.5254\n",
      "Epoch 7/8000000\n",
      "2676/2676 [==============================] - 6s 2ms/step - loss: 1.3316 - accuracy: 0.5295 - val_loss: 1.3157 - val_accuracy: 0.5305\n",
      "Epoch 8/8000000\n",
      "2676/2676 [==============================] - 6s 2ms/step - loss: 1.3092 - accuracy: 0.5354 - val_loss: 1.2726 - val_accuracy: 0.5456\n",
      "Epoch 9/8000000\n",
      "2676/2676 [==============================] - 6s 2ms/step - loss: 1.2910 - accuracy: 0.5399 - val_loss: 1.2488 - val_accuracy: 0.5498\n",
      "Epoch 10/8000000\n",
      "2676/2676 [==============================] - 6s 2ms/step - loss: 1.2647 - accuracy: 0.5510 - val_loss: 1.2867 - val_accuracy: 0.5508\n",
      "Epoch 11/8000000\n",
      "2676/2676 [==============================] - 6s 2ms/step - loss: 1.2378 - accuracy: 0.5589 - val_loss: 1.2267 - val_accuracy: 0.5653\n",
      "Epoch 12/8000000\n",
      "2676/2676 [==============================] - 6s 2ms/step - loss: 1.2216 - accuracy: 0.5649 - val_loss: 1.2151 - val_accuracy: 0.5731\n",
      "Epoch 13/8000000\n",
      "2676/2676 [==============================] - 6s 2ms/step - loss: 1.1994 - accuracy: 0.5698 - val_loss: 1.1997 - val_accuracy: 0.5795\n",
      "Epoch 14/8000000\n",
      "2676/2676 [==============================] - 6s 2ms/step - loss: 1.1799 - accuracy: 0.5789 - val_loss: 1.1757 - val_accuracy: 0.5860\n",
      "Epoch 15/8000000\n",
      "2676/2676 [==============================] - 6s 2ms/step - loss: 1.1605 - accuracy: 0.5886 - val_loss: 1.1666 - val_accuracy: 0.5926\n",
      "Epoch 16/8000000\n",
      "2676/2676 [==============================] - 6s 2ms/step - loss: 1.1344 - accuracy: 0.5960 - val_loss: 1.1540 - val_accuracy: 0.5948\n",
      "Epoch 17/8000000\n",
      "2676/2676 [==============================] - 6s 2ms/step - loss: 1.1256 - accuracy: 0.6000 - val_loss: 1.1515 - val_accuracy: 0.5973\n",
      "Epoch 18/8000000\n",
      "2676/2676 [==============================] - 6s 2ms/step - loss: 1.1076 - accuracy: 0.6034 - val_loss: 1.1509 - val_accuracy: 0.5921\n",
      "Epoch 19/8000000\n",
      "2676/2676 [==============================] - 6s 2ms/step - loss: 1.0843 - accuracy: 0.6136 - val_loss: 1.1507 - val_accuracy: 0.6014\n",
      "Epoch 20/8000000\n",
      "2676/2676 [==============================] - 6s 2ms/step - loss: 1.0670 - accuracy: 0.6151 - val_loss: 1.1099 - val_accuracy: 0.6129\n",
      "Epoch 21/8000000\n",
      "2676/2676 [==============================] - 6s 2ms/step - loss: 1.0523 - accuracy: 0.6249 - val_loss: 1.0925 - val_accuracy: 0.6213\n",
      "Epoch 22/8000000\n",
      "2676/2676 [==============================] - 6s 2ms/step - loss: 1.0384 - accuracy: 0.6292 - val_loss: 1.1072 - val_accuracy: 0.6169\n",
      "Epoch 23/8000000\n",
      "2676/2676 [==============================] - 6s 2ms/step - loss: 1.0217 - accuracy: 0.6350 - val_loss: 1.1106 - val_accuracy: 0.6132\n",
      "Epoch 24/8000000\n",
      "2676/2676 [==============================] - 6s 2ms/step - loss: 1.0045 - accuracy: 0.6396 - val_loss: 1.0802 - val_accuracy: 0.6266\n",
      "Epoch 25/8000000\n",
      "2676/2676 [==============================] - 7s 2ms/step - loss: 0.9984 - accuracy: 0.6450 - val_loss: 1.0895 - val_accuracy: 0.6241\n",
      "Epoch 26/8000000\n",
      "2676/2676 [==============================] - 7s 3ms/step - loss: 0.9855 - accuracy: 0.6461 - val_loss: 1.0395 - val_accuracy: 0.6450\n",
      "Epoch 27/8000000\n",
      "2676/2676 [==============================] - 6s 2ms/step - loss: 0.9754 - accuracy: 0.6510 - val_loss: 1.0405 - val_accuracy: 0.6410\n",
      "Epoch 28/8000000\n",
      "2676/2676 [==============================] - 6s 2ms/step - loss: 0.9603 - accuracy: 0.6568 - val_loss: 1.0284 - val_accuracy: 0.6557\n",
      "Epoch 29/8000000\n",
      "2676/2676 [==============================] - 6s 2ms/step - loss: 0.9478 - accuracy: 0.6641 - val_loss: 1.0421 - val_accuracy: 0.6462\n",
      "Epoch 30/8000000\n",
      "2676/2676 [==============================] - 6s 2ms/step - loss: 0.9401 - accuracy: 0.6619 - val_loss: 1.0349 - val_accuracy: 0.6549\n",
      "Epoch 31/8000000\n",
      "2676/2676 [==============================] - 6s 2ms/step - loss: 0.9226 - accuracy: 0.6659 - val_loss: 1.0179 - val_accuracy: 0.6567\n",
      "Epoch 32/8000000\n",
      "2676/2676 [==============================] - 6s 2ms/step - loss: 0.9161 - accuracy: 0.6694 - val_loss: 1.0079 - val_accuracy: 0.6552\n",
      "Epoch 33/8000000\n",
      "2676/2676 [==============================] - 6s 2ms/step - loss: 0.9064 - accuracy: 0.6765 - val_loss: 0.9840 - val_accuracy: 0.6655\n",
      "Epoch 34/8000000\n",
      "2676/2676 [==============================] - 6s 2ms/step - loss: 0.8969 - accuracy: 0.6783 - val_loss: 1.0073 - val_accuracy: 0.6474\n",
      "Epoch 35/8000000\n",
      "2676/2676 [==============================] - 6s 2ms/step - loss: 0.8922 - accuracy: 0.6810 - val_loss: 1.0115 - val_accuracy: 0.6585\n",
      "Epoch 36/8000000\n",
      "2676/2676 [==============================] - 6s 2ms/step - loss: 0.8746 - accuracy: 0.6877 - val_loss: 0.9840 - val_accuracy: 0.6682\n",
      "Epoch 37/8000000\n",
      "2676/2676 [==============================] - 6s 2ms/step - loss: 0.8644 - accuracy: 0.6915 - val_loss: 0.9875 - val_accuracy: 0.6694\n",
      "Epoch 38/8000000\n",
      "2676/2676 [==============================] - 6s 2ms/step - loss: 0.8575 - accuracy: 0.6920 - val_loss: 0.9869 - val_accuracy: 0.6731\n",
      "Epoch 39/8000000\n",
      "2676/2676 [==============================] - 6s 2ms/step - loss: 0.8600 - accuracy: 0.6914 - val_loss: 0.9869 - val_accuracy: 0.6681\n",
      "Epoch 40/8000000\n",
      "2676/2676 [==============================] - 6s 2ms/step - loss: 0.8470 - accuracy: 0.6957 - val_loss: 0.9770 - val_accuracy: 0.6770\n",
      "Epoch 41/8000000\n",
      "2676/2676 [==============================] - 6s 2ms/step - loss: 0.8359 - accuracy: 0.7007 - val_loss: 0.9929 - val_accuracy: 0.6731\n",
      "Epoch 42/8000000\n",
      "2676/2676 [==============================] - 6s 2ms/step - loss: 0.8332 - accuracy: 0.7025 - val_loss: 0.9851 - val_accuracy: 0.6778\n",
      "Epoch 43/8000000\n",
      "2676/2676 [==============================] - 6s 2ms/step - loss: 0.8231 - accuracy: 0.7069 - val_loss: 0.9549 - val_accuracy: 0.6914\n",
      "Epoch 44/8000000\n",
      "2676/2676 [==============================] - 6s 2ms/step - loss: 0.8172 - accuracy: 0.7021 - val_loss: 0.9626 - val_accuracy: 0.6815\n",
      "Epoch 45/8000000\n",
      "2676/2676 [==============================] - 6s 2ms/step - loss: 0.8003 - accuracy: 0.7139 - val_loss: 0.9498 - val_accuracy: 0.6845\n",
      "Epoch 46/8000000\n",
      "2676/2676 [==============================] - 6s 2ms/step - loss: 0.8053 - accuracy: 0.7110 - val_loss: 0.9573 - val_accuracy: 0.6842\n",
      "Epoch 47/8000000\n",
      "2676/2676 [==============================] - 6s 2ms/step - loss: 0.7983 - accuracy: 0.7136 - val_loss: 0.9563 - val_accuracy: 0.6869\n",
      "Epoch 48/8000000\n",
      "2676/2676 [==============================] - 6s 2ms/step - loss: 0.7886 - accuracy: 0.7192 - val_loss: 0.9803 - val_accuracy: 0.6832\n",
      "Epoch 49/8000000\n",
      "2676/2676 [==============================] - 6s 2ms/step - loss: 0.7816 - accuracy: 0.7201 - val_loss: 0.9485 - val_accuracy: 0.6853\n",
      "Epoch 50/8000000\n",
      "2676/2676 [==============================] - 6s 2ms/step - loss: 0.7751 - accuracy: 0.7202 - val_loss: 0.9672 - val_accuracy: 0.6866\n",
      "Epoch 51/8000000\n",
      "2676/2676 [==============================] - 6s 2ms/step - loss: 0.7820 - accuracy: 0.7163 - val_loss: 0.9264 - val_accuracy: 0.6957\n",
      "Epoch 52/8000000\n",
      "2676/2676 [==============================] - 6s 2ms/step - loss: 0.7719 - accuracy: 0.7247 - val_loss: 0.9907 - val_accuracy: 0.6871\n",
      "Epoch 53/8000000\n",
      "2676/2676 [==============================] - 6s 2ms/step - loss: 0.7647 - accuracy: 0.7276 - val_loss: 0.9570 - val_accuracy: 0.6909\n",
      "Epoch 54/8000000\n",
      "2676/2676 [==============================] - 6s 2ms/step - loss: 0.7617 - accuracy: 0.7285 - val_loss: 0.9453 - val_accuracy: 0.6929\n",
      "Epoch 55/8000000\n",
      "2676/2676 [==============================] - 6s 2ms/step - loss: 0.7596 - accuracy: 0.7304 - val_loss: 0.9758 - val_accuracy: 0.6939\n",
      "Epoch 56/8000000\n",
      "2676/2676 [==============================] - 6s 2ms/step - loss: 0.7487 - accuracy: 0.7314 - val_loss: 0.9327 - val_accuracy: 0.7090\n",
      "Epoch 57/8000000\n",
      "2676/2676 [==============================] - 6s 2ms/step - loss: 0.7469 - accuracy: 0.7345 - val_loss: 0.9513 - val_accuracy: 0.6974\n",
      "Epoch 58/8000000\n",
      "2676/2676 [==============================] - 6s 2ms/step - loss: 0.7355 - accuracy: 0.7373 - val_loss: 0.9387 - val_accuracy: 0.6999\n",
      "Epoch 59/8000000\n",
      "2676/2676 [==============================] - 6s 2ms/step - loss: 0.7287 - accuracy: 0.7407 - val_loss: 0.9332 - val_accuracy: 0.7020\n",
      "Epoch 60/8000000\n",
      "2676/2676 [==============================] - 6s 2ms/step - loss: 0.7266 - accuracy: 0.7428 - val_loss: 0.9360 - val_accuracy: 0.7038\n",
      "Epoch 61/8000000\n",
      "2676/2676 [==============================] - 6s 2ms/step - loss: 0.7323 - accuracy: 0.7377 - val_loss: 0.9508 - val_accuracy: 0.6936\n"
     ]
    }
   ],
   "source": [
    "model1 = Sequential()\n",
    "model1.add(Dense(512, input_shape = (X_train.shape[1],)))\n",
    "model1.add(Activation('relu'))\n",
    "model1.add(Dropout(0.1))\n",
    "\n",
    "model1.add(Dense(512, input_shape = (X_train.shape[1],)))\n",
    "model1.add(Activation('relu'))\n",
    "model1.add(Dropout(0.1))\n",
    "\n",
    "model1.add(Dense(512, input_shape = (X_train.shape[1],)))\n",
    "model1.add(Activation('relu'))\n",
    "model1.add(Dropout(0.1))\n",
    "\n",
    "\n",
    "model1.add(Dense(11))\n",
    "model1.add(Activation('softmax'))\n",
    "\n",
    "model1.compile(loss='categorical_crossentropy',\n",
    "              optimizer='adam',\n",
    "              metrics=['accuracy'])\n",
    "\n",
    "import keras\n",
    "from keras.callbacks import EarlyStopping\n",
    "\n",
    "# early stopping callback\n",
    "# This callback will stop the training when there is no improvement in  \n",
    "# the validation loss for 10 consecutive epochs.  \n",
    "es = keras.callbacks.EarlyStopping(monitor='val_loss', mode='min',\n",
    "                                   patience=10, \n",
    "                                   restore_best_weights=True) # important - otherwise you just return the last weigths...\n",
    "\n",
    "# now we just update our model fit call\n",
    "history = model1.fit(X_train,\n",
    "                    dummy_y_train,\n",
    "                    callbacks=[es],\n",
    "                    epochs=8000000, # you can set this to a big number!\n",
    "                    batch_size=10,\n",
    "                    shuffle=True,\n",
    "                    validation_split=0.2,\n",
    "                    verbose=1)\n",
    "\n"
   ]
  },
  {
   "cell_type": "code",
   "execution_count": 43,
   "id": "a783f535",
   "metadata": {},
   "outputs": [
    {
     "name": "stdout",
     "output_type": "stream",
     "text": [
      "Model: \"sequential_1\"\n",
      "_________________________________________________________________\n",
      " Layer (type)                Output Shape              Param #   \n",
      "=================================================================\n",
      " dense_4 (Dense)             (None, 512)               6144      \n",
      "                                                                 \n",
      " activation_4 (Activation)   (None, 512)               0         \n",
      "                                                                 \n",
      " dropout_3 (Dropout)         (None, 512)               0         \n",
      "                                                                 \n",
      " dense_5 (Dense)             (None, 512)               262656    \n",
      "                                                                 \n",
      " activation_5 (Activation)   (None, 512)               0         \n",
      "                                                                 \n",
      " dropout_4 (Dropout)         (None, 512)               0         \n",
      "                                                                 \n",
      " dense_6 (Dense)             (None, 512)               262656    \n",
      "                                                                 \n",
      " activation_6 (Activation)   (None, 512)               0         \n",
      "                                                                 \n",
      " dropout_5 (Dropout)         (None, 512)               0         \n",
      "                                                                 \n",
      " dense_7 (Dense)             (None, 11)                5643      \n",
      "                                                                 \n",
      " activation_7 (Activation)   (None, 11)                0         \n",
      "                                                                 \n",
      "=================================================================\n",
      "Total params: 537,099\n",
      "Trainable params: 537,099\n",
      "Non-trainable params: 0\n",
      "_________________________________________________________________\n"
     ]
    }
   ],
   "source": [
    "model1.summary()"
   ]
  },
  {
   "cell_type": "markdown",
   "id": "41ae987b",
   "metadata": {},
   "source": [
    "## C: Model Evaluation"
   ]
  },
  {
   "cell_type": "code",
   "execution_count": 160,
   "id": "5f03d35d",
   "metadata": {},
   "outputs": [
    {
     "name": "stdout",
     "output_type": "stream",
     "text": [
      "              precision    recall  f1-score   support\n",
      "\n",
      "           0       0.67      0.80      0.73       760\n",
      "           1       0.69      0.67      0.68       760\n",
      "           2       0.64      0.63      0.64       760\n",
      "           3       0.88      0.95      0.91       760\n",
      "           4       0.76      0.93      0.83       760\n",
      "           5       0.75      0.86      0.80       760\n",
      "           6       0.59      0.38      0.46       760\n",
      "           7       0.93      0.97      0.95       760\n",
      "           8       0.73      0.86      0.79       760\n",
      "           9       0.57      0.49      0.53       760\n",
      "          10       0.46      0.31      0.37       760\n",
      "\n",
      "    accuracy                           0.71      8360\n",
      "   macro avg       0.70      0.71      0.70      8360\n",
      "weighted avg       0.70      0.71      0.70      8360\n",
      "\n"
     ]
    }
   ],
   "source": [
    "from sklearn.metrics import confusion_matrix\n",
    "from sklearn.metrics import classification_report\n",
    "\n",
    "preds = model1.predict(X_test) # see how the model did!\n",
    "print(classification_report(dummy_y_test.argmax(axis=1), preds.argmax(axis=1)))"
   ]
  },
  {
   "cell_type": "code",
   "execution_count": 162,
   "id": "4cc0d69a",
   "metadata": {},
   "outputs": [
    {
     "name": "stdout",
     "output_type": "stream",
     "text": [
      "262/262 - 0s - loss: 0.9021 - accuracy: 0.7145 - 158ms/epoch - 603us/step\n",
      "Accuracy: 71.44736647605896\n"
     ]
    }
   ],
   "source": [
    "accuracy = model1.evaluate(X_test, dummy_y_test, verbose=2)\n",
    "print(\"Accuracy:\",accuracy[1]*100)"
   ]
  },
  {
   "cell_type": "code",
   "execution_count": 163,
   "id": "f0f3b5d9",
   "metadata": {},
   "outputs": [
    {
     "data": {
      "image/png": "[encoded data removed]",
      "text/plain": [
       "<Figure size 432x288 with 1 Axes>"
      ]
     },
     "metadata": {
      "needs_background": "light"
     },
     "output_type": "display_data"
    }
   ],
   "source": [
    "from matplotlib import pyplot as plt\n",
    "plt.plot(history.history['accuracy'])\n",
    "plt.plot(history.history['val_accuracy'])\n",
    "plt.title('model accuracy')\n",
    "plt.ylabel('accuracy')\n",
    "plt.xlabel('epoch')\n",
    "plt.legend(['Train', 'Cross-Validation'], loc='upper left')\n",
    "plt.show()"
   ]
  },
  {
   "cell_type": "code",
   "execution_count": 164,
   "id": "1fc8dda9",
   "metadata": {},
   "outputs": [
    {
     "data": {
      "image/png": "[encoded data removed]",
      "text/plain": [
       "<Figure size 432x288 with 1 Axes>"
      ]
     },
     "metadata": {
      "needs_background": "light"
     },
     "output_type": "display_data"
    }
   ],
   "source": [
    "plt.plot(history.history['loss'])\n",
    "plt.plot(history.history['val_loss'])\n",
    "plt.title('Model Loss')\n",
    "plt.ylabel('Loss')\n",
    "plt.xlabel('epoch')\n",
    "plt.legend(['Train', 'Cross-Validation'], loc='upper left')\n",
    "plt.show()"
   ]
  },
  {
   "cell_type": "markdown",
   "id": "f1c07f84",
   "metadata": {},
   "source": [
    "## E: Predictions"
   ]
  },
  {
   "cell_type": "code",
   "execution_count": 165,
   "id": "70b20efb",
   "metadata": {},
   "outputs": [
    {
     "data": {
      "text/html": [
       "<div>\n",
       "<style scoped>\n",
       "    .dataframe tbody tr th:only-of-type {\n",
       "        vertical-align: middle;\n",
       "    }\n",
       "\n",
       "    .dataframe tbody tr th {\n",
       "        vertical-align: top;\n",
       "    }\n",
       "\n",
       "    .dataframe thead th {\n",
       "        text-align: right;\n",
       "    }\n",
       "</style>\n",
       "<table border=\"1\" class=\"dataframe\">\n",
       "  <thead>\n",
       "    <tr style=\"text-align: right;\">\n",
       "      <th></th>\n",
       "      <th>danceability</th>\n",
       "      <th>energy</th>\n",
       "      <th>loudness</th>\n",
       "      <th>acousticness</th>\n",
       "      <th>speechiness</th>\n",
       "      <th>valence</th>\n",
       "      <th>tempo</th>\n",
       "      <th>duration_in_min</th>\n",
       "      <th>time_signature</th>\n",
       "      <th>instrumentalness</th>\n",
       "      <th>key</th>\n",
       "      <th>class</th>\n",
       "    </tr>\n",
       "  </thead>\n",
       "  <tbody>\n",
       "    <tr>\n",
       "      <th>0</th>\n",
       "      <td>0.473</td>\n",
       "      <td>0.23</td>\n",
       "      <td>-1</td>\n",
       "      <td>0.33</td>\n",
       "      <td>0.02</td>\n",
       "      <td>0.32</td>\n",
       "      <td>0.1</td>\n",
       "      <td>7</td>\n",
       "      <td>3</td>\n",
       "      <td>0.23</td>\n",
       "      <td>3</td>\n",
       "      <td>2</td>\n",
       "    </tr>\n",
       "    <tr>\n",
       "      <th>1</th>\n",
       "      <td>0.550</td>\n",
       "      <td>0.33</td>\n",
       "      <td>-9</td>\n",
       "      <td>0.01</td>\n",
       "      <td>0.10</td>\n",
       "      <td>0.90</td>\n",
       "      <td>0.9</td>\n",
       "      <td>9</td>\n",
       "      <td>4</td>\n",
       "      <td>0.78</td>\n",
       "      <td>4</td>\n",
       "      <td>2</td>\n",
       "    </tr>\n",
       "  </tbody>\n",
       "</table>\n",
       "</div>"
      ],
      "text/plain": [
       "   danceability  energy  loudness  acousticness  speechiness  valence  tempo  \\\n",
       "0         0.473    0.23        -1          0.33         0.02     0.32    0.1   \n",
       "1         0.550    0.33        -9          0.01         0.10     0.90    0.9   \n",
       "\n",
       "   duration_in_min  time_signature  instrumentalness  key  class  \n",
       "0                7               3              0.23    3      2  \n",
       "1                9               4              0.78    4      2  "
      ]
     },
     "metadata": {},
     "output_type": "display_data"
    }
   ],
   "source": [
    "d = {'danceability': [0.473, 0.55], 'energy': [0.23, 0.33],\"loudness\":[-1,-9],\n",
    "\"acousticness\":[0.33,0.01],\"speechiness\":[0.02,0.1],\"valence\":[0.32,0.90],\"tempo\":[0.10,0.90],\n",
    "\"duration_in_min\":[7,9],\"time_signature\":[3,4],\"instrumentalness\":[0.23,0.78],\"key\":[3,4]}\n",
    "df = pd.DataFrame(data=d)\n",
    "df['class']=model1.predict(df).argmax(axis=1)\n",
    "display(df)"
   ]
  },
  {
   "cell_type": "markdown",
   "id": "3729df65",
   "metadata": {},
   "source": [
    "### Conclusion: Highest precision of Deep Neural Network Model is 70%"
   ]
  },
  {
   "cell_type": "markdown",
   "id": "b0e16863",
   "metadata": {},
   "source": [
    "<a id='5'><h2 style=\"background-color:lightpink;border-radius:5px;text-align:center;padding:7px;color:white;\"><font color=\"white\">5. Model Comparisons</h2>"
   ]
  },
  {
   "cell_type": "markdown",
   "id": "67d36fc7",
   "metadata": {},
   "source": [
    "<b>Let's compare the summary of all model results:</b>\n",
    "\n",
    "<table>\n",
    "    <thead>\n",
    "        <td>Fine- Tuned model of algorithms</td>\n",
    "        <td>Model information</td>\n",
    "        <td>Accuracy</td>\n",
    "        <td>Precision</td>\n",
    "        <td>Recall</td>\n",
    "        <td>f1-score</td>\n",
    "    </thead>\n",
    "    <tr>\n",
    "        <td>Decision Tree</td>\n",
    "        <td>DecisionTreeClassifier(criterion='entropy', max_depth=22, random_state=42)</td>\n",
    "        <td>0.65</td>\n",
    "        <td>0.64</td>\n",
    "        <td>0.65</td>\n",
    "        <td>0.64</td>\n",
    "    </tr>\n",
    "    <tr>\n",
    "        <td>K-Neighbors Classifier</td>\n",
    "        <td>KNeighborsClassifier(leaf_size=25, n_neighbors=1, p=1)</td>\n",
    "        <td>0.79</td>\n",
    "        <td>0.79</td>\n",
    "        <td>0.79</td>\n",
    "        <td>0.79</td>\n",
    "    </tr>\n",
    "    <tr>\n",
    "        <td>Random Forest Classifier</td>\n",
    "        <td>RandomForestClassifier(max_features='sqrt', n_estimators=1000)</td>\n",
    "        <td>0.80</td>\n",
    "        <td>0.80</td>\n",
    "        <td>0.80</td>\n",
    "        <td>0.80</td>\n",
    "    </tr>\n",
    "    <tr>\n",
    "        <td style=\"background-color:salmon;color:white;\"><b>XGBoost Classifier</b></td>\n",
    "        <td style=\"background-color:salmon;color:white;\"><b>XGBClassifier(base_score=0.5, booster='gbtree', colsample_bylevel=1,\n",
    "              colsample_bynode=1, colsample_bytree=0.7,\n",
    "              enable_categorical=False, gamma=0.0, gpu_id=-1,\n",
    "              importance_type=None, interaction_constraints='',\n",
    "              learning_rate=0.2, max_delta_step=0, max_depth=15,\n",
    "              min_child_weight=1, missing=nan, monotone_constraints='()',\n",
    "              n_estimators=100, n_jobs=16, num_parallel_tree=1,\n",
    "              objective='multi:softprob', predictor='auto', random_state=0,\n",
    "              reg_alpha=0, reg_lambda=1, scale_pos_weight=None, subsample=1,\n",
    "              tree_method='exact', validate_parameters=1, verbosity=None)</b></td>\n",
    "        <td style=\"background-color:salmon;color:white;\"><b>0.81</b></td>\n",
    "        <td style=\"background-color:salmon;color:white;\"><b>0.81</b></td>\n",
    "        <td style=\"background-color:salmon;color:white;\"><b>0.81</b></td>\n",
    "        <td style=\"background-color:salmon;color:white;\"><b>0.81</b></td>\n",
    "    </tr>\n",
    "    <tr>\n",
    "        <td>Gradient Boosting Classifier</td>\n",
    "        <td>GradientBoostingClassifier(learning_rate= 0.001, max_depth=9, n_estimators=1000, subsample=0.5)</td>\n",
    "        <td>0.59</td>\n",
    "        <td>0.58</td>\n",
    "        <td>0.59</td>\n",
    "        <td>0.57</td>\n",
    "    </tr>\n",
    "    <tr>\n",
    "        <td>Multinomial Naives Bayes</td>\n",
    "        <td>MultinomialNB()</td>\n",
    "        <td>0.41</td>\n",
    "        <td>0.38</td>\n",
    "        <td>0.41</td>\n",
    "        <td>0.38</td>\n",
    "    </tr>\n",
    "    <tr>\n",
    "        <td>SGD Classifier</td>\n",
    "        <td>SGDClassifier()</td>\n",
    "        <td>0.42</td>\n",
    "        <td>0.44</td>\n",
    "        <td>0.42</td>\n",
    "        <td>0.36</td>\n",
    "    </tr>\n",
    "    <tr>\n",
    "        <td>One-Vs-Rest Classifier</td>\n",
    "        <td>OneVsRestClassifier(estimator=LinearSVC(random_state=0))</td>\n",
    "        <td>0.47</td>\n",
    "        <td>0.42</td>\n",
    "        <td>0.42</td>\n",
    "        <td>0.36</td>\n",
    "    </tr>\n",
    "    <tr>\n",
    "        <td>Deep Neural Network Model</td>\n",
    "        <td>(Refer to model summary)</td>\n",
    "        <td>0.70</td>\n",
    "        <td>0.70</td>\n",
    "        <td>0.71</td>\n",
    "        <td>0.70</td>\n",
    "    </tr>\n",
    "</table>"
   ]
  },
  {
   "cell_type": "markdown",
   "id": "d6b528a9",
   "metadata": {},
   "source": [
    "<b>Conclusion: The best model to be used is XGBoost Classifier with the highest accuracy of 81%, precision of 81%, recall 0f 81% and f1-score of 81%.</b>"
   ]
  },
  {
   "cell_type": "markdown",
   "id": "3c57e423",
   "metadata": {},
   "source": [
    "<a id='6'><h2 style=\"background-color:lightpink;border-radius:5px;text-align:center;padding:7px;color:white;\"><font color=\"white\">6. Conclusion</h2>"
   ]
  },
  {
   "cell_type": "markdown",
   "id": "79a38573",
   "metadata": {},
   "source": [
    "For this report, I have gone through the whole data pipeline from data understanding, preparation, exploratory data analysis, modelling, evaluation, prediction and finally comparison of models. To optimize the performance of the model, I have tried many methodologies and switched the order of the data preparations and modelling preparation steps. The insights derived from a wide variety of models also contributed greatly to the overall objective, which is to classify songs by music characteristics. It is evident that different models with different parameters can indeed affect model performance. Additionally, the more models tested, the higher probability of finding a good model for our predictions. I hope this report will provide great value to you and assist you to find the best model that will derive the most accurate and precise predictions."
   ]
  }
 ],
 "metadata": {
  "kernelspec": {
   "display_name": "Python 3",
   "language": "python",
   "name": "python3"
  },
  "language_info": {
   "codemirror_mode": {
    "name": "ipython",
    "version": 3
   },
   "file_extension": ".py",
   "mimetype": "text/x-python",
   "name": "python",
   "nbconvert_exporter": "python",
   "pygments_lexer": "ipython3",
   "version": "3.8.8"
  }
 },
 "nbformat": 4,
 "nbformat_minor": 5
}
